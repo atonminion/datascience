{
 "cells": [
  {
   "cell_type": "markdown",
   "id": "a61ad272-bac8-4e4e-9c9f-9e0482e37ca3",
   "metadata": {},
   "source": [
    "# Titanic Binary Classification Tensorflow vs Random Forest Classifier"
   ]
  },
  {
   "cell_type": "code",
   "execution_count": 274,
   "id": "a9b9eda0-a0d6-43a5-a7d4-ed87b68ddc5b",
   "metadata": {},
   "outputs": [],
   "source": [
    "import timeit\n",
    "\n",
    "import tensorflow as tf\n",
    "import pandas as pd\n",
    "import matplotlib.pyplot as plt\n",
    "import seaborn as sns\n",
    "import numpy as np\n",
    "\n",
    "#Keras\n",
    "from tensorflow.keras.optimizers.legacy import Adam\n",
    "from keras.models import Sequential\n",
    "from keras.layers import Dense, Activation, Dropout, PReLU\n",
    "from keras.utils import to_categorical "
   ]
  },
  {
   "cell_type": "code",
   "execution_count": 275,
   "id": "2d59342c-e4c0-4c46-a684-abacc02300ec",
   "metadata": {},
   "outputs": [],
   "source": [
    "#Supress Notebook Warning\n",
    "import warnings\n",
    "warnings.filterwarnings('ignore')"
   ]
  },
  {
   "cell_type": "markdown",
   "id": "8b69f94c-4343-4849-a4d8-fd5250c39833",
   "metadata": {},
   "source": [
    "# Load Data to Dataframe"
   ]
  },
  {
   "cell_type": "code",
   "execution_count": 276,
   "id": "2350713c-7e86-4650-93ff-d3897a619138",
   "metadata": {},
   "outputs": [],
   "source": [
    "#Load Titanic Dataset\n",
    "df_train = pd.read_csv('https://storage.googleapis.com/tf-datasets/titanic/train.csv')\n",
    "df_eval = pd.read_csv('https://storage.googleapis.com/tf-datasets/titanic/eval.csv')"
   ]
  },
  {
   "cell_type": "markdown",
   "id": "fa38b9d7-ba1b-4522-98ce-b7a6c168b033",
   "metadata": {},
   "source": [
    "## Training Data EDA"
   ]
  },
  {
   "cell_type": "markdown",
   "id": "c8afdc26-371d-4efe-a751-d71c240d6bd8",
   "metadata": {},
   "source": [
    "### Training Data"
   ]
  },
  {
   "cell_type": "code",
   "execution_count": 277,
   "id": "5357d668-2fd4-435a-a487-975d728e93c7",
   "metadata": {},
   "outputs": [
    {
     "data": {
      "text/html": [
       "<div>\n",
       "<style scoped>\n",
       "    .dataframe tbody tr th:only-of-type {\n",
       "        vertical-align: middle;\n",
       "    }\n",
       "\n",
       "    .dataframe tbody tr th {\n",
       "        vertical-align: top;\n",
       "    }\n",
       "\n",
       "    .dataframe thead th {\n",
       "        text-align: right;\n",
       "    }\n",
       "</style>\n",
       "<table border=\"1\" class=\"dataframe\">\n",
       "  <thead>\n",
       "    <tr style=\"text-align: right;\">\n",
       "      <th></th>\n",
       "      <th>survived</th>\n",
       "      <th>sex</th>\n",
       "      <th>age</th>\n",
       "      <th>n_siblings_spouses</th>\n",
       "      <th>parch</th>\n",
       "      <th>fare</th>\n",
       "      <th>class</th>\n",
       "      <th>deck</th>\n",
       "      <th>embark_town</th>\n",
       "      <th>alone</th>\n",
       "    </tr>\n",
       "  </thead>\n",
       "  <tbody>\n",
       "    <tr>\n",
       "      <th>0</th>\n",
       "      <td>0</td>\n",
       "      <td>male</td>\n",
       "      <td>22.0</td>\n",
       "      <td>1</td>\n",
       "      <td>0</td>\n",
       "      <td>7.2500</td>\n",
       "      <td>Third</td>\n",
       "      <td>unknown</td>\n",
       "      <td>Southampton</td>\n",
       "      <td>n</td>\n",
       "    </tr>\n",
       "    <tr>\n",
       "      <th>1</th>\n",
       "      <td>1</td>\n",
       "      <td>female</td>\n",
       "      <td>38.0</td>\n",
       "      <td>1</td>\n",
       "      <td>0</td>\n",
       "      <td>71.2833</td>\n",
       "      <td>First</td>\n",
       "      <td>C</td>\n",
       "      <td>Cherbourg</td>\n",
       "      <td>n</td>\n",
       "    </tr>\n",
       "    <tr>\n",
       "      <th>2</th>\n",
       "      <td>1</td>\n",
       "      <td>female</td>\n",
       "      <td>26.0</td>\n",
       "      <td>0</td>\n",
       "      <td>0</td>\n",
       "      <td>7.9250</td>\n",
       "      <td>Third</td>\n",
       "      <td>unknown</td>\n",
       "      <td>Southampton</td>\n",
       "      <td>y</td>\n",
       "    </tr>\n",
       "    <tr>\n",
       "      <th>3</th>\n",
       "      <td>1</td>\n",
       "      <td>female</td>\n",
       "      <td>35.0</td>\n",
       "      <td>1</td>\n",
       "      <td>0</td>\n",
       "      <td>53.1000</td>\n",
       "      <td>First</td>\n",
       "      <td>C</td>\n",
       "      <td>Southampton</td>\n",
       "      <td>n</td>\n",
       "    </tr>\n",
       "    <tr>\n",
       "      <th>4</th>\n",
       "      <td>0</td>\n",
       "      <td>male</td>\n",
       "      <td>28.0</td>\n",
       "      <td>0</td>\n",
       "      <td>0</td>\n",
       "      <td>8.4583</td>\n",
       "      <td>Third</td>\n",
       "      <td>unknown</td>\n",
       "      <td>Queenstown</td>\n",
       "      <td>y</td>\n",
       "    </tr>\n",
       "  </tbody>\n",
       "</table>\n",
       "</div>"
      ],
      "text/plain": [
       "   survived     sex   age  n_siblings_spouses  parch     fare  class     deck  \\\n",
       "0         0    male  22.0                   1      0   7.2500  Third  unknown   \n",
       "1         1  female  38.0                   1      0  71.2833  First        C   \n",
       "2         1  female  26.0                   0      0   7.9250  Third  unknown   \n",
       "3         1  female  35.0                   1      0  53.1000  First        C   \n",
       "4         0    male  28.0                   0      0   8.4583  Third  unknown   \n",
       "\n",
       "   embark_town alone  \n",
       "0  Southampton     n  \n",
       "1    Cherbourg     n  \n",
       "2  Southampton     y  \n",
       "3  Southampton     n  \n",
       "4   Queenstown     y  "
      ]
     },
     "execution_count": 277,
     "metadata": {},
     "output_type": "execute_result"
    }
   ],
   "source": [
    "#View Training\n",
    "df_train.head()"
   ]
  },
  {
   "cell_type": "code",
   "execution_count": 278,
   "id": "c2dda2c4-2cc3-4a83-9304-dbfa8573b7de",
   "metadata": {},
   "outputs": [
    {
     "name": "stdout",
     "output_type": "stream",
     "text": [
      "<class 'pandas.core.frame.DataFrame'>\n",
      "RangeIndex: 627 entries, 0 to 626\n",
      "Data columns (total 10 columns):\n",
      " #   Column              Non-Null Count  Dtype  \n",
      "---  ------              --------------  -----  \n",
      " 0   survived            627 non-null    int64  \n",
      " 1   sex                 627 non-null    object \n",
      " 2   age                 627 non-null    float64\n",
      " 3   n_siblings_spouses  627 non-null    int64  \n",
      " 4   parch               627 non-null    int64  \n",
      " 5   fare                627 non-null    float64\n",
      " 6   class               627 non-null    object \n",
      " 7   deck                627 non-null    object \n",
      " 8   embark_town         627 non-null    object \n",
      " 9   alone               627 non-null    object \n",
      "dtypes: float64(2), int64(3), object(5)\n",
      "memory usage: 49.1+ KB\n"
     ]
    }
   ],
   "source": [
    "df_train.info()"
   ]
  },
  {
   "cell_type": "code",
   "execution_count": 279,
   "id": "5510e94f-9f2d-47f2-a02b-9312f9d063c6",
   "metadata": {},
   "outputs": [
    {
     "data": {
      "text/plain": [
       "survived              0\n",
       "sex                   0\n",
       "age                   0\n",
       "n_siblings_spouses    0\n",
       "parch                 0\n",
       "fare                  0\n",
       "class                 0\n",
       "deck                  0\n",
       "embark_town           0\n",
       "alone                 0\n",
       "dtype: int64"
      ]
     },
     "execution_count": 279,
     "metadata": {},
     "output_type": "execute_result"
    }
   ],
   "source": [
    "df_train.isna().sum()"
   ]
  },
  {
   "cell_type": "code",
   "execution_count": 280,
   "id": "14d0da4b-ceb5-48c1-bb6f-f392beca3c2f",
   "metadata": {},
   "outputs": [
    {
     "data": {
      "text/html": [
       "<div>\n",
       "<style scoped>\n",
       "    .dataframe tbody tr th:only-of-type {\n",
       "        vertical-align: middle;\n",
       "    }\n",
       "\n",
       "    .dataframe tbody tr th {\n",
       "        vertical-align: top;\n",
       "    }\n",
       "\n",
       "    .dataframe thead th {\n",
       "        text-align: right;\n",
       "    }\n",
       "</style>\n",
       "<table border=\"1\" class=\"dataframe\">\n",
       "  <thead>\n",
       "    <tr style=\"text-align: right;\">\n",
       "      <th></th>\n",
       "      <th>survived</th>\n",
       "      <th>age</th>\n",
       "      <th>n_siblings_spouses</th>\n",
       "      <th>parch</th>\n",
       "      <th>fare</th>\n",
       "    </tr>\n",
       "  </thead>\n",
       "  <tbody>\n",
       "    <tr>\n",
       "      <th>count</th>\n",
       "      <td>627.000000</td>\n",
       "      <td>627.000000</td>\n",
       "      <td>627.000000</td>\n",
       "      <td>627.000000</td>\n",
       "      <td>627.000000</td>\n",
       "    </tr>\n",
       "    <tr>\n",
       "      <th>mean</th>\n",
       "      <td>0.387560</td>\n",
       "      <td>29.631308</td>\n",
       "      <td>0.545455</td>\n",
       "      <td>0.379585</td>\n",
       "      <td>34.385399</td>\n",
       "    </tr>\n",
       "    <tr>\n",
       "      <th>std</th>\n",
       "      <td>0.487582</td>\n",
       "      <td>12.511818</td>\n",
       "      <td>1.151090</td>\n",
       "      <td>0.792999</td>\n",
       "      <td>54.597730</td>\n",
       "    </tr>\n",
       "    <tr>\n",
       "      <th>min</th>\n",
       "      <td>0.000000</td>\n",
       "      <td>0.750000</td>\n",
       "      <td>0.000000</td>\n",
       "      <td>0.000000</td>\n",
       "      <td>0.000000</td>\n",
       "    </tr>\n",
       "    <tr>\n",
       "      <th>25%</th>\n",
       "      <td>0.000000</td>\n",
       "      <td>23.000000</td>\n",
       "      <td>0.000000</td>\n",
       "      <td>0.000000</td>\n",
       "      <td>7.895800</td>\n",
       "    </tr>\n",
       "    <tr>\n",
       "      <th>50%</th>\n",
       "      <td>0.000000</td>\n",
       "      <td>28.000000</td>\n",
       "      <td>0.000000</td>\n",
       "      <td>0.000000</td>\n",
       "      <td>15.045800</td>\n",
       "    </tr>\n",
       "    <tr>\n",
       "      <th>75%</th>\n",
       "      <td>1.000000</td>\n",
       "      <td>35.000000</td>\n",
       "      <td>1.000000</td>\n",
       "      <td>0.000000</td>\n",
       "      <td>31.387500</td>\n",
       "    </tr>\n",
       "    <tr>\n",
       "      <th>max</th>\n",
       "      <td>1.000000</td>\n",
       "      <td>80.000000</td>\n",
       "      <td>8.000000</td>\n",
       "      <td>5.000000</td>\n",
       "      <td>512.329200</td>\n",
       "    </tr>\n",
       "  </tbody>\n",
       "</table>\n",
       "</div>"
      ],
      "text/plain": [
       "         survived         age  n_siblings_spouses       parch        fare\n",
       "count  627.000000  627.000000          627.000000  627.000000  627.000000\n",
       "mean     0.387560   29.631308            0.545455    0.379585   34.385399\n",
       "std      0.487582   12.511818            1.151090    0.792999   54.597730\n",
       "min      0.000000    0.750000            0.000000    0.000000    0.000000\n",
       "25%      0.000000   23.000000            0.000000    0.000000    7.895800\n",
       "50%      0.000000   28.000000            0.000000    0.000000   15.045800\n",
       "75%      1.000000   35.000000            1.000000    0.000000   31.387500\n",
       "max      1.000000   80.000000            8.000000    5.000000  512.329200"
      ]
     },
     "execution_count": 280,
     "metadata": {},
     "output_type": "execute_result"
    }
   ],
   "source": [
    "df_train.describe()"
   ]
  },
  {
   "cell_type": "code",
   "execution_count": 281,
   "id": "0fa46660-9082-461f-9db2-41c62092900e",
   "metadata": {},
   "outputs": [
    {
     "data": {
      "text/plain": [
       "0    384\n",
       "1    243\n",
       "Name: survived, dtype: int64"
      ]
     },
     "execution_count": 281,
     "metadata": {},
     "output_type": "execute_result"
    }
   ],
   "source": [
    "#Check for Imbalance data.\n",
    "df_train['survived'].value_counts()"
   ]
  },
  {
   "cell_type": "code",
   "execution_count": 282,
   "id": "2338f8de-719e-428e-87b6-416aa51f03cb",
   "metadata": {},
   "outputs": [
    {
     "data": {
      "text/plain": [
       "<AxesSubplot: ylabel='sex'>"
      ]
     },
     "execution_count": 282,
     "metadata": {},
     "output_type": "execute_result"
    },
    {
     "data": {
      "image/png": "[encoded data removed]",
      "text/plain": [
       "<Figure size 2000x1000 with 6 Axes>"
      ]
     },
     "metadata": {},
     "output_type": "display_data"
    }
   ],
   "source": [
    "fig,ax = plt.subplots(3,2,figsize=(20,10))\n",
    "df_train['age'].hist(bins=20,ax=ax[0,0])\n",
    "df_train['sex'].value_counts().plot(kind='barh',ax=ax[0,1])\n",
    "df_train['class'].value_counts().plot(kind='barh',ax=ax[1,0])\n",
    "df_train['deck'].value_counts().plot(kind='barh',ax=ax[1,1])\n",
    "df_train['embark_town'].value_counts().plot(kind='barh',ax=ax[2,0])\n",
    "df_train.groupby('sex')['survived'].mean().plot(kind='barh',ax=ax[2,1])"
   ]
  },
  {
   "cell_type": "markdown",
   "id": "120c760c-7f66-4351-a79a-af8a0677ca2d",
   "metadata": {},
   "source": [
    "From above analysis :\n",
    "1. Training data is not balanced. We will do SMOTE after Train test split\n",
    "2. Most of the passenger population are male with age in their 20ish\n",
    "3. There are more Third class passenger than first or second\n",
    "4. Lot's of deck information are not recorded. (Looking at the big number of Unknown deck)\n",
    "5. Most of the passenger embarked from southampton\n",
    "6. Female has a higher chance of survival than male."
   ]
  },
  {
   "cell_type": "markdown",
   "id": "ee1f2338-d4c0-49e5-96e7-0745b6d7a149",
   "metadata": {},
   "source": [
    "## X & y Split "
   ]
  },
  {
   "cell_type": "code",
   "execution_count": 283,
   "id": "7eb90384-431a-4e98-8fd5-e0638f9ee51a",
   "metadata": {},
   "outputs": [],
   "source": [
    "def X_y_split(df):\n",
    "    X = df_train.drop(['survived'],axis=1)\n",
    "    y = df_train[['survived']]\n",
    "    return X,y.astype('float32')"
   ]
  },
  {
   "cell_type": "code",
   "execution_count": 284,
   "id": "dff747a6-6ceb-479e-92af-782305da2c13",
   "metadata": {},
   "outputs": [],
   "source": [
    "X,y = X_y_split(df_train)"
   ]
  },
  {
   "cell_type": "markdown",
   "id": "dcaf8fce-53f9-4ec7-a7f0-85dcbafba69d",
   "metadata": {},
   "source": [
    "## Encode X data"
   ]
  },
  {
   "cell_type": "code",
   "execution_count": 285,
   "id": "661dd4b8-e27f-4819-afd4-6fa1f495b33a",
   "metadata": {},
   "outputs": [
    {
     "data": {
      "text/html": [
       "<div>\n",
       "<style scoped>\n",
       "    .dataframe tbody tr th:only-of-type {\n",
       "        vertical-align: middle;\n",
       "    }\n",
       "\n",
       "    .dataframe tbody tr th {\n",
       "        vertical-align: top;\n",
       "    }\n",
       "\n",
       "    .dataframe thead th {\n",
       "        text-align: right;\n",
       "    }\n",
       "</style>\n",
       "<table border=\"1\" class=\"dataframe\">\n",
       "  <thead>\n",
       "    <tr style=\"text-align: right;\">\n",
       "      <th></th>\n",
       "      <th>survived</th>\n",
       "      <th>sex</th>\n",
       "      <th>age</th>\n",
       "      <th>n_siblings_spouses</th>\n",
       "      <th>parch</th>\n",
       "      <th>fare</th>\n",
       "      <th>class</th>\n",
       "      <th>deck</th>\n",
       "      <th>embark_town</th>\n",
       "      <th>alone</th>\n",
       "    </tr>\n",
       "  </thead>\n",
       "  <tbody>\n",
       "    <tr>\n",
       "      <th>0</th>\n",
       "      <td>0</td>\n",
       "      <td>male</td>\n",
       "      <td>22.0</td>\n",
       "      <td>1</td>\n",
       "      <td>0</td>\n",
       "      <td>7.2500</td>\n",
       "      <td>Third</td>\n",
       "      <td>unknown</td>\n",
       "      <td>Southampton</td>\n",
       "      <td>n</td>\n",
       "    </tr>\n",
       "    <tr>\n",
       "      <th>1</th>\n",
       "      <td>1</td>\n",
       "      <td>female</td>\n",
       "      <td>38.0</td>\n",
       "      <td>1</td>\n",
       "      <td>0</td>\n",
       "      <td>71.2833</td>\n",
       "      <td>First</td>\n",
       "      <td>C</td>\n",
       "      <td>Cherbourg</td>\n",
       "      <td>n</td>\n",
       "    </tr>\n",
       "    <tr>\n",
       "      <th>2</th>\n",
       "      <td>1</td>\n",
       "      <td>female</td>\n",
       "      <td>26.0</td>\n",
       "      <td>0</td>\n",
       "      <td>0</td>\n",
       "      <td>7.9250</td>\n",
       "      <td>Third</td>\n",
       "      <td>unknown</td>\n",
       "      <td>Southampton</td>\n",
       "      <td>y</td>\n",
       "    </tr>\n",
       "    <tr>\n",
       "      <th>3</th>\n",
       "      <td>1</td>\n",
       "      <td>female</td>\n",
       "      <td>35.0</td>\n",
       "      <td>1</td>\n",
       "      <td>0</td>\n",
       "      <td>53.1000</td>\n",
       "      <td>First</td>\n",
       "      <td>C</td>\n",
       "      <td>Southampton</td>\n",
       "      <td>n</td>\n",
       "    </tr>\n",
       "    <tr>\n",
       "      <th>4</th>\n",
       "      <td>0</td>\n",
       "      <td>male</td>\n",
       "      <td>28.0</td>\n",
       "      <td>0</td>\n",
       "      <td>0</td>\n",
       "      <td>8.4583</td>\n",
       "      <td>Third</td>\n",
       "      <td>unknown</td>\n",
       "      <td>Queenstown</td>\n",
       "      <td>y</td>\n",
       "    </tr>\n",
       "  </tbody>\n",
       "</table>\n",
       "</div>"
      ],
      "text/plain": [
       "   survived     sex   age  n_siblings_spouses  parch     fare  class     deck  \\\n",
       "0         0    male  22.0                   1      0   7.2500  Third  unknown   \n",
       "1         1  female  38.0                   1      0  71.2833  First        C   \n",
       "2         1  female  26.0                   0      0   7.9250  Third  unknown   \n",
       "3         1  female  35.0                   1      0  53.1000  First        C   \n",
       "4         0    male  28.0                   0      0   8.4583  Third  unknown   \n",
       "\n",
       "   embark_town alone  \n",
       "0  Southampton     n  \n",
       "1    Cherbourg     n  \n",
       "2  Southampton     y  \n",
       "3  Southampton     n  \n",
       "4   Queenstown     y  "
      ]
     },
     "execution_count": 285,
     "metadata": {},
     "output_type": "execute_result"
    }
   ],
   "source": [
    "df_train.head()"
   ]
  },
  {
   "cell_type": "markdown",
   "id": "51d4a0d9-815e-4567-abb8-d93563fc907f",
   "metadata": {},
   "source": [
    "#### Prepare Functions to Encode X Data"
   ]
  },
  {
   "cell_type": "code",
   "execution_count": 286,
   "id": "c29e4781-f401-463c-8ac5-4d0efee2f44c",
   "metadata": {},
   "outputs": [],
   "source": [
    "import category_encoders as ce\n",
    "\n",
    "def binary_enc(X,cols):\n",
    "    ce_binary = ce.BinaryEncoder(cols=cols)\n",
    "    return ce_binary.fit_transform(X)\n",
    "\n",
    "def onehot_enc(X,cols):\n",
    "    ce_onehot = ce.OneHotEncoder(cols=cols)\n",
    "    return ce_onehot.fit_transform(X)"
   ]
  },
  {
   "cell_type": "code",
   "execution_count": 287,
   "id": "6d69c58f-ba18-4e87-b415-8feee8f664a8",
   "metadata": {},
   "outputs": [],
   "source": [
    "def enc_X(X):\n",
    "    binary = ['sex','alone']\n",
    "    one_hot = ['embark_town','class','deck']\n",
    "    X_enc = binary_enc(X,binary)\n",
    "    X_enc = onehot_enc(X_enc,one_hot)\n",
    "    return X_enc.astype('float32')"
   ]
  },
  {
   "cell_type": "code",
   "execution_count": 288,
   "id": "97798186-db4f-4481-88ce-5d92093a84cf",
   "metadata": {},
   "outputs": [
    {
     "data": {
      "text/html": [
       "<div>\n",
       "<style scoped>\n",
       "    .dataframe tbody tr th:only-of-type {\n",
       "        vertical-align: middle;\n",
       "    }\n",
       "\n",
       "    .dataframe tbody tr th {\n",
       "        vertical-align: top;\n",
       "    }\n",
       "\n",
       "    .dataframe thead th {\n",
       "        text-align: right;\n",
       "    }\n",
       "</style>\n",
       "<table border=\"1\" class=\"dataframe\">\n",
       "  <thead>\n",
       "    <tr style=\"text-align: right;\">\n",
       "      <th></th>\n",
       "      <th>sex_0</th>\n",
       "      <th>sex_1</th>\n",
       "      <th>age</th>\n",
       "      <th>n_siblings_spouses</th>\n",
       "      <th>parch</th>\n",
       "      <th>fare</th>\n",
       "      <th>class_1</th>\n",
       "      <th>class_2</th>\n",
       "      <th>class_3</th>\n",
       "      <th>deck_1</th>\n",
       "      <th>...</th>\n",
       "      <th>deck_5</th>\n",
       "      <th>deck_6</th>\n",
       "      <th>deck_7</th>\n",
       "      <th>deck_8</th>\n",
       "      <th>embark_town_1</th>\n",
       "      <th>embark_town_2</th>\n",
       "      <th>embark_town_3</th>\n",
       "      <th>embark_town_4</th>\n",
       "      <th>alone_0</th>\n",
       "      <th>alone_1</th>\n",
       "    </tr>\n",
       "  </thead>\n",
       "  <tbody>\n",
       "    <tr>\n",
       "      <th>0</th>\n",
       "      <td>0.0</td>\n",
       "      <td>1.0</td>\n",
       "      <td>22.0</td>\n",
       "      <td>1.0</td>\n",
       "      <td>0.0</td>\n",
       "      <td>7.250000</td>\n",
       "      <td>1.0</td>\n",
       "      <td>0.0</td>\n",
       "      <td>0.0</td>\n",
       "      <td>1.0</td>\n",
       "      <td>...</td>\n",
       "      <td>0.0</td>\n",
       "      <td>0.0</td>\n",
       "      <td>0.0</td>\n",
       "      <td>0.0</td>\n",
       "      <td>1.0</td>\n",
       "      <td>0.0</td>\n",
       "      <td>0.0</td>\n",
       "      <td>0.0</td>\n",
       "      <td>0.0</td>\n",
       "      <td>1.0</td>\n",
       "    </tr>\n",
       "    <tr>\n",
       "      <th>1</th>\n",
       "      <td>1.0</td>\n",
       "      <td>0.0</td>\n",
       "      <td>38.0</td>\n",
       "      <td>1.0</td>\n",
       "      <td>0.0</td>\n",
       "      <td>71.283302</td>\n",
       "      <td>0.0</td>\n",
       "      <td>1.0</td>\n",
       "      <td>0.0</td>\n",
       "      <td>0.0</td>\n",
       "      <td>...</td>\n",
       "      <td>0.0</td>\n",
       "      <td>0.0</td>\n",
       "      <td>0.0</td>\n",
       "      <td>0.0</td>\n",
       "      <td>0.0</td>\n",
       "      <td>1.0</td>\n",
       "      <td>0.0</td>\n",
       "      <td>0.0</td>\n",
       "      <td>0.0</td>\n",
       "      <td>1.0</td>\n",
       "    </tr>\n",
       "    <tr>\n",
       "      <th>2</th>\n",
       "      <td>1.0</td>\n",
       "      <td>0.0</td>\n",
       "      <td>26.0</td>\n",
       "      <td>0.0</td>\n",
       "      <td>0.0</td>\n",
       "      <td>7.925000</td>\n",
       "      <td>1.0</td>\n",
       "      <td>0.0</td>\n",
       "      <td>0.0</td>\n",
       "      <td>1.0</td>\n",
       "      <td>...</td>\n",
       "      <td>0.0</td>\n",
       "      <td>0.0</td>\n",
       "      <td>0.0</td>\n",
       "      <td>0.0</td>\n",
       "      <td>1.0</td>\n",
       "      <td>0.0</td>\n",
       "      <td>0.0</td>\n",
       "      <td>0.0</td>\n",
       "      <td>1.0</td>\n",
       "      <td>0.0</td>\n",
       "    </tr>\n",
       "    <tr>\n",
       "      <th>3</th>\n",
       "      <td>1.0</td>\n",
       "      <td>0.0</td>\n",
       "      <td>35.0</td>\n",
       "      <td>1.0</td>\n",
       "      <td>0.0</td>\n",
       "      <td>53.099998</td>\n",
       "      <td>0.0</td>\n",
       "      <td>1.0</td>\n",
       "      <td>0.0</td>\n",
       "      <td>0.0</td>\n",
       "      <td>...</td>\n",
       "      <td>0.0</td>\n",
       "      <td>0.0</td>\n",
       "      <td>0.0</td>\n",
       "      <td>0.0</td>\n",
       "      <td>1.0</td>\n",
       "      <td>0.0</td>\n",
       "      <td>0.0</td>\n",
       "      <td>0.0</td>\n",
       "      <td>0.0</td>\n",
       "      <td>1.0</td>\n",
       "    </tr>\n",
       "    <tr>\n",
       "      <th>4</th>\n",
       "      <td>0.0</td>\n",
       "      <td>1.0</td>\n",
       "      <td>28.0</td>\n",
       "      <td>0.0</td>\n",
       "      <td>0.0</td>\n",
       "      <td>8.458300</td>\n",
       "      <td>1.0</td>\n",
       "      <td>0.0</td>\n",
       "      <td>0.0</td>\n",
       "      <td>1.0</td>\n",
       "      <td>...</td>\n",
       "      <td>0.0</td>\n",
       "      <td>0.0</td>\n",
       "      <td>0.0</td>\n",
       "      <td>0.0</td>\n",
       "      <td>0.0</td>\n",
       "      <td>0.0</td>\n",
       "      <td>1.0</td>\n",
       "      <td>0.0</td>\n",
       "      <td>1.0</td>\n",
       "      <td>0.0</td>\n",
       "    </tr>\n",
       "  </tbody>\n",
       "</table>\n",
       "<p>5 rows × 23 columns</p>\n",
       "</div>"
      ],
      "text/plain": [
       "   sex_0  sex_1   age  n_siblings_spouses  parch       fare  class_1  class_2  \\\n",
       "0    0.0    1.0  22.0                 1.0    0.0   7.250000      1.0      0.0   \n",
       "1    1.0    0.0  38.0                 1.0    0.0  71.283302      0.0      1.0   \n",
       "2    1.0    0.0  26.0                 0.0    0.0   7.925000      1.0      0.0   \n",
       "3    1.0    0.0  35.0                 1.0    0.0  53.099998      0.0      1.0   \n",
       "4    0.0    1.0  28.0                 0.0    0.0   8.458300      1.0      0.0   \n",
       "\n",
       "   class_3  deck_1  ...  deck_5  deck_6  deck_7  deck_8  embark_town_1  \\\n",
       "0      0.0     1.0  ...     0.0     0.0     0.0     0.0            1.0   \n",
       "1      0.0     0.0  ...     0.0     0.0     0.0     0.0            0.0   \n",
       "2      0.0     1.0  ...     0.0     0.0     0.0     0.0            1.0   \n",
       "3      0.0     0.0  ...     0.0     0.0     0.0     0.0            1.0   \n",
       "4      0.0     1.0  ...     0.0     0.0     0.0     0.0            0.0   \n",
       "\n",
       "   embark_town_2  embark_town_3  embark_town_4  alone_0  alone_1  \n",
       "0            0.0            0.0            0.0      0.0      1.0  \n",
       "1            1.0            0.0            0.0      0.0      1.0  \n",
       "2            0.0            0.0            0.0      1.0      0.0  \n",
       "3            0.0            0.0            0.0      0.0      1.0  \n",
       "4            0.0            1.0            0.0      1.0      0.0  \n",
       "\n",
       "[5 rows x 23 columns]"
      ]
     },
     "execution_count": 288,
     "metadata": {},
     "output_type": "execute_result"
    }
   ],
   "source": [
    "X_enc = enc_X(X)\n",
    "X_enc.head()"
   ]
  },
  {
   "cell_type": "markdown",
   "id": "e4e095ff-ed80-4cd0-8352-377958dc19ce",
   "metadata": {
    "tags": []
   },
   "source": [
    "## Prepare Tensorflow Model"
   ]
  },
  {
   "cell_type": "code",
   "execution_count": 289,
   "id": "9935c645-edae-4471-a62f-3d1672dde102",
   "metadata": {},
   "outputs": [],
   "source": [
    "#Get X Input Shape\n",
    "inp_shape = len(X_enc.axes[1])"
   ]
  },
  {
   "cell_type": "code",
   "execution_count": 290,
   "id": "5b219e94-dd26-492b-b767-498985f864ec",
   "metadata": {},
   "outputs": [],
   "source": [
    "def keras_model():\n",
    "    model = Sequential()\n",
    "    model.add(Dense(inp_shape * 2,input_shape=(inp_shape,),activation='relu'))\n",
    "    model.add(Dense(1,activation='sigmoid'))\n",
    "    model.compile(optimizer='adam',\n",
    "                  loss=tf.keras.losses.BinaryCrossentropy(from_logits=False),\n",
    "                  metrics=['accuracy'])\n",
    "\n",
    "    return model"
   ]
  },
  {
   "cell_type": "markdown",
   "id": "8e3d184c-4a45-4768-b0f1-8503f814beb1",
   "metadata": {},
   "source": [
    "## Balancing Dataset"
   ]
  },
  {
   "cell_type": "code",
   "execution_count": 291,
   "id": "3b70aebc-2617-43df-ba82-291642401499",
   "metadata": {},
   "outputs": [],
   "source": [
    "from sklearn.model_selection import train_test_split\n",
    "from imblearn.over_sampling import SMOTE\n",
    "X_train,X_test,y_train,y_test = train_test_split(X_enc, y, test_size=0.33, random_state=42)\n",
    "sm = SMOTE(random_state=44)  #Data is not balanced in the EDA check hence we need to balanced the data\n",
    "X_train_o,y_train_o = sm.fit_resample(X_train, y_train)\n"
   ]
  },
  {
   "cell_type": "code",
   "execution_count": 292,
   "id": "664919d6-140b-4c2d-8013-280d4edefa62",
   "metadata": {},
   "outputs": [
    {
     "data": {
      "text/plain": [
       "(510, 23)"
      ]
     },
     "execution_count": 292,
     "metadata": {},
     "output_type": "execute_result"
    }
   ],
   "source": [
    "X_train_o.shape"
   ]
  },
  {
   "cell_type": "code",
   "execution_count": 293,
   "id": "c3944d47-929c-444c-9711-7806938c561e",
   "metadata": {},
   "outputs": [
    {
     "data": {
      "text/plain": [
       "(510, 1)"
      ]
     },
     "execution_count": 293,
     "metadata": {},
     "output_type": "execute_result"
    }
   ],
   "source": [
    "y_train_o.shape"
   ]
  },
  {
   "cell_type": "code",
   "execution_count": 294,
   "id": "c0ec40a3-c1f6-4eb6-ac07-38c5b2d253a4",
   "metadata": {},
   "outputs": [
    {
     "data": {
      "text/plain": [
       "survived\n",
       "0.0         255\n",
       "1.0         255\n",
       "dtype: int64"
      ]
     },
     "execution_count": 294,
     "metadata": {},
     "output_type": "execute_result"
    }
   ],
   "source": [
    "y_train_o.value_counts()"
   ]
  },
  {
   "cell_type": "markdown",
   "id": "c56be1d1-bcf4-4ba9-b979-5d4b2b5a92fe",
   "metadata": {},
   "source": [
    "## Train tensorflow Model"
   ]
  },
  {
   "cell_type": "code",
   "execution_count": 295,
   "id": "dc5ce045-1804-4062-b82f-09ccaad08454",
   "metadata": {},
   "outputs": [
    {
     "name": "stdout",
     "output_type": "stream",
     "text": [
      "Epoch 1/20\n",
      " 6/16 [==========>...................] - ETA: 0s - loss: 1.0033 - accuracy: 0.4844"
     ]
    },
    {
     "name": "stderr",
     "output_type": "stream",
     "text": [
      "2023-04-10 10:39:37.204034: I tensorflow/core/grappler/optimizers/custom_graph_optimizer_registry.cc:113] Plugin optimizer for device_type GPU is enabled.\n"
     ]
    },
    {
     "name": "stdout",
     "output_type": "stream",
     "text": [
      "16/16 [==============================] - 0s 13ms/step - loss: 0.7931 - accuracy: 0.5745\n",
      "Epoch 2/20\n",
      "16/16 [==============================] - 0s 6ms/step - loss: 0.5971 - accuracy: 0.7118\n",
      "Epoch 3/20\n",
      "16/16 [==============================] - 0s 6ms/step - loss: 0.5390 - accuracy: 0.7863\n",
      "Epoch 4/20\n",
      "16/16 [==============================] - 0s 5ms/step - loss: 0.5291 - accuracy: 0.7549\n",
      "Epoch 5/20\n",
      "16/16 [==============================] - 0s 6ms/step - loss: 0.5151 - accuracy: 0.8118\n",
      "Epoch 6/20\n",
      "16/16 [==============================] - 0s 5ms/step - loss: 0.4972 - accuracy: 0.8176\n",
      "Epoch 7/20\n",
      "16/16 [==============================] - 0s 5ms/step - loss: 0.4899 - accuracy: 0.8137\n",
      "Epoch 8/20\n",
      "16/16 [==============================] - 0s 5ms/step - loss: 0.4766 - accuracy: 0.8098\n",
      "Epoch 9/20\n",
      "16/16 [==============================] - 0s 5ms/step - loss: 0.4694 - accuracy: 0.8176\n",
      "Epoch 10/20\n",
      "16/16 [==============================] - 0s 5ms/step - loss: 0.4654 - accuracy: 0.8137\n",
      "Epoch 11/20\n",
      "16/16 [==============================] - 0s 5ms/step - loss: 0.4550 - accuracy: 0.8137\n",
      "Epoch 12/20\n",
      "16/16 [==============================] - 0s 5ms/step - loss: 0.4496 - accuracy: 0.8039\n",
      "Epoch 13/20\n",
      "16/16 [==============================] - 0s 5ms/step - loss: 0.4618 - accuracy: 0.7941\n",
      "Epoch 14/20\n",
      "16/16 [==============================] - 0s 5ms/step - loss: 0.4344 - accuracy: 0.8216\n",
      "Epoch 15/20\n",
      "16/16 [==============================] - 0s 5ms/step - loss: 0.4307 - accuracy: 0.8216\n",
      "Epoch 16/20\n",
      "16/16 [==============================] - 0s 5ms/step - loss: 0.4227 - accuracy: 0.8314\n",
      "Epoch 17/20\n",
      "16/16 [==============================] - 0s 5ms/step - loss: 0.4190 - accuracy: 0.8333\n",
      "Epoch 18/20\n",
      "16/16 [==============================] - 0s 5ms/step - loss: 0.4160 - accuracy: 0.8294\n",
      "Epoch 19/20\n",
      "16/16 [==============================] - 0s 5ms/step - loss: 0.4165 - accuracy: 0.8314\n",
      "Epoch 20/20\n",
      "16/16 [==============================] - 0s 5ms/step - loss: 0.4137 - accuracy: 0.8275\n",
      "Total Runtime Train using Keras x Tensorflow : 2.0934952499997053 secs\n"
     ]
    }
   ],
   "source": [
    "start_time = timeit.default_timer()\n",
    "model=keras_model()\n",
    "model.fit(X_train_o, y_train_o, epochs=20)\n",
    "end_time = timeit.default_timer()\n",
    "print (f'Total Runtime Train using Keras x Tensorflow : {end_time-start_time} secs')"
   ]
  },
  {
   "cell_type": "code",
   "execution_count": 296,
   "id": "4341b21f-4db6-4bc7-a167-d4441de75a54",
   "metadata": {},
   "outputs": [
    {
     "name": "stderr",
     "output_type": "stream",
     "text": [
      "2023-04-10 10:39:39.185677: I tensorflow/core/grappler/optimizers/custom_graph_optimizer_registry.cc:113] Plugin optimizer for device_type GPU is enabled.\n"
     ]
    },
    {
     "data": {
      "text/plain": [
       "[0.4849368929862976, 0.8019323348999023]"
      ]
     },
     "execution_count": 296,
     "metadata": {},
     "output_type": "execute_result"
    }
   ],
   "source": [
    "model.evaluate(X_test,y_test,verbose=0)"
   ]
  },
  {
   "cell_type": "markdown",
   "id": "7fb3208b-0d28-4a34-ae80-417316805a06",
   "metadata": {},
   "source": [
    "## Evaluate tensorflow model "
   ]
  },
  {
   "cell_type": "code",
   "execution_count": 297,
   "id": "5db36ecb-8fe1-4d9a-ae32-70626d611034",
   "metadata": {},
   "outputs": [
    {
     "data": {
      "text/html": [
       "<div>\n",
       "<style scoped>\n",
       "    .dataframe tbody tr th:only-of-type {\n",
       "        vertical-align: middle;\n",
       "    }\n",
       "\n",
       "    .dataframe tbody tr th {\n",
       "        vertical-align: top;\n",
       "    }\n",
       "\n",
       "    .dataframe thead th {\n",
       "        text-align: right;\n",
       "    }\n",
       "</style>\n",
       "<table border=\"1\" class=\"dataframe\">\n",
       "  <thead>\n",
       "    <tr style=\"text-align: right;\">\n",
       "      <th></th>\n",
       "      <th>survived</th>\n",
       "      <th>sex</th>\n",
       "      <th>age</th>\n",
       "      <th>n_siblings_spouses</th>\n",
       "      <th>parch</th>\n",
       "      <th>fare</th>\n",
       "      <th>class</th>\n",
       "      <th>deck</th>\n",
       "      <th>embark_town</th>\n",
       "      <th>alone</th>\n",
       "    </tr>\n",
       "  </thead>\n",
       "  <tbody>\n",
       "    <tr>\n",
       "      <th>0</th>\n",
       "      <td>0</td>\n",
       "      <td>male</td>\n",
       "      <td>35.0</td>\n",
       "      <td>0</td>\n",
       "      <td>0</td>\n",
       "      <td>8.0500</td>\n",
       "      <td>Third</td>\n",
       "      <td>unknown</td>\n",
       "      <td>Southampton</td>\n",
       "      <td>y</td>\n",
       "    </tr>\n",
       "    <tr>\n",
       "      <th>1</th>\n",
       "      <td>0</td>\n",
       "      <td>male</td>\n",
       "      <td>54.0</td>\n",
       "      <td>0</td>\n",
       "      <td>0</td>\n",
       "      <td>51.8625</td>\n",
       "      <td>First</td>\n",
       "      <td>E</td>\n",
       "      <td>Southampton</td>\n",
       "      <td>y</td>\n",
       "    </tr>\n",
       "    <tr>\n",
       "      <th>2</th>\n",
       "      <td>1</td>\n",
       "      <td>female</td>\n",
       "      <td>58.0</td>\n",
       "      <td>0</td>\n",
       "      <td>0</td>\n",
       "      <td>26.5500</td>\n",
       "      <td>First</td>\n",
       "      <td>C</td>\n",
       "      <td>Southampton</td>\n",
       "      <td>y</td>\n",
       "    </tr>\n",
       "    <tr>\n",
       "      <th>3</th>\n",
       "      <td>1</td>\n",
       "      <td>female</td>\n",
       "      <td>55.0</td>\n",
       "      <td>0</td>\n",
       "      <td>0</td>\n",
       "      <td>16.0000</td>\n",
       "      <td>Second</td>\n",
       "      <td>unknown</td>\n",
       "      <td>Southampton</td>\n",
       "      <td>y</td>\n",
       "    </tr>\n",
       "    <tr>\n",
       "      <th>4</th>\n",
       "      <td>1</td>\n",
       "      <td>male</td>\n",
       "      <td>34.0</td>\n",
       "      <td>0</td>\n",
       "      <td>0</td>\n",
       "      <td>13.0000</td>\n",
       "      <td>Second</td>\n",
       "      <td>D</td>\n",
       "      <td>Southampton</td>\n",
       "      <td>y</td>\n",
       "    </tr>\n",
       "  </tbody>\n",
       "</table>\n",
       "</div>"
      ],
      "text/plain": [
       "   survived     sex   age  n_siblings_spouses  parch     fare   class  \\\n",
       "0         0    male  35.0                   0      0   8.0500   Third   \n",
       "1         0    male  54.0                   0      0  51.8625   First   \n",
       "2         1  female  58.0                   0      0  26.5500   First   \n",
       "3         1  female  55.0                   0      0  16.0000  Second   \n",
       "4         1    male  34.0                   0      0  13.0000  Second   \n",
       "\n",
       "      deck  embark_town alone  \n",
       "0  unknown  Southampton     y  \n",
       "1        E  Southampton     y  \n",
       "2        C  Southampton     y  \n",
       "3  unknown  Southampton     y  \n",
       "4        D  Southampton     y  "
      ]
     },
     "execution_count": 297,
     "metadata": {},
     "output_type": "execute_result"
    }
   ],
   "source": [
    "df_eval.head()"
   ]
  },
  {
   "cell_type": "code",
   "execution_count": 298,
   "id": "a4d6a8b8-670b-4109-8744-9ad498c524b5",
   "metadata": {},
   "outputs": [],
   "source": [
    "X_eval,y_eval = X_y_split(df_eval)"
   ]
  },
  {
   "cell_type": "code",
   "execution_count": 299,
   "id": "ba608f17-2330-49f7-b01c-aa8adfa0e3ea",
   "metadata": {},
   "outputs": [],
   "source": [
    "X_eval = enc_X(X_eval)"
   ]
  },
  {
   "cell_type": "code",
   "execution_count": 300,
   "id": "590ede9c-0388-476e-a6ec-f41faa3e6fc3",
   "metadata": {},
   "outputs": [
    {
     "data": {
      "text/plain": [
       "[0.427184134721756, 0.8165869116783142]"
      ]
     },
     "execution_count": 300,
     "metadata": {},
     "output_type": "execute_result"
    }
   ],
   "source": [
    "model.evaluate(X_eval,y_eval,verbose=0)"
   ]
  },
  {
   "cell_type": "markdown",
   "id": "555db939-0a3c-4501-af78-a391fb56af74",
   "metadata": {},
   "source": [
    "# Train Random Forest Classifier"
   ]
  },
  {
   "cell_type": "markdown",
   "id": "437746cf-f48b-4363-96f4-5be30c482973",
   "metadata": {},
   "source": [
    "## Define method for Random Forest Classifier with Hyperparameter"
   ]
  },
  {
   "cell_type": "code",
   "execution_count": 301,
   "id": "6f285ddb-6d83-439b-916e-2c7b62035edb",
   "metadata": {},
   "outputs": [],
   "source": [
    "def get_confusion_matrix(y_test,y_pred):\n",
    "    return pd.crosstab(np.ravel(y_test),y_pred,rownames=['Actual'],colnames=['Predicted'])"
   ]
  },
  {
   "cell_type": "code",
   "execution_count": 302,
   "id": "eb7959d5-7775-4b10-a2af-53ba2b0d2014",
   "metadata": {},
   "outputs": [],
   "source": [
    "from sklearn.ensemble import RandomForestClassifier\n",
    "from sklearn.model_selection import GridSearchCV\n",
    "from sklearn.metrics import classification_report\n",
    "def rfc_hyperparameter(X,y,folds):\n",
    "    start_time = timeit.default_timer()\n",
    "    tune_param = {\n",
    "        'n_estimators':np.array([100,200,300]),\n",
    "        'max_depth' : np.array([None,101,151]),    \n",
    "        'min_samples_split' : np.array([3,4,6]),\n",
    "        'min_samples_leaf' : np.array([2])\n",
    "    }    \n",
    "    grid = GridSearchCV(estimator = RandomForestClassifier(n_jobs=-1),param_grid = tune_param,\n",
    "                        cv=folds,n_jobs= -1).fit(X,np.ravel(y)) \n",
    "    \n",
    "    y_predict = grid.predict(X)\n",
    "    end_time = timeit.default_timer()\n",
    "    print (f'Total Runtime Training using RFC model: {end_time-start_time} secs')\n",
    "    return grid, classification_report(y,y_predict,output_dict=True),classification_report(y,y_predict,output_dict=False),get_confusion_matrix(y,y_predict)"
   ]
  },
  {
   "cell_type": "markdown",
   "id": "a992b6b8-c331-4ba7-bae9-35c68dbbba99",
   "metadata": {},
   "source": [
    "## Start Train RFC Model"
   ]
  },
  {
   "cell_type": "code",
   "execution_count": 303,
   "id": "45d21f0d-04d1-4944-9d8e-240b56a2a880",
   "metadata": {},
   "outputs": [
    {
     "name": "stdout",
     "output_type": "stream",
     "text": [
      "Total Runtime Training using RFC model: 5.986218958000336 secs\n"
     ]
    }
   ],
   "source": [
    "rfc,clscore,clscore_print,conf_matrix= rfc_hyperparameter(X_train_o,y_train_o,5)"
   ]
  },
  {
   "cell_type": "code",
   "execution_count": 304,
   "id": "c40459df-6e88-4269-a6d0-b66c40a686fc",
   "metadata": {},
   "outputs": [
    {
     "name": "stdout",
     "output_type": "stream",
     "text": [
      "              precision    recall  f1-score   support\n",
      "\n",
      "         0.0       0.91      0.95      0.93       255\n",
      "         1.0       0.95      0.91      0.93       255\n",
      "\n",
      "    accuracy                           0.93       510\n",
      "   macro avg       0.93      0.93      0.93       510\n",
      "weighted avg       0.93      0.93      0.93       510\n",
      "\n"
     ]
    }
   ],
   "source": [
    "print(clscore_print)"
   ]
  },
  {
   "cell_type": "markdown",
   "id": "a5881484-3acb-4c86-93ca-40174c9ae025",
   "metadata": {},
   "source": [
    "## Evaluate RFC Model"
   ]
  },
  {
   "cell_type": "code",
   "execution_count": 305,
   "id": "5cef9838-bb90-4dee-a331-4425a6bdcfb3",
   "metadata": {},
   "outputs": [
    {
     "name": "stdout",
     "output_type": "stream",
     "text": [
      "              precision    recall  f1-score   support\n",
      "\n",
      "         0.0       0.88      0.92      0.90       384\n",
      "         1.0       0.86      0.79      0.83       243\n",
      "\n",
      "    accuracy                           0.87       627\n",
      "   macro avg       0.87      0.86      0.86       627\n",
      "weighted avg       0.87      0.87      0.87       627\n",
      "\n"
     ]
    }
   ],
   "source": [
    "y_pred_ev = rfc.predict(X_eval)\n",
    "print(classification_report(y_eval,y_pred_ev,output_dict=False))"
   ]
  },
  {
   "cell_type": "markdown",
   "id": "98363039-4c58-4b0f-86bf-df82b554ed6f",
   "metadata": {},
   "source": [
    "# Conclusion"
   ]
  },
  {
   "cell_type": "markdown",
   "id": "28de954c-3083-48c8-90f6-1a48bb08b7ef",
   "metadata": {},
   "source": [
    "1. Using deep learning we are able to produce a model with accuracy 80+ % with a shorter period of time (2.09 secs)\n",
    "2. Random Forest model produce the highest accurarcy (90+%) during the data training but it dropped to 87% when we feed the model with the Evaluation data.\n",
    "3. Although the accuracy is the highest, RFC need almost 3x duration to train the model comparing with the Tensorflow deep learning"
   ]
  }
 ],
 "metadata": {
  "kernelspec": {
   "display_name": "Python 3 (ipykernel)",
   "language": "python",
   "name": "python3"
  },
  "language_info": {
   "codemirror_mode": {
    "name": "ipython",
    "version": 3
   },
   "file_extension": ".py",
   "mimetype": "text/x-python",
   "name": "python",
   "nbconvert_exporter": "python",
   "pygments_lexer": "ipython3",
   "version": "3.8.16"
  }
 },
 "nbformat": 4,
 "nbformat_minor": 5
}
