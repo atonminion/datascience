{
 "cells": [
  {
   "cell_type": "markdown",
   "id": "26904f16-c8f9-4ef2-b349-f448e5a5be59",
   "metadata": {},
   "source": [
    "# EDA - Data Check and Cleaning"
   ]
  },
  {
   "cell_type": "code",
   "execution_count": 1305,
   "id": "ed01e509-d45d-4555-9517-d50cbfa36d01",
   "metadata": {},
   "outputs": [],
   "source": [
    "#Import Library\n",
    "import pandas as pd\n",
    "import matplotlib.pyplot as plt\n",
    "import numpy as np\n",
    "import seaborn as sns\n",
    "%matplotlib inline"
   ]
  },
  {
   "cell_type": "code",
   "execution_count": 1306,
   "id": "8c3f0f59-1013-45b7-98b4-a0767a48558d",
   "metadata": {},
   "outputs": [],
   "source": [
    "#Warning suppression. Only how it once\n",
    "import warnings\n",
    "warnings.filterwarnings('ignore')"
   ]
  },
  {
   "cell_type": "code",
   "execution_count": 1307,
   "id": "9b99efe8-42a6-4ecc-80f8-7470c7b9ce4d",
   "metadata": {},
   "outputs": [],
   "source": [
    "#PD Options\n",
    "pd.set_option('display.max_columns', 40)"
   ]
  },
  {
   "cell_type": "markdown",
   "id": "e644b1c6-1428-4722-aa28-ddd5fa6ad5d0",
   "metadata": {},
   "source": [
    "## 1. Initial Problem Statement"
   ]
  },
  {
   "cell_type": "markdown",
   "id": "8c8392a9-85b5-49e0-a519-a8e7848a5609",
   "metadata": {},
   "source": [
    "Create a cross-sectional look at how car efficiencies have improved over the years. Predict future miles per gallon for models, brands, or car types."
   ]
  },
  {
   "cell_type": "markdown",
   "id": "520ceeee-670a-43b4-9223-4e012b285367",
   "metadata": {},
   "source": [
    "## 2. Inital End Goal"
   ]
  },
  {
   "cell_type": "markdown",
   "id": "e3f1ea42-462a-49d8-80ad-cc0d113ec1d0",
   "metadata": {},
   "source": [
    "1. Predict the miles per gallon of a given brand and car type.\n",
    "2. Predict Carbon impact given car brand and type"
   ]
  },
  {
   "cell_type": "markdown",
   "id": "4592f48c-4267-4bd1-9b8f-02aeac5672ed",
   "metadata": {},
   "source": [
    "## 3. Data Preparation"
   ]
  },
  {
   "cell_type": "markdown",
   "id": "58d55cb6-8c72-4790-921b-113a380d762e",
   "metadata": {},
   "source": [
    "### 3.1 Load data"
   ]
  },
  {
   "cell_type": "code",
   "execution_count": 1315,
   "id": "1497f2a5-1a5a-423d-a79d-f0da8bd5ae82",
   "metadata": {},
   "outputs": [
    {
     "data": {
      "text/html": [
       "<div>\n",
       "<style scoped>\n",
       "    .dataframe tbody tr th:only-of-type {\n",
       "        vertical-align: middle;\n",
       "    }\n",
       "\n",
       "    .dataframe tbody tr th {\n",
       "        vertical-align: top;\n",
       "    }\n",
       "\n",
       "    .dataframe thead th {\n",
       "        text-align: right;\n",
       "    }\n",
       "</style>\n",
       "<table border=\"1\" class=\"dataframe\">\n",
       "  <thead>\n",
       "    <tr style=\"text-align: right;\">\n",
       "      <th></th>\n",
       "      <th>Vehicle ID</th>\n",
       "      <th>Year</th>\n",
       "      <th>Make</th>\n",
       "      <th>Model</th>\n",
       "      <th>Class</th>\n",
       "      <th>Drive</th>\n",
       "      <th>Transmission</th>\n",
       "      <th>Transmission Descriptor</th>\n",
       "      <th>Engine Index</th>\n",
       "      <th>Engine Descriptor</th>\n",
       "      <th>Engine Cylinders</th>\n",
       "      <th>Engine Displacement</th>\n",
       "      <th>Turbocharger</th>\n",
       "      <th>Supercharger</th>\n",
       "      <th>Fuel Type</th>\n",
       "      <th>Fuel Type 1</th>\n",
       "      <th>Fuel Type 2</th>\n",
       "      <th>City MPG (FT1)</th>\n",
       "      <th>Unrounded City MPG (FT1)</th>\n",
       "      <th>City MPG (FT2)</th>\n",
       "      <th>...</th>\n",
       "      <th>Hatchback Luggage Volume</th>\n",
       "      <th>Start Stop Technology</th>\n",
       "      <th>Alternative Fuel/Technology</th>\n",
       "      <th>Electric Motor</th>\n",
       "      <th>Manufacturer Code</th>\n",
       "      <th>Gasoline/Electricity Blended (CD)</th>\n",
       "      <th>Vehicle Charger</th>\n",
       "      <th>Alternate Charger</th>\n",
       "      <th>Hours to Charge (120V)</th>\n",
       "      <th>Hours to Charge (240V)</th>\n",
       "      <th>Hours to Charge (AC 240V)</th>\n",
       "      <th>Composite City MPG</th>\n",
       "      <th>Composite Highway MPG</th>\n",
       "      <th>Composite Combined MPG</th>\n",
       "      <th>Range (FT1)</th>\n",
       "      <th>City Range (FT1)</th>\n",
       "      <th>Highway Range (FT1)</th>\n",
       "      <th>Range (FT2)</th>\n",
       "      <th>City Range (FT2)</th>\n",
       "      <th>Highway Range (FT2)</th>\n",
       "    </tr>\n",
       "  </thead>\n",
       "  <tbody>\n",
       "    <tr>\n",
       "      <th>0</th>\n",
       "      <td>26587</td>\n",
       "      <td>1984</td>\n",
       "      <td>Alfa Romeo</td>\n",
       "      <td>GT V6 2.5</td>\n",
       "      <td>Minicompact Cars</td>\n",
       "      <td>NaN</td>\n",
       "      <td>Manual 5-Speed</td>\n",
       "      <td>NaN</td>\n",
       "      <td>9001</td>\n",
       "      <td>(FFS)</td>\n",
       "      <td>6.0</td>\n",
       "      <td>2.5</td>\n",
       "      <td>NaN</td>\n",
       "      <td>NaN</td>\n",
       "      <td>Regular</td>\n",
       "      <td>Regular Gasoline</td>\n",
       "      <td>NaN</td>\n",
       "      <td>17</td>\n",
       "      <td>0.0</td>\n",
       "      <td>0</td>\n",
       "      <td>...</td>\n",
       "      <td>0</td>\n",
       "      <td>NaN</td>\n",
       "      <td>NaN</td>\n",
       "      <td>NaN</td>\n",
       "      <td>NaN</td>\n",
       "      <td>False</td>\n",
       "      <td>NaN</td>\n",
       "      <td>NaN</td>\n",
       "      <td>0</td>\n",
       "      <td>0.0</td>\n",
       "      <td>0.0</td>\n",
       "      <td>0</td>\n",
       "      <td>0</td>\n",
       "      <td>0</td>\n",
       "      <td>0</td>\n",
       "      <td>0.0</td>\n",
       "      <td>0.0</td>\n",
       "      <td>NaN</td>\n",
       "      <td>0.0</td>\n",
       "      <td>0.0</td>\n",
       "    </tr>\n",
       "    <tr>\n",
       "      <th>1</th>\n",
       "      <td>27705</td>\n",
       "      <td>1984</td>\n",
       "      <td>Alfa Romeo</td>\n",
       "      <td>GT V6 2.5</td>\n",
       "      <td>Minicompact Cars</td>\n",
       "      <td>NaN</td>\n",
       "      <td>Manual 5-Speed</td>\n",
       "      <td>NaN</td>\n",
       "      <td>9005</td>\n",
       "      <td>(FFS) CA model</td>\n",
       "      <td>6.0</td>\n",
       "      <td>2.5</td>\n",
       "      <td>NaN</td>\n",
       "      <td>NaN</td>\n",
       "      <td>Regular</td>\n",
       "      <td>Regular Gasoline</td>\n",
       "      <td>NaN</td>\n",
       "      <td>17</td>\n",
       "      <td>0.0</td>\n",
       "      <td>0</td>\n",
       "      <td>...</td>\n",
       "      <td>0</td>\n",
       "      <td>NaN</td>\n",
       "      <td>NaN</td>\n",
       "      <td>NaN</td>\n",
       "      <td>NaN</td>\n",
       "      <td>False</td>\n",
       "      <td>NaN</td>\n",
       "      <td>NaN</td>\n",
       "      <td>0</td>\n",
       "      <td>0.0</td>\n",
       "      <td>0.0</td>\n",
       "      <td>0</td>\n",
       "      <td>0</td>\n",
       "      <td>0</td>\n",
       "      <td>0</td>\n",
       "      <td>0.0</td>\n",
       "      <td>0.0</td>\n",
       "      <td>NaN</td>\n",
       "      <td>0.0</td>\n",
       "      <td>0.0</td>\n",
       "    </tr>\n",
       "    <tr>\n",
       "      <th>2</th>\n",
       "      <td>26561</td>\n",
       "      <td>1984</td>\n",
       "      <td>Alfa Romeo</td>\n",
       "      <td>Spider Veloce 2000</td>\n",
       "      <td>Two Seaters</td>\n",
       "      <td>NaN</td>\n",
       "      <td>Manual 5-Speed</td>\n",
       "      <td>NaN</td>\n",
       "      <td>9002</td>\n",
       "      <td>(FFS)</td>\n",
       "      <td>4.0</td>\n",
       "      <td>2.0</td>\n",
       "      <td>NaN</td>\n",
       "      <td>NaN</td>\n",
       "      <td>Regular</td>\n",
       "      <td>Regular Gasoline</td>\n",
       "      <td>NaN</td>\n",
       "      <td>18</td>\n",
       "      <td>0.0</td>\n",
       "      <td>0</td>\n",
       "      <td>...</td>\n",
       "      <td>0</td>\n",
       "      <td>NaN</td>\n",
       "      <td>NaN</td>\n",
       "      <td>NaN</td>\n",
       "      <td>NaN</td>\n",
       "      <td>False</td>\n",
       "      <td>NaN</td>\n",
       "      <td>NaN</td>\n",
       "      <td>0</td>\n",
       "      <td>0.0</td>\n",
       "      <td>0.0</td>\n",
       "      <td>0</td>\n",
       "      <td>0</td>\n",
       "      <td>0</td>\n",
       "      <td>0</td>\n",
       "      <td>0.0</td>\n",
       "      <td>0.0</td>\n",
       "      <td>NaN</td>\n",
       "      <td>0.0</td>\n",
       "      <td>0.0</td>\n",
       "    </tr>\n",
       "    <tr>\n",
       "      <th>3</th>\n",
       "      <td>27681</td>\n",
       "      <td>1984</td>\n",
       "      <td>Alfa Romeo</td>\n",
       "      <td>Spider Veloce 2000</td>\n",
       "      <td>Two Seaters</td>\n",
       "      <td>NaN</td>\n",
       "      <td>Manual 5-Speed</td>\n",
       "      <td>NaN</td>\n",
       "      <td>9006</td>\n",
       "      <td>(FFS) CA model</td>\n",
       "      <td>4.0</td>\n",
       "      <td>2.0</td>\n",
       "      <td>NaN</td>\n",
       "      <td>NaN</td>\n",
       "      <td>Regular</td>\n",
       "      <td>Regular Gasoline</td>\n",
       "      <td>NaN</td>\n",
       "      <td>18</td>\n",
       "      <td>0.0</td>\n",
       "      <td>0</td>\n",
       "      <td>...</td>\n",
       "      <td>0</td>\n",
       "      <td>NaN</td>\n",
       "      <td>NaN</td>\n",
       "      <td>NaN</td>\n",
       "      <td>NaN</td>\n",
       "      <td>False</td>\n",
       "      <td>NaN</td>\n",
       "      <td>NaN</td>\n",
       "      <td>0</td>\n",
       "      <td>0.0</td>\n",
       "      <td>0.0</td>\n",
       "      <td>0</td>\n",
       "      <td>0</td>\n",
       "      <td>0</td>\n",
       "      <td>0</td>\n",
       "      <td>0.0</td>\n",
       "      <td>0.0</td>\n",
       "      <td>NaN</td>\n",
       "      <td>0.0</td>\n",
       "      <td>0.0</td>\n",
       "    </tr>\n",
       "    <tr>\n",
       "      <th>4</th>\n",
       "      <td>27550</td>\n",
       "      <td>1984</td>\n",
       "      <td>AM General</td>\n",
       "      <td>DJ Po Vehicle 2WD</td>\n",
       "      <td>Special Purpose Vehicle 2WD</td>\n",
       "      <td>2-Wheel Drive</td>\n",
       "      <td>Automatic 3-Speed</td>\n",
       "      <td>NaN</td>\n",
       "      <td>1830</td>\n",
       "      <td>(FFS)</td>\n",
       "      <td>4.0</td>\n",
       "      <td>2.5</td>\n",
       "      <td>NaN</td>\n",
       "      <td>NaN</td>\n",
       "      <td>Regular</td>\n",
       "      <td>Regular Gasoline</td>\n",
       "      <td>NaN</td>\n",
       "      <td>18</td>\n",
       "      <td>0.0</td>\n",
       "      <td>0</td>\n",
       "      <td>...</td>\n",
       "      <td>0</td>\n",
       "      <td>NaN</td>\n",
       "      <td>NaN</td>\n",
       "      <td>NaN</td>\n",
       "      <td>NaN</td>\n",
       "      <td>False</td>\n",
       "      <td>NaN</td>\n",
       "      <td>NaN</td>\n",
       "      <td>0</td>\n",
       "      <td>0.0</td>\n",
       "      <td>0.0</td>\n",
       "      <td>0</td>\n",
       "      <td>0</td>\n",
       "      <td>0</td>\n",
       "      <td>0</td>\n",
       "      <td>0.0</td>\n",
       "      <td>0.0</td>\n",
       "      <td>NaN</td>\n",
       "      <td>0.0</td>\n",
       "      <td>0.0</td>\n",
       "    </tr>\n",
       "  </tbody>\n",
       "</table>\n",
       "<p>5 rows × 81 columns</p>\n",
       "</div>"
      ],
      "text/plain": [
       "   Vehicle ID  Year        Make               Model  \\\n",
       "0       26587  1984  Alfa Romeo           GT V6 2.5   \n",
       "1       27705  1984  Alfa Romeo           GT V6 2.5   \n",
       "2       26561  1984  Alfa Romeo  Spider Veloce 2000   \n",
       "3       27681  1984  Alfa Romeo  Spider Veloce 2000   \n",
       "4       27550  1984  AM General   DJ Po Vehicle 2WD   \n",
       "\n",
       "                         Class          Drive       Transmission  \\\n",
       "0             Minicompact Cars            NaN     Manual 5-Speed   \n",
       "1             Minicompact Cars            NaN     Manual 5-Speed   \n",
       "2                  Two Seaters            NaN     Manual 5-Speed   \n",
       "3                  Two Seaters            NaN     Manual 5-Speed   \n",
       "4  Special Purpose Vehicle 2WD  2-Wheel Drive  Automatic 3-Speed   \n",
       "\n",
       "  Transmission Descriptor  Engine Index Engine Descriptor  Engine Cylinders  \\\n",
       "0                     NaN          9001             (FFS)               6.0   \n",
       "1                     NaN          9005    (FFS) CA model               6.0   \n",
       "2                     NaN          9002             (FFS)               4.0   \n",
       "3                     NaN          9006    (FFS) CA model               4.0   \n",
       "4                     NaN          1830             (FFS)               4.0   \n",
       "\n",
       "   Engine Displacement Turbocharger Supercharger Fuel Type       Fuel Type 1  \\\n",
       "0                  2.5          NaN          NaN   Regular  Regular Gasoline   \n",
       "1                  2.5          NaN          NaN   Regular  Regular Gasoline   \n",
       "2                  2.0          NaN          NaN   Regular  Regular Gasoline   \n",
       "3                  2.0          NaN          NaN   Regular  Regular Gasoline   \n",
       "4                  2.5          NaN          NaN   Regular  Regular Gasoline   \n",
       "\n",
       "  Fuel Type 2  City MPG (FT1)  Unrounded City MPG (FT1)  City MPG (FT2)  ...  \\\n",
       "0         NaN              17                       0.0               0  ...   \n",
       "1         NaN              17                       0.0               0  ...   \n",
       "2         NaN              18                       0.0               0  ...   \n",
       "3         NaN              18                       0.0               0  ...   \n",
       "4         NaN              18                       0.0               0  ...   \n",
       "\n",
       "   Hatchback Luggage Volume  Start Stop Technology  \\\n",
       "0                         0                    NaN   \n",
       "1                         0                    NaN   \n",
       "2                         0                    NaN   \n",
       "3                         0                    NaN   \n",
       "4                         0                    NaN   \n",
       "\n",
       "   Alternative Fuel/Technology  Electric Motor  Manufacturer Code  \\\n",
       "0                          NaN             NaN                NaN   \n",
       "1                          NaN             NaN                NaN   \n",
       "2                          NaN             NaN                NaN   \n",
       "3                          NaN             NaN                NaN   \n",
       "4                          NaN             NaN                NaN   \n",
       "\n",
       "   Gasoline/Electricity Blended (CD)  Vehicle Charger  Alternate Charger  \\\n",
       "0                              False              NaN                NaN   \n",
       "1                              False              NaN                NaN   \n",
       "2                              False              NaN                NaN   \n",
       "3                              False              NaN                NaN   \n",
       "4                              False              NaN                NaN   \n",
       "\n",
       "   Hours to Charge (120V)  Hours to Charge (240V)  Hours to Charge (AC 240V)  \\\n",
       "0                       0                     0.0                        0.0   \n",
       "1                       0                     0.0                        0.0   \n",
       "2                       0                     0.0                        0.0   \n",
       "3                       0                     0.0                        0.0   \n",
       "4                       0                     0.0                        0.0   \n",
       "\n",
       "   Composite City MPG  Composite Highway MPG  Composite Combined MPG  \\\n",
       "0                   0                      0                       0   \n",
       "1                   0                      0                       0   \n",
       "2                   0                      0                       0   \n",
       "3                   0                      0                       0   \n",
       "4                   0                      0                       0   \n",
       "\n",
       "   Range (FT1)  City Range (FT1)  Highway Range (FT1)  Range (FT2)  \\\n",
       "0            0               0.0                  0.0          NaN   \n",
       "1            0               0.0                  0.0          NaN   \n",
       "2            0               0.0                  0.0          NaN   \n",
       "3            0               0.0                  0.0          NaN   \n",
       "4            0               0.0                  0.0          NaN   \n",
       "\n",
       "   City Range (FT2)  Highway Range (FT2)  \n",
       "0               0.0                  0.0  \n",
       "1               0.0                  0.0  \n",
       "2               0.0                  0.0  \n",
       "3               0.0                  0.0  \n",
       "4               0.0                  0.0  \n",
       "\n",
       "[5 rows x 81 columns]"
      ]
     },
     "execution_count": 1315,
     "metadata": {},
     "output_type": "execute_result"
    }
   ],
   "source": [
    "df = pd.read_csv('./Datasets/database.csv',low_memory=False)\n",
    "df.head()"
   ]
  },
  {
   "cell_type": "markdown",
   "id": "1cd26a5a-149c-4996-aa9d-24d51bf015d8",
   "metadata": {},
   "source": [
    "### 3.2 Check data features"
   ]
  },
  {
   "cell_type": "code",
   "execution_count": 1316,
   "id": "0b53669d-b6f5-4f92-8c19-120f1c4fd863",
   "metadata": {},
   "outputs": [
    {
     "name": "stdout",
     "output_type": "stream",
     "text": [
      "<class 'pandas.core.frame.DataFrame'>\n",
      "RangeIndex: 38113 entries, 0 to 38112\n",
      "Data columns (total 81 columns):\n",
      " #   Column                               Non-Null Count  Dtype  \n",
      "---  ------                               --------------  -----  \n",
      " 0   Vehicle ID                           38113 non-null  int64  \n",
      " 1   Year                                 38113 non-null  int64  \n",
      " 2   Make                                 38113 non-null  object \n",
      " 3   Model                                38113 non-null  object \n",
      " 4   Class                                38113 non-null  object \n",
      " 5   Drive                                36924 non-null  object \n",
      " 6   Transmission                         38102 non-null  object \n",
      " 7   Transmission Descriptor              15045 non-null  object \n",
      " 8   Engine Index                         38113 non-null  int64  \n",
      " 9   Engine Descriptor                    22693 non-null  object \n",
      " 10  Engine Cylinders                     37977 non-null  float64\n",
      " 11  Engine Displacement                  37979 non-null  float64\n",
      " 12  Turbocharger                         5239 non-null   object \n",
      " 13  Supercharger                         693 non-null    object \n",
      " 14  Fuel Type                            38113 non-null  object \n",
      " 15  Fuel Type 1                          38113 non-null  object \n",
      " 16  Fuel Type 2                          1438 non-null   object \n",
      " 17  City MPG (FT1)                       38113 non-null  int64  \n",
      " 18  Unrounded City MPG (FT1)             38113 non-null  float64\n",
      " 19  City MPG (FT2)                       38113 non-null  int64  \n",
      " 20  Unrounded City MPG (FT2)             38113 non-null  float64\n",
      " 21  City Gasoline Consumption (CD)       38113 non-null  float64\n",
      " 22  City Electricity Consumption         38113 non-null  float64\n",
      " 23  City Utility Factor                  38113 non-null  float64\n",
      " 24  Highway MPG (FT1)                    38113 non-null  int64  \n",
      " 25  Unrounded Highway MPG (FT1)          38113 non-null  float64\n",
      " 26  Highway MPG (FT2)                    38113 non-null  int64  \n",
      " 27  Unrounded Highway MPG (FT2)          38113 non-null  float64\n",
      " 28  Highway Gasoline Consumption (CD)    38113 non-null  float64\n",
      " 29  Highway Electricity Consumption      38113 non-null  float64\n",
      " 30  Highway Utility Factor               38113 non-null  float64\n",
      " 31  Unadjusted City MPG (FT1)            38113 non-null  float64\n",
      " 32  Unadjusted Highway MPG (FT1)         38113 non-null  float64\n",
      " 33  Unadjusted City MPG (FT2)            38113 non-null  float64\n",
      " 34  Unadjusted Highway MPG (FT2)         38113 non-null  float64\n",
      " 35  Combined MPG (FT1)                   38113 non-null  int64  \n",
      " 36  Unrounded Combined MPG (FT1)         38113 non-null  float64\n",
      " 37  Combined MPG (FT2)                   38113 non-null  int64  \n",
      " 38  Unrounded Combined MPG (FT2)         38113 non-null  float64\n",
      " 39  Combined Electricity Consumption     38113 non-null  float64\n",
      " 40  Combined Gasoline Consumption (CD)   38113 non-null  float64\n",
      " 41  Combined Utility Factor              38113 non-null  float64\n",
      " 42  Annual Fuel Cost (FT1)               38113 non-null  int64  \n",
      " 43  Annual Fuel Cost (FT2)               38113 non-null  int64  \n",
      " 44  Gas Guzzler Tax                      2296 non-null   object \n",
      " 45  Save or Spend (5 Year)               38113 non-null  int64  \n",
      " 46  Annual Consumption in Barrels (FT1)  38113 non-null  float64\n",
      " 47  Annual Consumption in Barrels (FT2)  38113 non-null  float64\n",
      " 48  Tailpipe CO2 (FT1)                   38113 non-null  int64  \n",
      " 49  Tailpipe CO2 in Grams/Mile (FT1)     38113 non-null  float64\n",
      " 50  Tailpipe CO2 (FT2)                   38113 non-null  int64  \n",
      " 51  Tailpipe CO2 in Grams/Mile (FT2)     38113 non-null  float64\n",
      " 52  Fuel Economy Score                   38113 non-null  int64  \n",
      " 53  GHG Score                            38113 non-null  int64  \n",
      " 54  GHG Score (Alt Fuel)                 38113 non-null  int64  \n",
      " 55  My MPG Data                          38113 non-null  object \n",
      " 56  2D Passenger Volume                  38113 non-null  int64  \n",
      " 57  2D Luggage Volume                    38113 non-null  int64  \n",
      " 58  4D Passenger Volume                  38113 non-null  int64  \n",
      " 59  4D Luggage Volume                    38113 non-null  int64  \n",
      " 60  Hatchback Passenger Volume           38113 non-null  int64  \n",
      " 61  Hatchback Luggage Volume             38113 non-null  int64  \n",
      " 62  Start Stop Technology                6443 non-null   object \n",
      " 63  Alternative Fuel/Technology          3047 non-null   object \n",
      " 64  Electric Motor                       604 non-null    object \n",
      " 65  Manufacturer Code                    7319 non-null   object \n",
      " 66  Gasoline/Electricity Blended (CD)    38113 non-null  bool   \n",
      " 67  Vehicle Charger                      48 non-null     object \n",
      " 68  Alternate Charger                    46 non-null     object \n",
      " 69  Hours to Charge (120V)               38113 non-null  int64  \n",
      " 70  Hours to Charge (240V)               38113 non-null  float64\n",
      " 71  Hours to Charge (AC 240V)            38113 non-null  float64\n",
      " 72  Composite City MPG                   38113 non-null  int64  \n",
      " 73  Composite Highway MPG                38113 non-null  int64  \n",
      " 74  Composite Combined MPG               38113 non-null  int64  \n",
      " 75  Range (FT1)                          38113 non-null  int64  \n",
      " 76  City Range (FT1)                     38113 non-null  float64\n",
      " 77  Highway Range (FT1)                  38113 non-null  float64\n",
      " 78  Range (FT2)                          1433 non-null   object \n",
      " 79  City Range (FT2)                     38113 non-null  float64\n",
      " 80  Highway Range (FT2)                  38113 non-null  float64\n",
      "dtypes: bool(1), float64(31), int64(28), object(21)\n",
      "memory usage: 23.3+ MB\n"
     ]
    }
   ],
   "source": [
    "df.info()"
   ]
  },
  {
   "cell_type": "markdown",
   "id": "33c1fca5-ae12-4c76-82c7-fbcb8d5a43d8",
   "metadata": {},
   "source": [
    "### 3.3 Picking features that we want to use for our problems"
   ]
  },
  {
   "cell_type": "markdown",
   "id": "dd7f176a-923f-4257-a8ea-6c50c82f8544",
   "metadata": {},
   "source": [
    "Here is what the columns that is relevant to our problem and goal. All these features will not be fed into our model or will be used. This is something that still need to be analyzed. We will decide later after further anlysis using a chart"
   ]
  },
  {
   "cell_type": "code",
   "execution_count": 1317,
   "id": "3d58aead-6219-4054-863a-e6bba8bd000b",
   "metadata": {},
   "outputs": [
    {
     "data": {
      "text/html": [
       "<div>\n",
       "<style scoped>\n",
       "    .dataframe tbody tr th:only-of-type {\n",
       "        vertical-align: middle;\n",
       "    }\n",
       "\n",
       "    .dataframe tbody tr th {\n",
       "        vertical-align: top;\n",
       "    }\n",
       "\n",
       "    .dataframe thead th {\n",
       "        text-align: right;\n",
       "    }\n",
       "</style>\n",
       "<table border=\"1\" class=\"dataframe\">\n",
       "  <thead>\n",
       "    <tr style=\"text-align: right;\">\n",
       "      <th></th>\n",
       "      <th>Year</th>\n",
       "      <th>Make</th>\n",
       "      <th>Class</th>\n",
       "      <th>Drive</th>\n",
       "      <th>Transmission</th>\n",
       "      <th>Engine Index</th>\n",
       "      <th>Engine Cylinders</th>\n",
       "      <th>Engine Displacement</th>\n",
       "      <th>Turbocharger</th>\n",
       "      <th>Supercharger</th>\n",
       "      <th>Fuel Type</th>\n",
       "      <th>Combined MPG (FT1)</th>\n",
       "      <th>Combined Electricity Consumption</th>\n",
       "      <th>Combined Gasoline Consumption (CD)</th>\n",
       "      <th>Annual Fuel Cost (FT1)</th>\n",
       "      <th>Annual Consumption in Barrels (FT1)</th>\n",
       "      <th>Tailpipe CO2 (FT1)</th>\n",
       "      <th>Fuel Economy Score</th>\n",
       "      <th>GHG Score</th>\n",
       "    </tr>\n",
       "  </thead>\n",
       "  <tbody>\n",
       "    <tr>\n",
       "      <th>0</th>\n",
       "      <td>1984</td>\n",
       "      <td>Alfa Romeo</td>\n",
       "      <td>Minicompact Cars</td>\n",
       "      <td>NaN</td>\n",
       "      <td>Manual 5-Speed</td>\n",
       "      <td>9001</td>\n",
       "      <td>6.0</td>\n",
       "      <td>2.5</td>\n",
       "      <td>NaN</td>\n",
       "      <td>NaN</td>\n",
       "      <td>Regular</td>\n",
       "      <td>20</td>\n",
       "      <td>0.0</td>\n",
       "      <td>0.0</td>\n",
       "      <td>1750</td>\n",
       "      <td>16.480500</td>\n",
       "      <td>-1</td>\n",
       "      <td>-1</td>\n",
       "      <td>-1</td>\n",
       "    </tr>\n",
       "    <tr>\n",
       "      <th>1</th>\n",
       "      <td>1984</td>\n",
       "      <td>Alfa Romeo</td>\n",
       "      <td>Minicompact Cars</td>\n",
       "      <td>NaN</td>\n",
       "      <td>Manual 5-Speed</td>\n",
       "      <td>9005</td>\n",
       "      <td>6.0</td>\n",
       "      <td>2.5</td>\n",
       "      <td>NaN</td>\n",
       "      <td>NaN</td>\n",
       "      <td>Regular</td>\n",
       "      <td>20</td>\n",
       "      <td>0.0</td>\n",
       "      <td>0.0</td>\n",
       "      <td>1750</td>\n",
       "      <td>16.480500</td>\n",
       "      <td>-1</td>\n",
       "      <td>-1</td>\n",
       "      <td>-1</td>\n",
       "    </tr>\n",
       "    <tr>\n",
       "      <th>2</th>\n",
       "      <td>1984</td>\n",
       "      <td>Alfa Romeo</td>\n",
       "      <td>Two Seaters</td>\n",
       "      <td>NaN</td>\n",
       "      <td>Manual 5-Speed</td>\n",
       "      <td>9002</td>\n",
       "      <td>4.0</td>\n",
       "      <td>2.0</td>\n",
       "      <td>NaN</td>\n",
       "      <td>NaN</td>\n",
       "      <td>Regular</td>\n",
       "      <td>21</td>\n",
       "      <td>0.0</td>\n",
       "      <td>0.0</td>\n",
       "      <td>1650</td>\n",
       "      <td>15.695714</td>\n",
       "      <td>-1</td>\n",
       "      <td>-1</td>\n",
       "      <td>-1</td>\n",
       "    </tr>\n",
       "    <tr>\n",
       "      <th>3</th>\n",
       "      <td>1984</td>\n",
       "      <td>Alfa Romeo</td>\n",
       "      <td>Two Seaters</td>\n",
       "      <td>NaN</td>\n",
       "      <td>Manual 5-Speed</td>\n",
       "      <td>9006</td>\n",
       "      <td>4.0</td>\n",
       "      <td>2.0</td>\n",
       "      <td>NaN</td>\n",
       "      <td>NaN</td>\n",
       "      <td>Regular</td>\n",
       "      <td>21</td>\n",
       "      <td>0.0</td>\n",
       "      <td>0.0</td>\n",
       "      <td>1650</td>\n",
       "      <td>15.695714</td>\n",
       "      <td>-1</td>\n",
       "      <td>-1</td>\n",
       "      <td>-1</td>\n",
       "    </tr>\n",
       "    <tr>\n",
       "      <th>4</th>\n",
       "      <td>1984</td>\n",
       "      <td>AM General</td>\n",
       "      <td>Special Purpose Vehicle 2WD</td>\n",
       "      <td>2-Wheel Drive</td>\n",
       "      <td>Automatic 3-Speed</td>\n",
       "      <td>1830</td>\n",
       "      <td>4.0</td>\n",
       "      <td>2.5</td>\n",
       "      <td>NaN</td>\n",
       "      <td>NaN</td>\n",
       "      <td>Regular</td>\n",
       "      <td>17</td>\n",
       "      <td>0.0</td>\n",
       "      <td>0.0</td>\n",
       "      <td>2050</td>\n",
       "      <td>19.388824</td>\n",
       "      <td>-1</td>\n",
       "      <td>-1</td>\n",
       "      <td>-1</td>\n",
       "    </tr>\n",
       "  </tbody>\n",
       "</table>\n",
       "</div>"
      ],
      "text/plain": [
       "   Year        Make                        Class          Drive  \\\n",
       "0  1984  Alfa Romeo             Minicompact Cars            NaN   \n",
       "1  1984  Alfa Romeo             Minicompact Cars            NaN   \n",
       "2  1984  Alfa Romeo                  Two Seaters            NaN   \n",
       "3  1984  Alfa Romeo                  Two Seaters            NaN   \n",
       "4  1984  AM General  Special Purpose Vehicle 2WD  2-Wheel Drive   \n",
       "\n",
       "        Transmission  Engine Index  Engine Cylinders  Engine Displacement  \\\n",
       "0     Manual 5-Speed          9001               6.0                  2.5   \n",
       "1     Manual 5-Speed          9005               6.0                  2.5   \n",
       "2     Manual 5-Speed          9002               4.0                  2.0   \n",
       "3     Manual 5-Speed          9006               4.0                  2.0   \n",
       "4  Automatic 3-Speed          1830               4.0                  2.5   \n",
       "\n",
       "  Turbocharger Supercharger Fuel Type  Combined MPG (FT1)  \\\n",
       "0          NaN          NaN   Regular                  20   \n",
       "1          NaN          NaN   Regular                  20   \n",
       "2          NaN          NaN   Regular                  21   \n",
       "3          NaN          NaN   Regular                  21   \n",
       "4          NaN          NaN   Regular                  17   \n",
       "\n",
       "   Combined Electricity Consumption  Combined Gasoline Consumption (CD)  \\\n",
       "0                               0.0                                 0.0   \n",
       "1                               0.0                                 0.0   \n",
       "2                               0.0                                 0.0   \n",
       "3                               0.0                                 0.0   \n",
       "4                               0.0                                 0.0   \n",
       "\n",
       "   Annual Fuel Cost (FT1)  Annual Consumption in Barrels (FT1)  \\\n",
       "0                    1750                            16.480500   \n",
       "1                    1750                            16.480500   \n",
       "2                    1650                            15.695714   \n",
       "3                    1650                            15.695714   \n",
       "4                    2050                            19.388824   \n",
       "\n",
       "   Tailpipe CO2 (FT1)  Fuel Economy Score  GHG Score  \n",
       "0                  -1                  -1         -1  \n",
       "1                  -1                  -1         -1  \n",
       "2                  -1                  -1         -1  \n",
       "3                  -1                  -1         -1  \n",
       "4                  -1                  -1         -1  "
      ]
     },
     "execution_count": 1317,
     "metadata": {},
     "output_type": "execute_result"
    }
   ],
   "source": [
    "features = [\n",
    "    'Year', 'Make', 'Class', 'Drive', 'Transmission', 'Engine Index',\n",
    "    'Engine Cylinders', 'Engine Displacement', 'Turbocharger', 'Supercharger', 'Fuel Type', 'Combined MPG (FT1)', 'Combined Electricity Consumption',\n",
    "    'Combined Gasoline Consumption (CD)', 'Annual Fuel Cost (FT1)',\n",
    "    'Annual Consumption in Barrels (FT1)', 'Tailpipe CO2 (FT1)',\n",
    "    'Fuel Economy Score', 'GHG Score']\n",
    "df_filtered = df[features]\n",
    "df_filtered.head()\n"
   ]
  },
  {
   "cell_type": "code",
   "execution_count": 1318,
   "id": "45c4d716-4c87-485f-bb44-fa0d3c35a77c",
   "metadata": {},
   "outputs": [
    {
     "name": "stdout",
     "output_type": "stream",
     "text": [
      "<class 'pandas.core.frame.DataFrame'>\n",
      "RangeIndex: 38113 entries, 0 to 38112\n",
      "Data columns (total 19 columns):\n",
      " #   Column                               Non-Null Count  Dtype  \n",
      "---  ------                               --------------  -----  \n",
      " 0   Year                                 38113 non-null  int64  \n",
      " 1   Make                                 38113 non-null  object \n",
      " 2   Class                                38113 non-null  object \n",
      " 3   Drive                                36924 non-null  object \n",
      " 4   Transmission                         38102 non-null  object \n",
      " 5   Engine Index                         38113 non-null  int64  \n",
      " 6   Engine Cylinders                     37977 non-null  float64\n",
      " 7   Engine Displacement                  37979 non-null  float64\n",
      " 8   Turbocharger                         5239 non-null   object \n",
      " 9   Supercharger                         693 non-null    object \n",
      " 10  Fuel Type                            38113 non-null  object \n",
      " 11  Combined MPG (FT1)                   38113 non-null  int64  \n",
      " 12  Combined Electricity Consumption     38113 non-null  float64\n",
      " 13  Combined Gasoline Consumption (CD)   38113 non-null  float64\n",
      " 14  Annual Fuel Cost (FT1)               38113 non-null  int64  \n",
      " 15  Annual Consumption in Barrels (FT1)  38113 non-null  float64\n",
      " 16  Tailpipe CO2 (FT1)                   38113 non-null  int64  \n",
      " 17  Fuel Economy Score                   38113 non-null  int64  \n",
      " 18  GHG Score                            38113 non-null  int64  \n",
      "dtypes: float64(5), int64(7), object(7)\n",
      "memory usage: 5.5+ MB\n"
     ]
    }
   ],
   "source": [
    "df_filtered.info()"
   ]
  },
  {
   "cell_type": "markdown",
   "id": "6198d26a-e394-4987-b54a-9b42fc2ad150",
   "metadata": {},
   "source": [
    "### 3.4 Check column with NA"
   ]
  },
  {
   "cell_type": "markdown",
   "id": "39ecb334-01b5-40f2-8514-f8e6805f8a78",
   "metadata": {},
   "source": [
    "Make a functions to count NA values so later on we can use it during the features engineering to tackle the NA Value"
   ]
  },
  {
   "cell_type": "code",
   "execution_count": 1319,
   "id": "36e8c901-702d-40e2-8a9f-8da0b89b5891",
   "metadata": {},
   "outputs": [],
   "source": [
    "def count_nan():\n",
    "    df_na_counts = df_filtered.isna().sum().reset_index().rename(columns={'index':'column',0:'total_na'})\n",
    "    df_na_counts = df_na_counts.loc[df_na_counts['total_na']>0]\n",
    "\n",
    "    #Create NA to Data Ratio which basically indicates percentage of each features that will impacted the overall data counts \n",
    "    #if we consider it during NA removal. \n",
    "    df_na_counts['na_to_data_ratio'] = ( df_na_counts['total_na'] / len(df_filtered.axes[0])) * 100\n",
    "    return df_na_counts"
   ]
  },
  {
   "cell_type": "code",
   "execution_count": 1320,
   "id": "45446c73-1c94-499f-9d6f-14fb8ae0b1b7",
   "metadata": {},
   "outputs": [
    {
     "data": {
      "text/html": [
       "<div>\n",
       "<style scoped>\n",
       "    .dataframe tbody tr th:only-of-type {\n",
       "        vertical-align: middle;\n",
       "    }\n",
       "\n",
       "    .dataframe tbody tr th {\n",
       "        vertical-align: top;\n",
       "    }\n",
       "\n",
       "    .dataframe thead th {\n",
       "        text-align: right;\n",
       "    }\n",
       "</style>\n",
       "<table border=\"1\" class=\"dataframe\">\n",
       "  <thead>\n",
       "    <tr style=\"text-align: right;\">\n",
       "      <th></th>\n",
       "      <th>column</th>\n",
       "      <th>total_na</th>\n",
       "      <th>na_to_data_ratio</th>\n",
       "    </tr>\n",
       "  </thead>\n",
       "  <tbody>\n",
       "    <tr>\n",
       "      <th>3</th>\n",
       "      <td>Drive</td>\n",
       "      <td>1189</td>\n",
       "      <td>3.119670</td>\n",
       "    </tr>\n",
       "    <tr>\n",
       "      <th>4</th>\n",
       "      <td>Transmission</td>\n",
       "      <td>11</td>\n",
       "      <td>0.028862</td>\n",
       "    </tr>\n",
       "    <tr>\n",
       "      <th>6</th>\n",
       "      <td>Engine Cylinders</td>\n",
       "      <td>136</td>\n",
       "      <td>0.356834</td>\n",
       "    </tr>\n",
       "    <tr>\n",
       "      <th>7</th>\n",
       "      <td>Engine Displacement</td>\n",
       "      <td>134</td>\n",
       "      <td>0.351586</td>\n",
       "    </tr>\n",
       "    <tr>\n",
       "      <th>8</th>\n",
       "      <td>Turbocharger</td>\n",
       "      <td>32874</td>\n",
       "      <td>86.254034</td>\n",
       "    </tr>\n",
       "    <tr>\n",
       "      <th>9</th>\n",
       "      <td>Supercharger</td>\n",
       "      <td>37420</td>\n",
       "      <td>98.181723</td>\n",
       "    </tr>\n",
       "  </tbody>\n",
       "</table>\n",
       "</div>"
      ],
      "text/plain": [
       "                column  total_na  na_to_data_ratio\n",
       "3                Drive      1189          3.119670\n",
       "4         Transmission        11          0.028862\n",
       "6     Engine Cylinders       136          0.356834\n",
       "7  Engine Displacement       134          0.351586\n",
       "8         Turbocharger     32874         86.254034\n",
       "9         Supercharger     37420         98.181723"
      ]
     },
     "execution_count": 1320,
     "metadata": {},
     "output_type": "execute_result"
    }
   ],
   "source": [
    "count_nan()"
   ]
  },
  {
   "cell_type": "markdown",
   "id": "44c7836f-9f0d-4857-8658-53b54083d2b2",
   "metadata": {},
   "source": [
    "We will either replace the value in those features or drop the data depend on the situation."
   ]
  },
  {
   "cell_type": "markdown",
   "id": "3ad243c4-468f-46e8-a805-b573c6131dc4",
   "metadata": {},
   "source": [
    "#### 3.4.1 Turbocharger features"
   ]
  },
  {
   "cell_type": "markdown",
   "id": "36d83446-0b8d-4213-8d77-2c45e75fea02",
   "metadata": {},
   "source": [
    "Let's see what unique values we have"
   ]
  },
  {
   "cell_type": "code",
   "execution_count": 1321,
   "id": "acf46a98-d14c-451a-b49f-259a52d8268d",
   "metadata": {},
   "outputs": [
    {
     "data": {
      "text/plain": [
       "array([nan, 'T'], dtype=object)"
      ]
     },
     "execution_count": 1321,
     "metadata": {},
     "output_type": "execute_result"
    }
   ],
   "source": [
    "df_filtered['Turbocharger'].unique()"
   ]
  },
  {
   "cell_type": "markdown",
   "id": "afdfa9c2-15a8-4fe9-8b2b-aee63cfd89bb",
   "metadata": {},
   "source": [
    "From here we can assume that the Value with NA means that there are no any Turbo Charger installed in the cars. We need to replace those values with other value in order to exclude those data from removal during remove NA activity. We also change the entire TurboCharger values with boolean type since it's a matter Yes or No :)"
   ]
  },
  {
   "cell_type": "code",
   "execution_count": 1322,
   "id": "9a9aa7a5-bb5d-4631-aa4d-5ba03145579c",
   "metadata": {},
   "outputs": [],
   "source": [
    "# Create Function to Modify the values to boolean. We will have the same case later with Supercharger\n",
    "def features_to_boolean(features,true_val=[]):\n",
    "    df_filtered[features] = df[features].replace(true_val, 1)\n",
    "    df_filtered[features].fillna(0,inplace=True)"
   ]
  },
  {
   "cell_type": "code",
   "execution_count": 1323,
   "id": "b31a252d-cb6a-47f3-aef9-2a32a3700b2e",
   "metadata": {},
   "outputs": [
    {
     "data": {
      "text/plain": [
       "array([0., 1.])"
      ]
     },
     "execution_count": 1323,
     "metadata": {},
     "output_type": "execute_result"
    }
   ],
   "source": [
    "features_to_boolean('Turbocharger',['T'])\n",
    "df_filtered['Turbocharger'].unique()"
   ]
  },
  {
   "cell_type": "markdown",
   "id": "74b8e988-adb5-440d-98c4-58aea3753c9d",
   "metadata": {},
   "source": [
    "So the NA replaced with N, which means that the car do not have Turbocharger. now let's take a look on the NA to Data Ratio\n"
   ]
  },
  {
   "cell_type": "code",
   "execution_count": 1324,
   "id": "15daf3a5-2bcb-4b91-a031-635fdace379d",
   "metadata": {},
   "outputs": [
    {
     "data": {
      "text/html": [
       "<div>\n",
       "<style scoped>\n",
       "    .dataframe tbody tr th:only-of-type {\n",
       "        vertical-align: middle;\n",
       "    }\n",
       "\n",
       "    .dataframe tbody tr th {\n",
       "        vertical-align: top;\n",
       "    }\n",
       "\n",
       "    .dataframe thead th {\n",
       "        text-align: right;\n",
       "    }\n",
       "</style>\n",
       "<table border=\"1\" class=\"dataframe\">\n",
       "  <thead>\n",
       "    <tr style=\"text-align: right;\">\n",
       "      <th></th>\n",
       "      <th>column</th>\n",
       "      <th>total_na</th>\n",
       "      <th>na_to_data_ratio</th>\n",
       "    </tr>\n",
       "  </thead>\n",
       "  <tbody>\n",
       "    <tr>\n",
       "      <th>3</th>\n",
       "      <td>Drive</td>\n",
       "      <td>1189</td>\n",
       "      <td>3.119670</td>\n",
       "    </tr>\n",
       "    <tr>\n",
       "      <th>4</th>\n",
       "      <td>Transmission</td>\n",
       "      <td>11</td>\n",
       "      <td>0.028862</td>\n",
       "    </tr>\n",
       "    <tr>\n",
       "      <th>6</th>\n",
       "      <td>Engine Cylinders</td>\n",
       "      <td>136</td>\n",
       "      <td>0.356834</td>\n",
       "    </tr>\n",
       "    <tr>\n",
       "      <th>7</th>\n",
       "      <td>Engine Displacement</td>\n",
       "      <td>134</td>\n",
       "      <td>0.351586</td>\n",
       "    </tr>\n",
       "    <tr>\n",
       "      <th>9</th>\n",
       "      <td>Supercharger</td>\n",
       "      <td>37420</td>\n",
       "      <td>98.181723</td>\n",
       "    </tr>\n",
       "  </tbody>\n",
       "</table>\n",
       "</div>"
      ],
      "text/plain": [
       "                column  total_na  na_to_data_ratio\n",
       "3                Drive      1189          3.119670\n",
       "4         Transmission        11          0.028862\n",
       "6     Engine Cylinders       136          0.356834\n",
       "7  Engine Displacement       134          0.351586\n",
       "9         Supercharger     37420         98.181723"
      ]
     },
     "execution_count": 1324,
     "metadata": {},
     "output_type": "execute_result"
    }
   ],
   "source": [
    "count_nan()"
   ]
  },
  {
   "cell_type": "markdown",
   "id": "696fb332-5d59-4f69-9b52-f9cfa7263a9f",
   "metadata": {},
   "source": [
    "Check the data type. Make sure it's boolean"
   ]
  },
  {
   "cell_type": "code",
   "execution_count": 1325,
   "id": "a52467d3-6290-4bca-91cb-429305cba502",
   "metadata": {},
   "outputs": [
    {
     "data": {
      "text/plain": [
       "dtype('float64')"
      ]
     },
     "execution_count": 1325,
     "metadata": {},
     "output_type": "execute_result"
    }
   ],
   "source": [
    "df_filtered['Turbocharger'].dtype"
   ]
  },
  {
   "cell_type": "markdown",
   "id": "e3523ba8-22d6-4cd3-87c7-ecb8ffecd1a6",
   "metadata": {},
   "source": [
    "#### 3.4.2 Supercharger features"
   ]
  },
  {
   "cell_type": "markdown",
   "id": "648d53be-2c22-4832-85de-467988ff0542",
   "metadata": {},
   "source": [
    "Let's see what unique values we have"
   ]
  },
  {
   "cell_type": "code",
   "execution_count": 1326,
   "id": "4d1223fe-1774-4da2-b7c3-154c6b4aded5",
   "metadata": {},
   "outputs": [
    {
     "data": {
      "text/plain": [
       "array([nan, 'S'], dtype=object)"
      ]
     },
     "execution_count": 1326,
     "metadata": {},
     "output_type": "execute_result"
    }
   ],
   "source": [
    "df_filtered['Supercharger'].unique()"
   ]
  },
  {
   "cell_type": "markdown",
   "id": "fb8e091e-007a-43d5-86d5-8ce9c214b9a6",
   "metadata": {},
   "source": [
    "It's the same as Turbocharger case. Then we just do as what we did with Turbocharger :)"
   ]
  },
  {
   "cell_type": "code",
   "execution_count": 1327,
   "id": "1f68e8ea-0e70-4fcd-a18d-d256d3366830",
   "metadata": {},
   "outputs": [
    {
     "data": {
      "text/plain": [
       "array([0., 1.])"
      ]
     },
     "execution_count": 1327,
     "metadata": {},
     "output_type": "execute_result"
    }
   ],
   "source": [
    "#Use Features to Boolean function which we created initially in the Turbocharger case\n",
    "features_to_boolean('Supercharger',['S'])\n",
    "df_filtered['Supercharger'].unique()"
   ]
  },
  {
   "cell_type": "markdown",
   "id": "97316841-dc5b-439a-b35f-b5c02aee2767",
   "metadata": {},
   "source": [
    "Check again if the Supercharger has any NA or not"
   ]
  },
  {
   "cell_type": "code",
   "execution_count": 1328,
   "id": "6233caa4-bdb6-4cd0-9aff-e775e772afdc",
   "metadata": {},
   "outputs": [
    {
     "data": {
      "text/html": [
       "<div>\n",
       "<style scoped>\n",
       "    .dataframe tbody tr th:only-of-type {\n",
       "        vertical-align: middle;\n",
       "    }\n",
       "\n",
       "    .dataframe tbody tr th {\n",
       "        vertical-align: top;\n",
       "    }\n",
       "\n",
       "    .dataframe thead th {\n",
       "        text-align: right;\n",
       "    }\n",
       "</style>\n",
       "<table border=\"1\" class=\"dataframe\">\n",
       "  <thead>\n",
       "    <tr style=\"text-align: right;\">\n",
       "      <th></th>\n",
       "      <th>column</th>\n",
       "      <th>total_na</th>\n",
       "      <th>na_to_data_ratio</th>\n",
       "    </tr>\n",
       "  </thead>\n",
       "  <tbody>\n",
       "    <tr>\n",
       "      <th>3</th>\n",
       "      <td>Drive</td>\n",
       "      <td>1189</td>\n",
       "      <td>3.119670</td>\n",
       "    </tr>\n",
       "    <tr>\n",
       "      <th>4</th>\n",
       "      <td>Transmission</td>\n",
       "      <td>11</td>\n",
       "      <td>0.028862</td>\n",
       "    </tr>\n",
       "    <tr>\n",
       "      <th>6</th>\n",
       "      <td>Engine Cylinders</td>\n",
       "      <td>136</td>\n",
       "      <td>0.356834</td>\n",
       "    </tr>\n",
       "    <tr>\n",
       "      <th>7</th>\n",
       "      <td>Engine Displacement</td>\n",
       "      <td>134</td>\n",
       "      <td>0.351586</td>\n",
       "    </tr>\n",
       "  </tbody>\n",
       "</table>\n",
       "</div>"
      ],
      "text/plain": [
       "                column  total_na  na_to_data_ratio\n",
       "3                Drive      1189          3.119670\n",
       "4         Transmission        11          0.028862\n",
       "6     Engine Cylinders       136          0.356834\n",
       "7  Engine Displacement       134          0.351586"
      ]
     },
     "execution_count": 1328,
     "metadata": {},
     "output_type": "execute_result"
    }
   ],
   "source": [
    "count_nan()"
   ]
  },
  {
   "cell_type": "markdown",
   "id": "5ea92f45-14e2-4132-9e2d-103bc636f7b1",
   "metadata": {},
   "source": [
    "Check if the datatype already converted to Boolean or not"
   ]
  },
  {
   "cell_type": "code",
   "execution_count": 1329,
   "id": "3a32dbd3-1c69-4531-8dd4-e5b3603ad94c",
   "metadata": {},
   "outputs": [
    {
     "data": {
      "text/plain": [
       "dtype('float64')"
      ]
     },
     "execution_count": 1329,
     "metadata": {},
     "output_type": "execute_result"
    }
   ],
   "source": [
    "df_filtered['Supercharger'].dtype"
   ]
  },
  {
   "cell_type": "markdown",
   "id": "c5d62b35-4dfe-48d7-9e58-4c9a54c5cd35",
   "metadata": {},
   "source": [
    "#### 3.4.3 Drive Features"
   ]
  },
  {
   "cell_type": "markdown",
   "id": "27ec4104-4b90-4f12-8ad4-a63ab06ad5cd",
   "metadata": {},
   "source": [
    "Let's check unique value from Drive. My guess, it should describe how many wheels or which wheels that are driven by the engine"
   ]
  },
  {
   "cell_type": "code",
   "execution_count": 1330,
   "id": "2eef7eb0-d2a6-4b73-949e-f987b8740e9d",
   "metadata": {},
   "outputs": [
    {
     "data": {
      "text/plain": [
       "array([nan, '2-Wheel Drive', '4-Wheel or All-Wheel Drive',\n",
       "       'Rear-Wheel Drive', 'Front-Wheel Drive', '4-Wheel Drive',\n",
       "       'All-Wheel Drive', 'Part-time 4-Wheel Drive'], dtype=object)"
      ]
     },
     "execution_count": 1330,
     "metadata": {},
     "output_type": "execute_result"
    }
   ],
   "source": [
    "df_filtered['Drive'].unique()"
   ]
  },
  {
   "cell_type": "markdown",
   "id": "a8ce713a-8432-4601-bb88-47a557745f7e",
   "metadata": {},
   "source": [
    "All car should have this information by right regardless it's powered by fossil fuel or other alternative enegry. It does not make sense if no any wheels driven by the engine."
   ]
  },
  {
   "cell_type": "code",
   "execution_count": 1331,
   "id": "47d78ce6-764a-4d51-b639-9c3f7df74b81",
   "metadata": {},
   "outputs": [
    {
     "data": {
      "text/html": [
       "<div>\n",
       "<style scoped>\n",
       "    .dataframe tbody tr th:only-of-type {\n",
       "        vertical-align: middle;\n",
       "    }\n",
       "\n",
       "    .dataframe tbody tr th {\n",
       "        vertical-align: top;\n",
       "    }\n",
       "\n",
       "    .dataframe thead th {\n",
       "        text-align: right;\n",
       "    }\n",
       "</style>\n",
       "<table border=\"1\" class=\"dataframe\">\n",
       "  <thead>\n",
       "    <tr style=\"text-align: right;\">\n",
       "      <th></th>\n",
       "      <th>Drive</th>\n",
       "      <th>Fuel Type</th>\n",
       "    </tr>\n",
       "  </thead>\n",
       "  <tbody>\n",
       "    <tr>\n",
       "      <th>0</th>\n",
       "      <td>NaN</td>\n",
       "      <td>Regular</td>\n",
       "    </tr>\n",
       "    <tr>\n",
       "      <th>1</th>\n",
       "      <td>NaN</td>\n",
       "      <td>Regular</td>\n",
       "    </tr>\n",
       "    <tr>\n",
       "      <th>2</th>\n",
       "      <td>NaN</td>\n",
       "      <td>Regular</td>\n",
       "    </tr>\n",
       "    <tr>\n",
       "      <th>3</th>\n",
       "      <td>NaN</td>\n",
       "      <td>Regular</td>\n",
       "    </tr>\n",
       "    <tr>\n",
       "      <th>28</th>\n",
       "      <td>NaN</td>\n",
       "      <td>Regular</td>\n",
       "    </tr>\n",
       "    <tr>\n",
       "      <th>...</th>\n",
       "      <td>...</td>\n",
       "      <td>...</td>\n",
       "    </tr>\n",
       "    <tr>\n",
       "      <th>18561</th>\n",
       "      <td>NaN</td>\n",
       "      <td>Electricity</td>\n",
       "    </tr>\n",
       "    <tr>\n",
       "      <th>19181</th>\n",
       "      <td>NaN</td>\n",
       "      <td>Electricity</td>\n",
       "    </tr>\n",
       "    <tr>\n",
       "      <th>19467</th>\n",
       "      <td>NaN</td>\n",
       "      <td>Electricity</td>\n",
       "    </tr>\n",
       "    <tr>\n",
       "      <th>20293</th>\n",
       "      <td>NaN</td>\n",
       "      <td>Premium</td>\n",
       "    </tr>\n",
       "    <tr>\n",
       "      <th>27084</th>\n",
       "      <td>NaN</td>\n",
       "      <td>Electricity</td>\n",
       "    </tr>\n",
       "  </tbody>\n",
       "</table>\n",
       "<p>1189 rows × 2 columns</p>\n",
       "</div>"
      ],
      "text/plain": [
       "      Drive    Fuel Type\n",
       "0       NaN      Regular\n",
       "1       NaN      Regular\n",
       "2       NaN      Regular\n",
       "3       NaN      Regular\n",
       "28      NaN      Regular\n",
       "...     ...          ...\n",
       "18561   NaN  Electricity\n",
       "19181   NaN  Electricity\n",
       "19467   NaN  Electricity\n",
       "20293   NaN      Premium\n",
       "27084   NaN  Electricity\n",
       "\n",
       "[1189 rows x 2 columns]"
      ]
     },
     "execution_count": 1331,
     "metadata": {},
     "output_type": "execute_result"
    }
   ],
   "source": [
    "#Drive Features with NA\n",
    "df_filtered[df_filtered['Drive'].isnull()][['Drive','Fuel Type']]"
   ]
  },
  {
   "cell_type": "markdown",
   "id": "448129a5-9f2e-4e54-a16c-b7bd07b082b0",
   "metadata": {},
   "source": [
    "Since we cannot know which is the correct value for each data we just delete the afected index from the Dataframe"
   ]
  },
  {
   "cell_type": "code",
   "execution_count": 1333,
   "id": "7740a40f-97b5-4a24-9caf-fd01fa3a0326",
   "metadata": {},
   "outputs": [],
   "source": [
    "df_filtered.drop(df_filtered[df_filtered['Drive'].isnull()].index,axis=0,inplace=True)"
   ]
  },
  {
   "cell_type": "code",
   "execution_count": 1334,
   "id": "feeeff29-8437-4c60-bc0f-8b224f787580",
   "metadata": {},
   "outputs": [
    {
     "data": {
      "text/plain": [
       "0"
      ]
     },
     "execution_count": 1334,
     "metadata": {},
     "output_type": "execute_result"
    }
   ],
   "source": [
    "df_filtered[df_filtered['Drive'].isnull()].shape[0]"
   ]
  },
  {
   "cell_type": "markdown",
   "id": "e63a6c57-f466-431c-b978-abda6b51deb3",
   "metadata": {},
   "source": [
    "Here are the statistics after the removal "
   ]
  },
  {
   "cell_type": "code",
   "execution_count": 1335,
   "id": "de2e1079-917e-4857-8de7-05ab956ac807",
   "metadata": {},
   "outputs": [],
   "source": [
    "#Create a function to calculate the removal Process\n",
    "def data_statistics():\n",
    "    total_removed = len(df.axes[0]) - len(df_filtered.axes[0])\n",
    "    remaining_data = len(df_filtered.axes[0])\n",
    "    perc_data_retained = (len(df_filtered.axes[0]) / len(df.axes[0])) * 100\n",
    "    \n",
    "    print(f'Total data Removed: {total_removed} out of {len(df.axes[0])}')\n",
    "    print(f'Remaining Data: {remaining_data}')\n",
    "    print(f'Percentage Data that are still retained: {perc_data_retained}')"
   ]
  },
  {
   "cell_type": "code",
   "execution_count": 1336,
   "id": "a7bd34f6-032c-49e8-9cc2-ece89a505ded",
   "metadata": {},
   "outputs": [
    {
     "name": "stdout",
     "output_type": "stream",
     "text": [
      "Total data Removed: 1189 out of 38113\n",
      "Remaining Data: 36924\n",
      "Percentage Data that are still retained: 96.88032954634902\n"
     ]
    }
   ],
   "source": [
    "data_statistics()"
   ]
  },
  {
   "cell_type": "code",
   "execution_count": 1337,
   "id": "806a0a0f-fea4-4d6f-ac6b-44141e8a0b38",
   "metadata": {},
   "outputs": [
    {
     "data": {
      "text/html": [
       "<div>\n",
       "<style scoped>\n",
       "    .dataframe tbody tr th:only-of-type {\n",
       "        vertical-align: middle;\n",
       "    }\n",
       "\n",
       "    .dataframe tbody tr th {\n",
       "        vertical-align: top;\n",
       "    }\n",
       "\n",
       "    .dataframe thead th {\n",
       "        text-align: right;\n",
       "    }\n",
       "</style>\n",
       "<table border=\"1\" class=\"dataframe\">\n",
       "  <thead>\n",
       "    <tr style=\"text-align: right;\">\n",
       "      <th></th>\n",
       "      <th>column</th>\n",
       "      <th>total_na</th>\n",
       "      <th>na_to_data_ratio</th>\n",
       "    </tr>\n",
       "  </thead>\n",
       "  <tbody>\n",
       "    <tr>\n",
       "      <th>4</th>\n",
       "      <td>Transmission</td>\n",
       "      <td>8</td>\n",
       "      <td>0.021666</td>\n",
       "    </tr>\n",
       "    <tr>\n",
       "      <th>6</th>\n",
       "      <td>Engine Cylinders</td>\n",
       "      <td>128</td>\n",
       "      <td>0.346658</td>\n",
       "    </tr>\n",
       "    <tr>\n",
       "      <th>7</th>\n",
       "      <td>Engine Displacement</td>\n",
       "      <td>126</td>\n",
       "      <td>0.341241</td>\n",
       "    </tr>\n",
       "  </tbody>\n",
       "</table>\n",
       "</div>"
      ],
      "text/plain": [
       "                column  total_na  na_to_data_ratio\n",
       "4         Transmission         8          0.021666\n",
       "6     Engine Cylinders       128          0.346658\n",
       "7  Engine Displacement       126          0.341241"
      ]
     },
     "execution_count": 1337,
     "metadata": {},
     "output_type": "execute_result"
    }
   ],
   "source": [
    "count_nan()"
   ]
  },
  {
   "cell_type": "markdown",
   "id": "4a820f5b-e124-43b7-bf1a-5584490685ef",
   "metadata": {},
   "source": [
    "#### 3.4.4 Transmission Features"
   ]
  },
  {
   "cell_type": "markdown",
   "id": "6ba64d25-e8bb-474e-b0ce-8e05d77e0172",
   "metadata": {},
   "source": [
    "The data with NA is most probably powered by Electricity because electric car do not have transmission. Let's check the data to prove my assumption"
   ]
  },
  {
   "cell_type": "code",
   "execution_count": 1339,
   "id": "fdf41a22-1abf-46b8-a58d-c031eed9cb96",
   "metadata": {},
   "outputs": [
    {
     "data": {
      "text/html": [
       "<div>\n",
       "<style scoped>\n",
       "    .dataframe tbody tr th:only-of-type {\n",
       "        vertical-align: middle;\n",
       "    }\n",
       "\n",
       "    .dataframe tbody tr th {\n",
       "        vertical-align: top;\n",
       "    }\n",
       "\n",
       "    .dataframe thead th {\n",
       "        text-align: right;\n",
       "    }\n",
       "</style>\n",
       "<table border=\"1\" class=\"dataframe\">\n",
       "  <thead>\n",
       "    <tr style=\"text-align: right;\">\n",
       "      <th></th>\n",
       "      <th>Transmission</th>\n",
       "      <th>Fuel Type</th>\n",
       "    </tr>\n",
       "  </thead>\n",
       "  <tbody>\n",
       "    <tr>\n",
       "      <th>780</th>\n",
       "      <td>NaN</td>\n",
       "      <td>Regular</td>\n",
       "    </tr>\n",
       "    <tr>\n",
       "      <th>937</th>\n",
       "      <td>NaN</td>\n",
       "      <td>Regular</td>\n",
       "    </tr>\n",
       "    <tr>\n",
       "      <th>18734</th>\n",
       "      <td>NaN</td>\n",
       "      <td>Electricity</td>\n",
       "    </tr>\n",
       "    <tr>\n",
       "      <th>19131</th>\n",
       "      <td>NaN</td>\n",
       "      <td>Electricity</td>\n",
       "    </tr>\n",
       "    <tr>\n",
       "      <th>19644</th>\n",
       "      <td>NaN</td>\n",
       "      <td>Electricity</td>\n",
       "    </tr>\n",
       "    <tr>\n",
       "      <th>20062</th>\n",
       "      <td>NaN</td>\n",
       "      <td>Electricity</td>\n",
       "    </tr>\n",
       "    <tr>\n",
       "      <th>20612</th>\n",
       "      <td>NaN</td>\n",
       "      <td>Electricity</td>\n",
       "    </tr>\n",
       "    <tr>\n",
       "      <th>21656</th>\n",
       "      <td>NaN</td>\n",
       "      <td>Electricity</td>\n",
       "    </tr>\n",
       "  </tbody>\n",
       "</table>\n",
       "</div>"
      ],
      "text/plain": [
       "      Transmission    Fuel Type\n",
       "780            NaN      Regular\n",
       "937            NaN      Regular\n",
       "18734          NaN  Electricity\n",
       "19131          NaN  Electricity\n",
       "19644          NaN  Electricity\n",
       "20062          NaN  Electricity\n",
       "20612          NaN  Electricity\n",
       "21656          NaN  Electricity"
      ]
     },
     "execution_count": 1339,
     "metadata": {},
     "output_type": "execute_result"
    }
   ],
   "source": [
    "df_filtered[df_filtered['Transmission'].isna()][['Transmission','Fuel Type']]"
   ]
  },
  {
   "cell_type": "code",
   "execution_count": 1340,
   "id": "ad58b903-ebee-4379-838e-5c850270afde",
   "metadata": {},
   "outputs": [
    {
     "data": {
      "text/plain": [
       "8"
      ]
     },
     "execution_count": 1340,
     "metadata": {},
     "output_type": "execute_result"
    }
   ],
   "source": [
    "df_filtered[df_filtered['Transmission'].isna()][['Transmission','Fuel Type']].shape[0]"
   ]
  },
  {
   "cell_type": "markdown",
   "id": "06c57811-622a-4f08-93ac-5e7c20253eff",
   "metadata": {},
   "source": [
    "There are 2 data which use Regular Gasoline but no Transmission. Those data is not a valid data because the car powered by Fossil Energy have Transmission. We can drop those 2 data since we cannot guess whether those car use manual or automatic transmission"
   ]
  },
  {
   "cell_type": "code",
   "execution_count": 1341,
   "id": "24c52927-874b-4842-b790-cb31ad621710",
   "metadata": {},
   "outputs": [
    {
     "data": {
      "text/html": [
       "<div>\n",
       "<style scoped>\n",
       "    .dataframe tbody tr th:only-of-type {\n",
       "        vertical-align: middle;\n",
       "    }\n",
       "\n",
       "    .dataframe tbody tr th {\n",
       "        vertical-align: top;\n",
       "    }\n",
       "\n",
       "    .dataframe thead th {\n",
       "        text-align: right;\n",
       "    }\n",
       "</style>\n",
       "<table border=\"1\" class=\"dataframe\">\n",
       "  <thead>\n",
       "    <tr style=\"text-align: right;\">\n",
       "      <th></th>\n",
       "      <th>column</th>\n",
       "      <th>total_na</th>\n",
       "      <th>na_to_data_ratio</th>\n",
       "    </tr>\n",
       "  </thead>\n",
       "  <tbody>\n",
       "    <tr>\n",
       "      <th>4</th>\n",
       "      <td>Transmission</td>\n",
       "      <td>6</td>\n",
       "      <td>0.016250</td>\n",
       "    </tr>\n",
       "    <tr>\n",
       "      <th>6</th>\n",
       "      <td>Engine Cylinders</td>\n",
       "      <td>128</td>\n",
       "      <td>0.346677</td>\n",
       "    </tr>\n",
       "    <tr>\n",
       "      <th>7</th>\n",
       "      <td>Engine Displacement</td>\n",
       "      <td>126</td>\n",
       "      <td>0.341260</td>\n",
       "    </tr>\n",
       "  </tbody>\n",
       "</table>\n",
       "</div>"
      ],
      "text/plain": [
       "                column  total_na  na_to_data_ratio\n",
       "4         Transmission         6          0.016250\n",
       "6     Engine Cylinders       128          0.346677\n",
       "7  Engine Displacement       126          0.341260"
      ]
     },
     "execution_count": 1341,
     "metadata": {},
     "output_type": "execute_result"
    }
   ],
   "source": [
    "index_removed = df_filtered.loc[(df_filtered['Transmission'].isna()) & (df_filtered['Fuel Type'] == 'Regular')].index\n",
    "df_filtered.drop(index_removed,axis=0,inplace = True)\n",
    "count_nan()"
   ]
  },
  {
   "cell_type": "markdown",
   "id": "0e7b6ddf-c235-450c-b460-5202ee715c15",
   "metadata": {},
   "source": [
    "The remaining 6 entry we will update it as Not Applicable string."
   ]
  },
  {
   "cell_type": "code",
   "execution_count": 1343,
   "id": "7a4cc4ad-90ff-4406-983c-0a782be15453",
   "metadata": {},
   "outputs": [],
   "source": [
    "df_filtered['Transmission'].fillna('Not Applicable',inplace=True)"
   ]
  },
  {
   "cell_type": "code",
   "execution_count": 1344,
   "id": "cb7c1841-8f9a-42f5-b6cc-324fada885d8",
   "metadata": {},
   "outputs": [
    {
     "data": {
      "text/html": [
       "<div>\n",
       "<style scoped>\n",
       "    .dataframe tbody tr th:only-of-type {\n",
       "        vertical-align: middle;\n",
       "    }\n",
       "\n",
       "    .dataframe tbody tr th {\n",
       "        vertical-align: top;\n",
       "    }\n",
       "\n",
       "    .dataframe thead th {\n",
       "        text-align: right;\n",
       "    }\n",
       "</style>\n",
       "<table border=\"1\" class=\"dataframe\">\n",
       "  <thead>\n",
       "    <tr style=\"text-align: right;\">\n",
       "      <th></th>\n",
       "      <th>column</th>\n",
       "      <th>total_na</th>\n",
       "      <th>na_to_data_ratio</th>\n",
       "    </tr>\n",
       "  </thead>\n",
       "  <tbody>\n",
       "    <tr>\n",
       "      <th>6</th>\n",
       "      <td>Engine Cylinders</td>\n",
       "      <td>128</td>\n",
       "      <td>0.346677</td>\n",
       "    </tr>\n",
       "    <tr>\n",
       "      <th>7</th>\n",
       "      <td>Engine Displacement</td>\n",
       "      <td>126</td>\n",
       "      <td>0.341260</td>\n",
       "    </tr>\n",
       "  </tbody>\n",
       "</table>\n",
       "</div>"
      ],
      "text/plain": [
       "                column  total_na  na_to_data_ratio\n",
       "6     Engine Cylinders       128          0.346677\n",
       "7  Engine Displacement       126          0.341260"
      ]
     },
     "execution_count": 1344,
     "metadata": {},
     "output_type": "execute_result"
    }
   ],
   "source": [
    "count_nan()"
   ]
  },
  {
   "cell_type": "markdown",
   "id": "7d9481a9-014e-47ca-ba25-069269f21803",
   "metadata": {},
   "source": [
    "#### 3.4.5 Engine Cylinders"
   ]
  },
  {
   "cell_type": "markdown",
   "id": "959f4437-1151-4c92-82cb-caacec12d325",
   "metadata": {},
   "source": [
    "Same as Transmission, most probably those data with NA is Electric car since it's driven by Electric Motor, not an Internal Combustion engine (Fuel type : Regular)."
   ]
  },
  {
   "cell_type": "code",
   "execution_count": 1345,
   "id": "15351fde-d64f-4ae1-9bc2-b8b1e1ad4103",
   "metadata": {},
   "outputs": [
    {
     "data": {
      "text/html": [
       "<div>\n",
       "<style scoped>\n",
       "    .dataframe tbody tr th:only-of-type {\n",
       "        vertical-align: middle;\n",
       "    }\n",
       "\n",
       "    .dataframe tbody tr th {\n",
       "        vertical-align: top;\n",
       "    }\n",
       "\n",
       "    .dataframe thead th {\n",
       "        text-align: right;\n",
       "    }\n",
       "</style>\n",
       "<table border=\"1\" class=\"dataframe\">\n",
       "  <thead>\n",
       "    <tr style=\"text-align: right;\">\n",
       "      <th></th>\n",
       "      <th>Engine Cylinders</th>\n",
       "      <th>Fuel Type</th>\n",
       "    </tr>\n",
       "  </thead>\n",
       "  <tbody>\n",
       "    <tr>\n",
       "      <th>3524</th>\n",
       "      <td>NaN</td>\n",
       "      <td>Regular</td>\n",
       "    </tr>\n",
       "    <tr>\n",
       "      <th>3525</th>\n",
       "      <td>NaN</td>\n",
       "      <td>Regular</td>\n",
       "    </tr>\n",
       "    <tr>\n",
       "      <th>4446</th>\n",
       "      <td>NaN</td>\n",
       "      <td>Regular</td>\n",
       "    </tr>\n",
       "    <tr>\n",
       "      <th>16448</th>\n",
       "      <td>NaN</td>\n",
       "      <td>Electricity</td>\n",
       "    </tr>\n",
       "    <tr>\n",
       "      <th>16449</th>\n",
       "      <td>NaN</td>\n",
       "      <td>Electricity</td>\n",
       "    </tr>\n",
       "    <tr>\n",
       "      <th>...</th>\n",
       "      <td>...</td>\n",
       "      <td>...</td>\n",
       "    </tr>\n",
       "    <tr>\n",
       "      <th>37998</th>\n",
       "      <td>NaN</td>\n",
       "      <td>Electricity</td>\n",
       "    </tr>\n",
       "    <tr>\n",
       "      <th>37999</th>\n",
       "      <td>NaN</td>\n",
       "      <td>Electricity</td>\n",
       "    </tr>\n",
       "    <tr>\n",
       "      <th>38000</th>\n",
       "      <td>NaN</td>\n",
       "      <td>Electricity</td>\n",
       "    </tr>\n",
       "    <tr>\n",
       "      <th>38001</th>\n",
       "      <td>NaN</td>\n",
       "      <td>Electricity</td>\n",
       "    </tr>\n",
       "    <tr>\n",
       "      <th>38002</th>\n",
       "      <td>NaN</td>\n",
       "      <td>Electricity</td>\n",
       "    </tr>\n",
       "  </tbody>\n",
       "</table>\n",
       "<p>128 rows × 2 columns</p>\n",
       "</div>"
      ],
      "text/plain": [
       "       Engine Cylinders    Fuel Type\n",
       "3524                NaN      Regular\n",
       "3525                NaN      Regular\n",
       "4446                NaN      Regular\n",
       "16448               NaN  Electricity\n",
       "16449               NaN  Electricity\n",
       "...                 ...          ...\n",
       "37998               NaN  Electricity\n",
       "37999               NaN  Electricity\n",
       "38000               NaN  Electricity\n",
       "38001               NaN  Electricity\n",
       "38002               NaN  Electricity\n",
       "\n",
       "[128 rows x 2 columns]"
      ]
     },
     "execution_count": 1345,
     "metadata": {},
     "output_type": "execute_result"
    }
   ],
   "source": [
    "df_filtered[df_filtered['Engine Cylinders'].isna()][['Engine Cylinders','Fuel Type']]"
   ]
  },
  {
   "cell_type": "markdown",
   "id": "5a1115ff-b6a0-4d22-9f8b-9fdba004c193",
   "metadata": {},
   "source": [
    "There are car with Internal Combustion engine which do not have the data. Let's take a look on how entries that have NA"
   ]
  },
  {
   "cell_type": "code",
   "execution_count": 1346,
   "id": "581ee30d-2283-4738-a313-6f0adb730e72",
   "metadata": {},
   "outputs": [
    {
     "data": {
      "text/html": [
       "<div>\n",
       "<style scoped>\n",
       "    .dataframe tbody tr th:only-of-type {\n",
       "        vertical-align: middle;\n",
       "    }\n",
       "\n",
       "    .dataframe tbody tr th {\n",
       "        vertical-align: top;\n",
       "    }\n",
       "\n",
       "    .dataframe thead th {\n",
       "        text-align: right;\n",
       "    }\n",
       "</style>\n",
       "<table border=\"1\" class=\"dataframe\">\n",
       "  <thead>\n",
       "    <tr style=\"text-align: right;\">\n",
       "      <th></th>\n",
       "      <th>Engine Cylinders</th>\n",
       "      <th>Fuel Type</th>\n",
       "    </tr>\n",
       "  </thead>\n",
       "  <tbody>\n",
       "    <tr>\n",
       "      <th>3524</th>\n",
       "      <td>NaN</td>\n",
       "      <td>Regular</td>\n",
       "    </tr>\n",
       "    <tr>\n",
       "      <th>3525</th>\n",
       "      <td>NaN</td>\n",
       "      <td>Regular</td>\n",
       "    </tr>\n",
       "    <tr>\n",
       "      <th>4446</th>\n",
       "      <td>NaN</td>\n",
       "      <td>Regular</td>\n",
       "    </tr>\n",
       "  </tbody>\n",
       "</table>\n",
       "</div>"
      ],
      "text/plain": [
       "      Engine Cylinders Fuel Type\n",
       "3524               NaN   Regular\n",
       "3525               NaN   Regular\n",
       "4446               NaN   Regular"
      ]
     },
     "execution_count": 1346,
     "metadata": {},
     "output_type": "execute_result"
    }
   ],
   "source": [
    "ambg_entries = df_filtered[(df_filtered['Engine Cylinders'].isna()) & (df_filtered['Fuel Type']!='Electricity')]\n",
    "ambg_entries[['Engine Cylinders','Fuel Type']]"
   ]
  },
  {
   "cell_type": "code",
   "execution_count": 1347,
   "id": "333853a1-a96a-43c1-a7fc-1ab80e83085a",
   "metadata": {},
   "outputs": [
    {
     "name": "stdout",
     "output_type": "stream",
     "text": [
      "Entries without Engine Cylinders but powered by Regular Gasoline : 3\n"
     ]
    }
   ],
   "source": [
    "print (f'Entries without Engine Cylinders but powered by Regular Gasoline : {ambg_entries.shape[0]}')"
   ]
  },
  {
   "cell_type": "markdown",
   "id": "f12ec717-995b-4485-80f6-cc7d8ace4dda",
   "metadata": {},
   "source": [
    "We just removed those data since we don't have any Idea on how many Cylinders those car engine have."
   ]
  },
  {
   "cell_type": "code",
   "execution_count": 1348,
   "id": "358d4803-e495-43e4-8dd4-b2a018a7c0f6",
   "metadata": {},
   "outputs": [
    {
     "data": {
      "text/html": [
       "<div>\n",
       "<style scoped>\n",
       "    .dataframe tbody tr th:only-of-type {\n",
       "        vertical-align: middle;\n",
       "    }\n",
       "\n",
       "    .dataframe tbody tr th {\n",
       "        vertical-align: top;\n",
       "    }\n",
       "\n",
       "    .dataframe thead th {\n",
       "        text-align: right;\n",
       "    }\n",
       "</style>\n",
       "<table border=\"1\" class=\"dataframe\">\n",
       "  <thead>\n",
       "    <tr style=\"text-align: right;\">\n",
       "      <th></th>\n",
       "      <th>column</th>\n",
       "      <th>total_na</th>\n",
       "      <th>na_to_data_ratio</th>\n",
       "    </tr>\n",
       "  </thead>\n",
       "  <tbody>\n",
       "    <tr>\n",
       "      <th>6</th>\n",
       "      <td>Engine Cylinders</td>\n",
       "      <td>125</td>\n",
       "      <td>0.338579</td>\n",
       "    </tr>\n",
       "    <tr>\n",
       "      <th>7</th>\n",
       "      <td>Engine Displacement</td>\n",
       "      <td>124</td>\n",
       "      <td>0.335870</td>\n",
       "    </tr>\n",
       "  </tbody>\n",
       "</table>\n",
       "</div>"
      ],
      "text/plain": [
       "                column  total_na  na_to_data_ratio\n",
       "6     Engine Cylinders       125          0.338579\n",
       "7  Engine Displacement       124          0.335870"
      ]
     },
     "execution_count": 1348,
     "metadata": {},
     "output_type": "execute_result"
    }
   ],
   "source": [
    "df_filtered.drop(ambg_entries.index,axis=0,inplace=True)\n",
    "count_nan()"
   ]
  },
  {
   "cell_type": "markdown",
   "id": "7386cda7-85a6-4a90-889c-dcc76deb4163",
   "metadata": {},
   "source": [
    "Fill the rest of the entry with Not Applicable string"
   ]
  },
  {
   "cell_type": "code",
   "execution_count": 1349,
   "id": "493734d6-09dc-45ae-84d1-d8f923da84f0",
   "metadata": {},
   "outputs": [],
   "source": [
    "df_filtered['Engine Cylinders'].fillna('Not Applicable',inplace=True)"
   ]
  },
  {
   "cell_type": "code",
   "execution_count": 1350,
   "id": "88239f78-1733-4895-ba3e-21569852d91a",
   "metadata": {},
   "outputs": [
    {
     "data": {
      "text/html": [
       "<div>\n",
       "<style scoped>\n",
       "    .dataframe tbody tr th:only-of-type {\n",
       "        vertical-align: middle;\n",
       "    }\n",
       "\n",
       "    .dataframe tbody tr th {\n",
       "        vertical-align: top;\n",
       "    }\n",
       "\n",
       "    .dataframe thead th {\n",
       "        text-align: right;\n",
       "    }\n",
       "</style>\n",
       "<table border=\"1\" class=\"dataframe\">\n",
       "  <thead>\n",
       "    <tr style=\"text-align: right;\">\n",
       "      <th></th>\n",
       "      <th>column</th>\n",
       "      <th>total_na</th>\n",
       "      <th>na_to_data_ratio</th>\n",
       "    </tr>\n",
       "  </thead>\n",
       "  <tbody>\n",
       "    <tr>\n",
       "      <th>7</th>\n",
       "      <td>Engine Displacement</td>\n",
       "      <td>124</td>\n",
       "      <td>0.33587</td>\n",
       "    </tr>\n",
       "  </tbody>\n",
       "</table>\n",
       "</div>"
      ],
      "text/plain": [
       "                column  total_na  na_to_data_ratio\n",
       "7  Engine Displacement       124           0.33587"
      ]
     },
     "execution_count": 1350,
     "metadata": {},
     "output_type": "execute_result"
    }
   ],
   "source": [
    "count_nan()"
   ]
  },
  {
   "cell_type": "markdown",
   "id": "46000fc1-0184-4db2-b892-71225f4c9f95",
   "metadata": {},
   "source": [
    "#### 3.4.6 Engine Displacement"
   ]
  },
  {
   "cell_type": "markdown",
   "id": "fb31d359-b5f1-4fe5-9453-04d1ca642c25",
   "metadata": {},
   "source": [
    "This is also having the same case as the Transmission and Engine cylinders. I will do the same thing."
   ]
  },
  {
   "cell_type": "code",
   "execution_count": 1351,
   "id": "196b65f2-ab2c-4163-99c4-1033a8f00df8",
   "metadata": {},
   "outputs": [
    {
     "data": {
      "text/html": [
       "<div>\n",
       "<style scoped>\n",
       "    .dataframe tbody tr th:only-of-type {\n",
       "        vertical-align: middle;\n",
       "    }\n",
       "\n",
       "    .dataframe tbody tr th {\n",
       "        vertical-align: top;\n",
       "    }\n",
       "\n",
       "    .dataframe thead th {\n",
       "        text-align: right;\n",
       "    }\n",
       "</style>\n",
       "<table border=\"1\" class=\"dataframe\">\n",
       "  <thead>\n",
       "    <tr style=\"text-align: right;\">\n",
       "      <th></th>\n",
       "      <th>Engine Displacement</th>\n",
       "      <th>Fuel Type</th>\n",
       "    </tr>\n",
       "  </thead>\n",
       "  <tbody>\n",
       "    <tr>\n",
       "      <th>16448</th>\n",
       "      <td>NaN</td>\n",
       "      <td>Electricity</td>\n",
       "    </tr>\n",
       "    <tr>\n",
       "      <th>16449</th>\n",
       "      <td>NaN</td>\n",
       "      <td>Electricity</td>\n",
       "    </tr>\n",
       "    <tr>\n",
       "      <th>17323</th>\n",
       "      <td>NaN</td>\n",
       "      <td>Electricity</td>\n",
       "    </tr>\n",
       "    <tr>\n",
       "      <th>17433</th>\n",
       "      <td>NaN</td>\n",
       "      <td>Electricity</td>\n",
       "    </tr>\n",
       "    <tr>\n",
       "      <th>17434</th>\n",
       "      <td>NaN</td>\n",
       "      <td>Electricity</td>\n",
       "    </tr>\n",
       "    <tr>\n",
       "      <th>...</th>\n",
       "      <td>...</td>\n",
       "      <td>...</td>\n",
       "    </tr>\n",
       "    <tr>\n",
       "      <th>37998</th>\n",
       "      <td>NaN</td>\n",
       "      <td>Electricity</td>\n",
       "    </tr>\n",
       "    <tr>\n",
       "      <th>37999</th>\n",
       "      <td>NaN</td>\n",
       "      <td>Electricity</td>\n",
       "    </tr>\n",
       "    <tr>\n",
       "      <th>38000</th>\n",
       "      <td>NaN</td>\n",
       "      <td>Electricity</td>\n",
       "    </tr>\n",
       "    <tr>\n",
       "      <th>38001</th>\n",
       "      <td>NaN</td>\n",
       "      <td>Electricity</td>\n",
       "    </tr>\n",
       "    <tr>\n",
       "      <th>38002</th>\n",
       "      <td>NaN</td>\n",
       "      <td>Electricity</td>\n",
       "    </tr>\n",
       "  </tbody>\n",
       "</table>\n",
       "<p>124 rows × 2 columns</p>\n",
       "</div>"
      ],
      "text/plain": [
       "       Engine Displacement    Fuel Type\n",
       "16448                  NaN  Electricity\n",
       "16449                  NaN  Electricity\n",
       "17323                  NaN  Electricity\n",
       "17433                  NaN  Electricity\n",
       "17434                  NaN  Electricity\n",
       "...                    ...          ...\n",
       "37998                  NaN  Electricity\n",
       "37999                  NaN  Electricity\n",
       "38000                  NaN  Electricity\n",
       "38001                  NaN  Electricity\n",
       "38002                  NaN  Electricity\n",
       "\n",
       "[124 rows x 2 columns]"
      ]
     },
     "execution_count": 1351,
     "metadata": {},
     "output_type": "execute_result"
    }
   ],
   "source": [
    "df_filtered[df_filtered['Engine Displacement'].isna()][['Engine Displacement','Fuel Type']]"
   ]
  },
  {
   "cell_type": "markdown",
   "id": "e49dcb3c-8ee9-42b7-b57b-230c68e94c97",
   "metadata": {},
   "source": [
    "Check if there are non electric car having the NaN values"
   ]
  },
  {
   "cell_type": "code",
   "execution_count": 1352,
   "id": "6ff2856b-bbee-4568-8c90-4be7ff543ff8",
   "metadata": {},
   "outputs": [
    {
     "data": {
      "text/html": [
       "<div>\n",
       "<style scoped>\n",
       "    .dataframe tbody tr th:only-of-type {\n",
       "        vertical-align: middle;\n",
       "    }\n",
       "\n",
       "    .dataframe tbody tr th {\n",
       "        vertical-align: top;\n",
       "    }\n",
       "\n",
       "    .dataframe thead th {\n",
       "        text-align: right;\n",
       "    }\n",
       "</style>\n",
       "<table border=\"1\" class=\"dataframe\">\n",
       "  <thead>\n",
       "    <tr style=\"text-align: right;\">\n",
       "      <th></th>\n",
       "      <th>Engine Displacement</th>\n",
       "      <th>Fuel Type</th>\n",
       "    </tr>\n",
       "  </thead>\n",
       "  <tbody>\n",
       "  </tbody>\n",
       "</table>\n",
       "</div>"
      ],
      "text/plain": [
       "Empty DataFrame\n",
       "Columns: [Engine Displacement, Fuel Type]\n",
       "Index: []"
      ]
     },
     "execution_count": 1352,
     "metadata": {},
     "output_type": "execute_result"
    }
   ],
   "source": [
    "ambg_entries = df_filtered[(df_filtered['Engine Displacement'].isna()) & (df_filtered['Fuel Type']!='Electricity')]\n",
    "ambg_entries[['Engine Displacement','Fuel Type']]"
   ]
  },
  {
   "cell_type": "code",
   "execution_count": 1353,
   "id": "3619231e-537c-47d3-ac27-2f3afc5df4d8",
   "metadata": {},
   "outputs": [
    {
     "name": "stdout",
     "output_type": "stream",
     "text": [
      "Entries without Engine Displacement but powered by Regular Gasoline : 0\n"
     ]
    }
   ],
   "source": [
    "print (f'Entries without Engine Displacement but powered by Regular Gasoline : {ambg_entries.shape[0]}')"
   ]
  },
  {
   "cell_type": "markdown",
   "id": "2d35c262-a796-42cc-9f08-6a45c20700c8",
   "metadata": {},
   "source": [
    "The data looks OK for this features. We just need to replace the Nan value with Not Applicable String"
   ]
  },
  {
   "cell_type": "code",
   "execution_count": 1354,
   "id": "a52c8bbc-5c54-473c-b697-6e687bb4decf",
   "metadata": {},
   "outputs": [],
   "source": [
    "df_filtered['Engine Displacement'].fillna('Not Applicable',inplace=True)"
   ]
  },
  {
   "cell_type": "code",
   "execution_count": 1355,
   "id": "1da82235-31be-4a4e-831a-476ecfc6cc9c",
   "metadata": {},
   "outputs": [
    {
     "data": {
      "text/html": [
       "<div>\n",
       "<style scoped>\n",
       "    .dataframe tbody tr th:only-of-type {\n",
       "        vertical-align: middle;\n",
       "    }\n",
       "\n",
       "    .dataframe tbody tr th {\n",
       "        vertical-align: top;\n",
       "    }\n",
       "\n",
       "    .dataframe thead th {\n",
       "        text-align: right;\n",
       "    }\n",
       "</style>\n",
       "<table border=\"1\" class=\"dataframe\">\n",
       "  <thead>\n",
       "    <tr style=\"text-align: right;\">\n",
       "      <th></th>\n",
       "      <th>column</th>\n",
       "      <th>total_na</th>\n",
       "      <th>na_to_data_ratio</th>\n",
       "    </tr>\n",
       "  </thead>\n",
       "  <tbody>\n",
       "  </tbody>\n",
       "</table>\n",
       "</div>"
      ],
      "text/plain": [
       "Empty DataFrame\n",
       "Columns: [column, total_na, na_to_data_ratio]\n",
       "Index: []"
      ]
     },
     "execution_count": 1355,
     "metadata": {},
     "output_type": "execute_result"
    }
   ],
   "source": [
    "count_nan()"
   ]
  },
  {
   "cell_type": "markdown",
   "id": "586990c3-bf29-4b7c-84bb-57995aa730ae",
   "metadata": {},
   "source": [
    "Until this step we don't have any features with NaN values anymore"
   ]
  },
  {
   "cell_type": "markdown",
   "id": "ee5c922f-a9ec-4468-856e-337343a2149e",
   "metadata": {},
   "source": [
    "#### 3.4.6 Summary after the Check NA step"
   ]
  },
  {
   "cell_type": "markdown",
   "id": "eb33df20-4dfb-44c5-8a0c-40240840f24f",
   "metadata": {},
   "source": [
    "After all the steps we going through, now we don't have any features with Null values. Some of the data we replaced with the correct values and some of them also been removed from our dataset because we don't know what value to be replaced. Most of the data removal happen during in the Drive Features (1183 entry). Below are the statistic of our data after we completed this step"
   ]
  },
  {
   "cell_type": "code",
   "execution_count": 1356,
   "id": "567fc45f-9494-4cc7-9038-8d27ffd86bb9",
   "metadata": {},
   "outputs": [
    {
     "name": "stdout",
     "output_type": "stream",
     "text": [
      "Total data Removed: 1194 out of 38113\n",
      "Remaining Data: 36919\n",
      "Percentage Data that are still retained: 96.86721066302836\n"
     ]
    }
   ],
   "source": [
    "data_statistics()"
   ]
  },
  {
   "cell_type": "markdown",
   "id": "f9dd9ef0-1937-4afa-8851-c1a10bdd9dd0",
   "metadata": {},
   "source": [
    "We still able to retain 96.87% of our data which is good. What we need to do is reset_index reorder the data index in the dataframe"
   ]
  },
  {
   "cell_type": "code",
   "execution_count": 1357,
   "id": "05d07449-0917-4b08-9978-a39ef1f86ac8",
   "metadata": {},
   "outputs": [],
   "source": [
    "df_filtered.reset_index(inplace=True)"
   ]
  },
  {
   "cell_type": "code",
   "execution_count": 1358,
   "id": "198f21bc-0e88-4b48-ab5b-cb19c856e1a1",
   "metadata": {},
   "outputs": [
    {
     "data": {
      "text/html": [
       "<div>\n",
       "<style scoped>\n",
       "    .dataframe tbody tr th:only-of-type {\n",
       "        vertical-align: middle;\n",
       "    }\n",
       "\n",
       "    .dataframe tbody tr th {\n",
       "        vertical-align: top;\n",
       "    }\n",
       "\n",
       "    .dataframe thead th {\n",
       "        text-align: right;\n",
       "    }\n",
       "</style>\n",
       "<table border=\"1\" class=\"dataframe\">\n",
       "  <thead>\n",
       "    <tr style=\"text-align: right;\">\n",
       "      <th></th>\n",
       "      <th>index</th>\n",
       "      <th>Year</th>\n",
       "      <th>Make</th>\n",
       "      <th>Class</th>\n",
       "      <th>Drive</th>\n",
       "      <th>Transmission</th>\n",
       "      <th>Engine Index</th>\n",
       "      <th>Engine Cylinders</th>\n",
       "      <th>Engine Displacement</th>\n",
       "      <th>Turbocharger</th>\n",
       "      <th>Supercharger</th>\n",
       "      <th>Fuel Type</th>\n",
       "      <th>Combined MPG (FT1)</th>\n",
       "      <th>Combined Electricity Consumption</th>\n",
       "      <th>Combined Gasoline Consumption (CD)</th>\n",
       "      <th>Annual Fuel Cost (FT1)</th>\n",
       "      <th>Annual Consumption in Barrels (FT1)</th>\n",
       "      <th>Tailpipe CO2 (FT1)</th>\n",
       "      <th>Fuel Economy Score</th>\n",
       "      <th>GHG Score</th>\n",
       "    </tr>\n",
       "  </thead>\n",
       "  <tbody>\n",
       "    <tr>\n",
       "      <th>0</th>\n",
       "      <td>4</td>\n",
       "      <td>1984</td>\n",
       "      <td>AM General</td>\n",
       "      <td>Special Purpose Vehicle 2WD</td>\n",
       "      <td>2-Wheel Drive</td>\n",
       "      <td>Automatic 3-Speed</td>\n",
       "      <td>1830</td>\n",
       "      <td>4.0</td>\n",
       "      <td>2.5</td>\n",
       "      <td>0.0</td>\n",
       "      <td>0.0</td>\n",
       "      <td>Regular</td>\n",
       "      <td>17</td>\n",
       "      <td>0.0</td>\n",
       "      <td>0.0</td>\n",
       "      <td>2050</td>\n",
       "      <td>19.388824</td>\n",
       "      <td>-1</td>\n",
       "      <td>-1</td>\n",
       "      <td>-1</td>\n",
       "    </tr>\n",
       "    <tr>\n",
       "      <th>1</th>\n",
       "      <td>5</td>\n",
       "      <td>1984</td>\n",
       "      <td>AM General</td>\n",
       "      <td>Special Purpose Vehicle 2WD</td>\n",
       "      <td>2-Wheel Drive</td>\n",
       "      <td>Automatic 3-Speed</td>\n",
       "      <td>1880</td>\n",
       "      <td>4.0</td>\n",
       "      <td>2.5</td>\n",
       "      <td>0.0</td>\n",
       "      <td>0.0</td>\n",
       "      <td>Regular</td>\n",
       "      <td>17</td>\n",
       "      <td>0.0</td>\n",
       "      <td>0.0</td>\n",
       "      <td>2050</td>\n",
       "      <td>19.388824</td>\n",
       "      <td>-1</td>\n",
       "      <td>-1</td>\n",
       "      <td>-1</td>\n",
       "    </tr>\n",
       "    <tr>\n",
       "      <th>2</th>\n",
       "      <td>6</td>\n",
       "      <td>1984</td>\n",
       "      <td>AM General</td>\n",
       "      <td>Special Purpose Vehicle 2WD</td>\n",
       "      <td>2-Wheel Drive</td>\n",
       "      <td>Automatic 3-Speed</td>\n",
       "      <td>1831</td>\n",
       "      <td>6.0</td>\n",
       "      <td>4.2</td>\n",
       "      <td>0.0</td>\n",
       "      <td>0.0</td>\n",
       "      <td>Regular</td>\n",
       "      <td>13</td>\n",
       "      <td>0.0</td>\n",
       "      <td>0.0</td>\n",
       "      <td>2700</td>\n",
       "      <td>25.354615</td>\n",
       "      <td>-1</td>\n",
       "      <td>-1</td>\n",
       "      <td>-1</td>\n",
       "    </tr>\n",
       "    <tr>\n",
       "      <th>3</th>\n",
       "      <td>7</td>\n",
       "      <td>1984</td>\n",
       "      <td>AM General</td>\n",
       "      <td>Special Purpose Vehicle 2WD</td>\n",
       "      <td>2-Wheel Drive</td>\n",
       "      <td>Automatic 3-Speed</td>\n",
       "      <td>1881</td>\n",
       "      <td>6.0</td>\n",
       "      <td>4.2</td>\n",
       "      <td>0.0</td>\n",
       "      <td>0.0</td>\n",
       "      <td>Regular</td>\n",
       "      <td>13</td>\n",
       "      <td>0.0</td>\n",
       "      <td>0.0</td>\n",
       "      <td>2700</td>\n",
       "      <td>25.354615</td>\n",
       "      <td>-1</td>\n",
       "      <td>-1</td>\n",
       "      <td>-1</td>\n",
       "    </tr>\n",
       "    <tr>\n",
       "      <th>4</th>\n",
       "      <td>8</td>\n",
       "      <td>1984</td>\n",
       "      <td>American Motors Corporation</td>\n",
       "      <td>Special Purpose Vehicle 4WD</td>\n",
       "      <td>4-Wheel or All-Wheel Drive</td>\n",
       "      <td>Automatic 3-Speed</td>\n",
       "      <td>1524</td>\n",
       "      <td>6.0</td>\n",
       "      <td>4.2</td>\n",
       "      <td>0.0</td>\n",
       "      <td>0.0</td>\n",
       "      <td>Regular</td>\n",
       "      <td>17</td>\n",
       "      <td>0.0</td>\n",
       "      <td>0.0</td>\n",
       "      <td>2050</td>\n",
       "      <td>19.388824</td>\n",
       "      <td>-1</td>\n",
       "      <td>-1</td>\n",
       "      <td>-1</td>\n",
       "    </tr>\n",
       "  </tbody>\n",
       "</table>\n",
       "</div>"
      ],
      "text/plain": [
       "   index  Year                         Make                        Class  \\\n",
       "0      4  1984                   AM General  Special Purpose Vehicle 2WD   \n",
       "1      5  1984                   AM General  Special Purpose Vehicle 2WD   \n",
       "2      6  1984                   AM General  Special Purpose Vehicle 2WD   \n",
       "3      7  1984                   AM General  Special Purpose Vehicle 2WD   \n",
       "4      8  1984  American Motors Corporation  Special Purpose Vehicle 4WD   \n",
       "\n",
       "                        Drive       Transmission  Engine Index  \\\n",
       "0               2-Wheel Drive  Automatic 3-Speed          1830   \n",
       "1               2-Wheel Drive  Automatic 3-Speed          1880   \n",
       "2               2-Wheel Drive  Automatic 3-Speed          1831   \n",
       "3               2-Wheel Drive  Automatic 3-Speed          1881   \n",
       "4  4-Wheel or All-Wheel Drive  Automatic 3-Speed          1524   \n",
       "\n",
       "  Engine Cylinders Engine Displacement  Turbocharger  Supercharger Fuel Type  \\\n",
       "0              4.0                 2.5           0.0           0.0   Regular   \n",
       "1              4.0                 2.5           0.0           0.0   Regular   \n",
       "2              6.0                 4.2           0.0           0.0   Regular   \n",
       "3              6.0                 4.2           0.0           0.0   Regular   \n",
       "4              6.0                 4.2           0.0           0.0   Regular   \n",
       "\n",
       "   Combined MPG (FT1)  Combined Electricity Consumption  \\\n",
       "0                  17                               0.0   \n",
       "1                  17                               0.0   \n",
       "2                  13                               0.0   \n",
       "3                  13                               0.0   \n",
       "4                  17                               0.0   \n",
       "\n",
       "   Combined Gasoline Consumption (CD)  Annual Fuel Cost (FT1)  \\\n",
       "0                                 0.0                    2050   \n",
       "1                                 0.0                    2050   \n",
       "2                                 0.0                    2700   \n",
       "3                                 0.0                    2700   \n",
       "4                                 0.0                    2050   \n",
       "\n",
       "   Annual Consumption in Barrels (FT1)  Tailpipe CO2 (FT1)  \\\n",
       "0                            19.388824                  -1   \n",
       "1                            19.388824                  -1   \n",
       "2                            25.354615                  -1   \n",
       "3                            25.354615                  -1   \n",
       "4                            19.388824                  -1   \n",
       "\n",
       "   Fuel Economy Score  GHG Score  \n",
       "0                  -1         -1  \n",
       "1                  -1         -1  \n",
       "2                  -1         -1  \n",
       "3                  -1         -1  \n",
       "4                  -1         -1  "
      ]
     },
     "execution_count": 1358,
     "metadata": {},
     "output_type": "execute_result"
    }
   ],
   "source": [
    "df_filtered.head()"
   ]
  },
  {
   "cell_type": "code",
   "execution_count": 1359,
   "id": "6074a3a8-ffaa-4638-b9f2-46e6b9491bdb",
   "metadata": {},
   "outputs": [
    {
     "data": {
      "text/html": [
       "<div>\n",
       "<style scoped>\n",
       "    .dataframe tbody tr th:only-of-type {\n",
       "        vertical-align: middle;\n",
       "    }\n",
       "\n",
       "    .dataframe tbody tr th {\n",
       "        vertical-align: top;\n",
       "    }\n",
       "\n",
       "    .dataframe thead th {\n",
       "        text-align: right;\n",
       "    }\n",
       "</style>\n",
       "<table border=\"1\" class=\"dataframe\">\n",
       "  <thead>\n",
       "    <tr style=\"text-align: right;\">\n",
       "      <th></th>\n",
       "      <th>Year</th>\n",
       "      <th>Make</th>\n",
       "      <th>Class</th>\n",
       "      <th>Drive</th>\n",
       "      <th>Transmission</th>\n",
       "      <th>Engine Index</th>\n",
       "      <th>Engine Cylinders</th>\n",
       "      <th>Engine Displacement</th>\n",
       "      <th>Turbocharger</th>\n",
       "      <th>Supercharger</th>\n",
       "      <th>Fuel Type</th>\n",
       "      <th>Combined MPG (FT1)</th>\n",
       "      <th>Combined Electricity Consumption</th>\n",
       "      <th>Combined Gasoline Consumption (CD)</th>\n",
       "      <th>Annual Fuel Cost (FT1)</th>\n",
       "      <th>Annual Consumption in Barrels (FT1)</th>\n",
       "      <th>Tailpipe CO2 (FT1)</th>\n",
       "      <th>Fuel Economy Score</th>\n",
       "      <th>GHG Score</th>\n",
       "    </tr>\n",
       "  </thead>\n",
       "  <tbody>\n",
       "    <tr>\n",
       "      <th>0</th>\n",
       "      <td>1984</td>\n",
       "      <td>AM General</td>\n",
       "      <td>Special Purpose Vehicle 2WD</td>\n",
       "      <td>2-Wheel Drive</td>\n",
       "      <td>Automatic 3-Speed</td>\n",
       "      <td>1830</td>\n",
       "      <td>4.0</td>\n",
       "      <td>2.5</td>\n",
       "      <td>0.0</td>\n",
       "      <td>0.0</td>\n",
       "      <td>Regular</td>\n",
       "      <td>17</td>\n",
       "      <td>0.0</td>\n",
       "      <td>0.0</td>\n",
       "      <td>2050</td>\n",
       "      <td>19.388824</td>\n",
       "      <td>-1</td>\n",
       "      <td>-1</td>\n",
       "      <td>-1</td>\n",
       "    </tr>\n",
       "    <tr>\n",
       "      <th>1</th>\n",
       "      <td>1984</td>\n",
       "      <td>AM General</td>\n",
       "      <td>Special Purpose Vehicle 2WD</td>\n",
       "      <td>2-Wheel Drive</td>\n",
       "      <td>Automatic 3-Speed</td>\n",
       "      <td>1880</td>\n",
       "      <td>4.0</td>\n",
       "      <td>2.5</td>\n",
       "      <td>0.0</td>\n",
       "      <td>0.0</td>\n",
       "      <td>Regular</td>\n",
       "      <td>17</td>\n",
       "      <td>0.0</td>\n",
       "      <td>0.0</td>\n",
       "      <td>2050</td>\n",
       "      <td>19.388824</td>\n",
       "      <td>-1</td>\n",
       "      <td>-1</td>\n",
       "      <td>-1</td>\n",
       "    </tr>\n",
       "    <tr>\n",
       "      <th>2</th>\n",
       "      <td>1984</td>\n",
       "      <td>AM General</td>\n",
       "      <td>Special Purpose Vehicle 2WD</td>\n",
       "      <td>2-Wheel Drive</td>\n",
       "      <td>Automatic 3-Speed</td>\n",
       "      <td>1831</td>\n",
       "      <td>6.0</td>\n",
       "      <td>4.2</td>\n",
       "      <td>0.0</td>\n",
       "      <td>0.0</td>\n",
       "      <td>Regular</td>\n",
       "      <td>13</td>\n",
       "      <td>0.0</td>\n",
       "      <td>0.0</td>\n",
       "      <td>2700</td>\n",
       "      <td>25.354615</td>\n",
       "      <td>-1</td>\n",
       "      <td>-1</td>\n",
       "      <td>-1</td>\n",
       "    </tr>\n",
       "    <tr>\n",
       "      <th>3</th>\n",
       "      <td>1984</td>\n",
       "      <td>AM General</td>\n",
       "      <td>Special Purpose Vehicle 2WD</td>\n",
       "      <td>2-Wheel Drive</td>\n",
       "      <td>Automatic 3-Speed</td>\n",
       "      <td>1881</td>\n",
       "      <td>6.0</td>\n",
       "      <td>4.2</td>\n",
       "      <td>0.0</td>\n",
       "      <td>0.0</td>\n",
       "      <td>Regular</td>\n",
       "      <td>13</td>\n",
       "      <td>0.0</td>\n",
       "      <td>0.0</td>\n",
       "      <td>2700</td>\n",
       "      <td>25.354615</td>\n",
       "      <td>-1</td>\n",
       "      <td>-1</td>\n",
       "      <td>-1</td>\n",
       "    </tr>\n",
       "    <tr>\n",
       "      <th>4</th>\n",
       "      <td>1984</td>\n",
       "      <td>American Motors Corporation</td>\n",
       "      <td>Special Purpose Vehicle 4WD</td>\n",
       "      <td>4-Wheel or All-Wheel Drive</td>\n",
       "      <td>Automatic 3-Speed</td>\n",
       "      <td>1524</td>\n",
       "      <td>6.0</td>\n",
       "      <td>4.2</td>\n",
       "      <td>0.0</td>\n",
       "      <td>0.0</td>\n",
       "      <td>Regular</td>\n",
       "      <td>17</td>\n",
       "      <td>0.0</td>\n",
       "      <td>0.0</td>\n",
       "      <td>2050</td>\n",
       "      <td>19.388824</td>\n",
       "      <td>-1</td>\n",
       "      <td>-1</td>\n",
       "      <td>-1</td>\n",
       "    </tr>\n",
       "  </tbody>\n",
       "</table>\n",
       "</div>"
      ],
      "text/plain": [
       "   Year                         Make                        Class  \\\n",
       "0  1984                   AM General  Special Purpose Vehicle 2WD   \n",
       "1  1984                   AM General  Special Purpose Vehicle 2WD   \n",
       "2  1984                   AM General  Special Purpose Vehicle 2WD   \n",
       "3  1984                   AM General  Special Purpose Vehicle 2WD   \n",
       "4  1984  American Motors Corporation  Special Purpose Vehicle 4WD   \n",
       "\n",
       "                        Drive       Transmission  Engine Index  \\\n",
       "0               2-Wheel Drive  Automatic 3-Speed          1830   \n",
       "1               2-Wheel Drive  Automatic 3-Speed          1880   \n",
       "2               2-Wheel Drive  Automatic 3-Speed          1831   \n",
       "3               2-Wheel Drive  Automatic 3-Speed          1881   \n",
       "4  4-Wheel or All-Wheel Drive  Automatic 3-Speed          1524   \n",
       "\n",
       "  Engine Cylinders Engine Displacement  Turbocharger  Supercharger Fuel Type  \\\n",
       "0              4.0                 2.5           0.0           0.0   Regular   \n",
       "1              4.0                 2.5           0.0           0.0   Regular   \n",
       "2              6.0                 4.2           0.0           0.0   Regular   \n",
       "3              6.0                 4.2           0.0           0.0   Regular   \n",
       "4              6.0                 4.2           0.0           0.0   Regular   \n",
       "\n",
       "   Combined MPG (FT1)  Combined Electricity Consumption  \\\n",
       "0                  17                               0.0   \n",
       "1                  17                               0.0   \n",
       "2                  13                               0.0   \n",
       "3                  13                               0.0   \n",
       "4                  17                               0.0   \n",
       "\n",
       "   Combined Gasoline Consumption (CD)  Annual Fuel Cost (FT1)  \\\n",
       "0                                 0.0                    2050   \n",
       "1                                 0.0                    2050   \n",
       "2                                 0.0                    2700   \n",
       "3                                 0.0                    2700   \n",
       "4                                 0.0                    2050   \n",
       "\n",
       "   Annual Consumption in Barrels (FT1)  Tailpipe CO2 (FT1)  \\\n",
       "0                            19.388824                  -1   \n",
       "1                            19.388824                  -1   \n",
       "2                            25.354615                  -1   \n",
       "3                            25.354615                  -1   \n",
       "4                            19.388824                  -1   \n",
       "\n",
       "   Fuel Economy Score  GHG Score  \n",
       "0                  -1         -1  \n",
       "1                  -1         -1  \n",
       "2                  -1         -1  \n",
       "3                  -1         -1  \n",
       "4                  -1         -1  "
      ]
     },
     "execution_count": 1359,
     "metadata": {},
     "output_type": "execute_result"
    }
   ],
   "source": [
    "#Remove Index Column\n",
    "df_filtered.drop(['index'],axis=1,inplace=True)\n",
    "df_filtered.head()"
   ]
  },
  {
   "cell_type": "markdown",
   "id": "b6ad6b81-fdbd-4a9c-90a5-a107da99584e",
   "metadata": {},
   "source": [
    "The next step we will check if there're any anomaly in the data that is not logically make sense. We will describe in the next step."
   ]
  },
  {
   "cell_type": "markdown",
   "id": "7b1ca0f4-7798-41b4-b6c0-8434a078efd6",
   "metadata": {},
   "source": [
    "City MPG measures how many miles can be driven for each 1 gallon of fuel if the car is driven in the city area only with either only using Fuel Type 1 or Fuel Type 2. If the data is correct, only FT1 column is filled when the car only has 1 type of Fuel type and both filled if the vehicle is a Hybrid vehicle. Let's check on it."
   ]
  },
  {
   "cell_type": "markdown",
   "id": "1c5253c9-d92e-46ef-acba-9fdc0a9afe3a",
   "metadata": {},
   "source": [
    "### 4.2.1 Analysis on FT1 only features"
   ]
  },
  {
   "cell_type": "markdown",
   "id": "33cef7b1-1ce5-4424-ad17-6e5e1ca5c232",
   "metadata": {},
   "source": [
    "The data should not have any entries with 0 MPG in the FT1. If there's such data, we need to remove it because it can messed up our model."
   ]
  },
  {
   "cell_type": "code",
   "execution_count": 1182,
   "id": "0e1bd069-b1f1-4b0b-b1de-ffc8cacd1e9f",
   "metadata": {},
   "outputs": [
    {
     "data": {
      "text/plain": [
       "0"
      ]
     },
     "execution_count": 1182,
     "metadata": {},
     "output_type": "execute_result"
    }
   ],
   "source": [
    "df_filtered.loc[df_filtered['City MPG (FT1)'] < 0].shape[0]"
   ]
  },
  {
   "cell_type": "markdown",
   "id": "d4b76dbc-a0d8-42f9-b092-73e76d60cc9f",
   "metadata": {},
   "source": [
    "Let's check the Fuel type for the data with FT1 MPG only"
   ]
  },
  {
   "cell_type": "code",
   "execution_count": 1183,
   "id": "31aa2e0b-2ada-42c3-9c8f-7583c9fc81d4",
   "metadata": {},
   "outputs": [
    {
     "data": {
      "text/plain": [
       "array(['Regular', 'Diesel', 'Premium', 'CNG', 'Electricity', 'Midgrade'],\n",
       "      dtype=object)"
      ]
     },
     "execution_count": 1183,
     "metadata": {},
     "output_type": "execute_result"
    }
   ],
   "source": [
    "df_filtered[df_filtered['City MPG (FT2)'] <= 0]['Fuel Type'].unique()"
   ]
  },
  {
   "cell_type": "markdown",
   "id": "4e89459c-1dc2-42a1-bcf8-82f567c37905",
   "metadata": {},
   "source": [
    "#### Electric car Analysis"
   ]
  },
  {
   "cell_type": "markdown",
   "id": "69a7e10c-820b-496b-ad26-230ec34c6980",
   "metadata": {},
   "source": [
    "We have electricity in the list which is not make sense because the source energy is not a Fossil fuel. \n",
    "But after do some research, actually there's a thing called MPGe (https://cars.usnews.com/cars-trucks/advice/what-is-mpge) which covert the Energy consumption into MPG.\n",
    "Let's take a look on the Electric car City MPG and City Electric Consumption. We need to make sure that Both features are filled"
   ]
  },
  {
   "cell_type": "code",
   "execution_count": 1184,
   "id": "6c7ae6c8-accb-4fa3-8d1e-7b2a9135eea5",
   "metadata": {},
   "outputs": [
    {
     "data": {
      "text/html": [
       "<div>\n",
       "<style scoped>\n",
       "    .dataframe tbody tr th:only-of-type {\n",
       "        vertical-align: middle;\n",
       "    }\n",
       "\n",
       "    .dataframe tbody tr th {\n",
       "        vertical-align: top;\n",
       "    }\n",
       "\n",
       "    .dataframe thead th {\n",
       "        text-align: right;\n",
       "    }\n",
       "</style>\n",
       "<table border=\"1\" class=\"dataframe\">\n",
       "  <thead>\n",
       "    <tr style=\"text-align: right;\">\n",
       "      <th></th>\n",
       "      <th>Fuel Type</th>\n",
       "      <th>City MPG (FT1)</th>\n",
       "      <th>City Electricity Consumption</th>\n",
       "    </tr>\n",
       "  </thead>\n",
       "  <tbody>\n",
       "    <tr>\n",
       "      <th>15263</th>\n",
       "      <td>Electricity</td>\n",
       "      <td>52</td>\n",
       "      <td>64.0</td>\n",
       "    </tr>\n",
       "    <tr>\n",
       "      <th>15264</th>\n",
       "      <td>Electricity</td>\n",
       "      <td>28</td>\n",
       "      <td>122.0</td>\n",
       "    </tr>\n",
       "    <tr>\n",
       "      <th>16137</th>\n",
       "      <td>Electricity</td>\n",
       "      <td>37</td>\n",
       "      <td>90.0</td>\n",
       "    </tr>\n",
       "    <tr>\n",
       "      <th>16247</th>\n",
       "      <td>Electricity</td>\n",
       "      <td>62</td>\n",
       "      <td>54.0</td>\n",
       "    </tr>\n",
       "    <tr>\n",
       "      <th>16248</th>\n",
       "      <td>Electricity</td>\n",
       "      <td>50</td>\n",
       "      <td>67.0</td>\n",
       "    </tr>\n",
       "    <tr>\n",
       "      <th>...</th>\n",
       "      <td>...</td>\n",
       "      <td>...</td>\n",
       "      <td>...</td>\n",
       "    </tr>\n",
       "    <tr>\n",
       "      <th>36804</th>\n",
       "      <td>Electricity</td>\n",
       "      <td>91</td>\n",
       "      <td>37.0</td>\n",
       "    </tr>\n",
       "    <tr>\n",
       "      <th>36805</th>\n",
       "      <td>Electricity</td>\n",
       "      <td>91</td>\n",
       "      <td>37.0</td>\n",
       "    </tr>\n",
       "    <tr>\n",
       "      <th>36806</th>\n",
       "      <td>Electricity</td>\n",
       "      <td>90</td>\n",
       "      <td>37.0</td>\n",
       "    </tr>\n",
       "    <tr>\n",
       "      <th>36807</th>\n",
       "      <td>Electricity</td>\n",
       "      <td>81</td>\n",
       "      <td>41.0</td>\n",
       "    </tr>\n",
       "    <tr>\n",
       "      <th>36808</th>\n",
       "      <td>Electricity</td>\n",
       "      <td>89</td>\n",
       "      <td>38.0</td>\n",
       "    </tr>\n",
       "  </tbody>\n",
       "</table>\n",
       "<p>125 rows × 3 columns</p>\n",
       "</div>"
      ],
      "text/plain": [
       "         Fuel Type  City MPG (FT1)  City Electricity Consumption\n",
       "15263  Electricity              52                          64.0\n",
       "15264  Electricity              28                         122.0\n",
       "16137  Electricity              37                          90.0\n",
       "16247  Electricity              62                          54.0\n",
       "16248  Electricity              50                          67.0\n",
       "...            ...             ...                           ...\n",
       "36804  Electricity              91                          37.0\n",
       "36805  Electricity              91                          37.0\n",
       "36806  Electricity              90                          37.0\n",
       "36807  Electricity              81                          41.0\n",
       "36808  Electricity              89                          38.0\n",
       "\n",
       "[125 rows x 3 columns]"
      ]
     },
     "execution_count": 1184,
     "metadata": {},
     "output_type": "execute_result"
    }
   ],
   "source": [
    "df_electric_only = df_filtered[df_filtered['Fuel Type'] == 'Electricity'][['Fuel Type','City MPG (FT1)', 'City Electricity Consumption']]\n",
    "df_electric_only"
   ]
  },
  {
   "cell_type": "markdown",
   "id": "aa8f5dbe-858a-407f-b67f-c56c02a133a4",
   "metadata": {},
   "source": [
    "Check if the electric car have 0 City MPG FT1"
   ]
  },
  {
   "cell_type": "code",
   "execution_count": 1185,
   "id": "49fd8d6e-7b71-4532-9859-7cbe08c6c4ec",
   "metadata": {},
   "outputs": [
    {
     "data": {
      "text/plain": [
       "0"
      ]
     },
     "execution_count": 1185,
     "metadata": {},
     "output_type": "execute_result"
    }
   ],
   "source": [
    "df_electric_only[df_electric_only['City MPG (FT1)'] <= 0].shape[0]"
   ]
  },
  {
   "cell_type": "markdown",
   "id": "d7c01528-0d50-40aa-8473-00bf3e402b41",
   "metadata": {},
   "source": [
    "Check if the electric car have 0 City electricity consumption"
   ]
  },
  {
   "cell_type": "code",
   "execution_count": 1186,
   "id": "4bbdbfb3-f91f-4a4b-8ce8-656f23a4e68b",
   "metadata": {
    "tags": []
   },
   "outputs": [
    {
     "data": {
      "text/plain": [
       "0"
      ]
     },
     "execution_count": 1186,
     "metadata": {},
     "output_type": "execute_result"
    }
   ],
   "source": [
    "df_electric_only[df_electric_only['City Electricity Consumption'] <= 0].shape[0]"
   ]
  },
  {
   "cell_type": "markdown",
   "id": "0889ca12-af29-43a5-b38a-c17651748d80",
   "metadata": {},
   "source": [
    "The data looks OK with assumption that the MPG is calculated correctly by the data owner based on the City Electricity Consumption"
   ]
  },
  {
   "cell_type": "markdown",
   "id": "8e492077-0f5d-4b4d-800b-53983de1b973",
   "metadata": {},
   "source": [
    "### 4.2.2 Analysis on FT1 & FT2 features"
   ]
  },
  {
   "cell_type": "markdown",
   "id": "5fc74771-fecc-49a0-9704-766a6ceaa8d0",
   "metadata": {},
   "source": [
    "The data with the FT2 features usually have the FT1 data filled as well because most of them are Hybrid Vehicle (Vehicle with 2 energy sources).\n",
    "To Prove it, let's check on the Fuel type"
   ]
  },
  {
   "cell_type": "code",
   "execution_count": 1187,
   "id": "ee7161d5-056b-4049-982b-eda661168e74",
   "metadata": {},
   "outputs": [],
   "source": [
    "df_city_ft2 = df_filtered[df_filtered['City MPG (FT2)'] >0]"
   ]
  },
  {
   "cell_type": "code",
   "execution_count": 1188,
   "id": "77fd464c-e218-4763-bfed-647e4af29d39",
   "metadata": {},
   "outputs": [
    {
     "data": {
      "text/plain": [
       "array(['Gasoline or natural gas', 'Gasoline or E85',\n",
       "       'Gasoline or propane', 'Premium or E85',\n",
       "       'Premium Gas or Electricity', 'Regular Gas and Electricity',\n",
       "       'Premium and Electricity', 'Regular Gas or Electricity'],\n",
       "      dtype=object)"
      ]
     },
     "execution_count": 1188,
     "metadata": {},
     "output_type": "execute_result"
    }
   ],
   "source": [
    "df_city_ft2['Fuel Type'].unique()"
   ]
  },
  {
   "cell_type": "code",
   "execution_count": 1189,
   "id": "3bfa1b93-5875-441d-a3c0-0f422a52401e",
   "metadata": {},
   "outputs": [
    {
     "data": {
      "text/plain": [
       "array(['Regular Gasoline', 'Premium Gasoline'], dtype=object)"
      ]
     },
     "execution_count": 1189,
     "metadata": {},
     "output_type": "execute_result"
    }
   ],
   "source": [
    "df_city_ft2['Fuel Type 1'].unique()"
   ]
  },
  {
   "cell_type": "code",
   "execution_count": 1190,
   "id": "5425e6aa-d7f7-4d50-b2c2-55157ba4d380",
   "metadata": {},
   "outputs": [
    {
     "data": {
      "text/plain": [
       "array(['Natural Gas', 'E85', 'Propane', 'Electricity'], dtype=object)"
      ]
     },
     "execution_count": 1190,
     "metadata": {},
     "output_type": "execute_result"
    }
   ],
   "source": [
    "df_city_ft2 ['Fuel Type 2'].unique()"
   ]
  },
  {
   "cell_type": "markdown",
   "id": "bed434b3-b287-4145-b792-e5302590623e",
   "metadata": {},
   "source": [
    "#### Ambiguity in Fuel type Information"
   ]
  },
  {
   "cell_type": "markdown",
   "id": "120f0da9-48d9-4bbf-a114-fe1456139274",
   "metadata": {},
   "source": [
    "There are some car use same Fuel both FT1 and FT2, but in Fuel Type it's differentiate with 'and' and 'or'. \n",
    "(Ex : 'Regular Gas and Electricity' and 'Regular Gas or Electricity')\n",
    "Let's take a look with the average of the MPG for all Fuel Type"
   ]
  },
  {
   "cell_type": "code",
   "execution_count": 1191,
   "id": "19bf0122-0f20-4478-b897-0d3293066589",
   "metadata": {},
   "outputs": [
    {
     "data": {
      "text/html": [
       "<div>\n",
       "<style scoped>\n",
       "    .dataframe tbody tr th:only-of-type {\n",
       "        vertical-align: middle;\n",
       "    }\n",
       "\n",
       "    .dataframe tbody tr th {\n",
       "        vertical-align: top;\n",
       "    }\n",
       "\n",
       "    .dataframe thead tr th {\n",
       "        text-align: left;\n",
       "    }\n",
       "\n",
       "    .dataframe thead tr:last-of-type th {\n",
       "        text-align: right;\n",
       "    }\n",
       "</style>\n",
       "<table border=\"1\" class=\"dataframe\">\n",
       "  <thead>\n",
       "    <tr>\n",
       "      <th></th>\n",
       "      <th colspan=\"2\" halign=\"left\">City MPG (FT1)</th>\n",
       "      <th colspan=\"2\" halign=\"left\">City MPG (FT2)</th>\n",
       "    </tr>\n",
       "    <tr>\n",
       "      <th></th>\n",
       "      <th>count</th>\n",
       "      <th>mean</th>\n",
       "      <th>count</th>\n",
       "      <th>mean</th>\n",
       "    </tr>\n",
       "    <tr>\n",
       "      <th>Fuel Type</th>\n",
       "      <th></th>\n",
       "      <th></th>\n",
       "      <th></th>\n",
       "      <th></th>\n",
       "    </tr>\n",
       "  </thead>\n",
       "  <tbody>\n",
       "    <tr>\n",
       "      <th>Gasoline or E85</th>\n",
       "      <td>1223</td>\n",
       "      <td>15.409648</td>\n",
       "      <td>1223</td>\n",
       "      <td>11.223222</td>\n",
       "    </tr>\n",
       "    <tr>\n",
       "      <th>Gasoline or natural gas</th>\n",
       "      <td>20</td>\n",
       "      <td>13.700000</td>\n",
       "      <td>20</td>\n",
       "      <td>13.000000</td>\n",
       "    </tr>\n",
       "    <tr>\n",
       "      <th>Gasoline or propane</th>\n",
       "      <td>8</td>\n",
       "      <td>12.000000</td>\n",
       "      <td>8</td>\n",
       "      <td>10.500000</td>\n",
       "    </tr>\n",
       "    <tr>\n",
       "      <th>Premium Gas or Electricity</th>\n",
       "      <td>18</td>\n",
       "      <td>31.000000</td>\n",
       "      <td>18</td>\n",
       "      <td>88.611111</td>\n",
       "    </tr>\n",
       "    <tr>\n",
       "      <th>Premium and Electricity</th>\n",
       "      <td>25</td>\n",
       "      <td>25.240000</td>\n",
       "      <td>25</td>\n",
       "      <td>56.920000</td>\n",
       "    </tr>\n",
       "    <tr>\n",
       "      <th>Premium or E85</th>\n",
       "      <td>122</td>\n",
       "      <td>17.360656</td>\n",
       "      <td>122</td>\n",
       "      <td>12.434426</td>\n",
       "    </tr>\n",
       "    <tr>\n",
       "      <th>Regular Gas and Electricity</th>\n",
       "      <td>20</td>\n",
       "      <td>42.800000</td>\n",
       "      <td>20</td>\n",
       "      <td>99.350000</td>\n",
       "    </tr>\n",
       "    <tr>\n",
       "      <th>Regular Gas or Electricity</th>\n",
       "      <td>2</td>\n",
       "      <td>43.000000</td>\n",
       "      <td>2</td>\n",
       "      <td>113.000000</td>\n",
       "    </tr>\n",
       "  </tbody>\n",
       "</table>\n",
       "</div>"
      ],
      "text/plain": [
       "                            City MPG (FT1)            City MPG (FT2)  \\\n",
       "                                     count       mean          count   \n",
       "Fuel Type                                                              \n",
       "Gasoline or E85                       1223  15.409648           1223   \n",
       "Gasoline or natural gas                 20  13.700000             20   \n",
       "Gasoline or propane                      8  12.000000              8   \n",
       "Premium Gas or Electricity              18  31.000000             18   \n",
       "Premium and Electricity                 25  25.240000             25   \n",
       "Premium or E85                         122  17.360656            122   \n",
       "Regular Gas and Electricity             20  42.800000             20   \n",
       "Regular Gas or Electricity               2  43.000000              2   \n",
       "\n",
       "                                         \n",
       "                                   mean  \n",
       "Fuel Type                                \n",
       "Gasoline or E85               11.223222  \n",
       "Gasoline or natural gas       13.000000  \n",
       "Gasoline or propane           10.500000  \n",
       "Premium Gas or Electricity    88.611111  \n",
       "Premium and Electricity       56.920000  \n",
       "Premium or E85                12.434426  \n",
       "Regular Gas and Electricity   99.350000  \n",
       "Regular Gas or Electricity   113.000000  "
      ]
     },
     "execution_count": 1191,
     "metadata": {},
     "output_type": "execute_result"
    }
   ],
   "source": [
    "df_city_ft2_mpg_avg = df_city_ft2.groupby(['Fuel Type']).agg({'City MPG (FT1)':['count','mean'],'City MPG (FT2)':['count','mean']})\n",
    "df_city_ft2_mpg_avg.sort_values(by=['Fuel Type'],ascending = True,inplace=True)\n",
    "df_city_ft2_mpg_avg"
   ]
  },
  {
   "cell_type": "markdown",
   "id": "260f56be-aea6-4a17-9ea6-7518ad126e19",
   "metadata": {},
   "source": [
    "We cannot say that the data with 'and' or with 'or' are having a actually have the same or different MPG usage since the data us not equally distributed. So we assume these are actually cars with different mechanism on managing the alternative energy to drive the car and these data are recorded correctly"
   ]
  },
  {
   "cell_type": "markdown",
   "id": "ffb9392b-5e93-43dc-a3a7-51354f736a85",
   "metadata": {},
   "source": [
    "#### Check any missing data"
   ]
  },
  {
   "cell_type": "markdown",
   "id": "9de5365c-7042-420f-b46b-9071e6991479",
   "metadata": {},
   "source": [
    "FT1 data should be filled because it's the main fuel to drive the car"
   ]
  },
  {
   "cell_type": "code",
   "execution_count": 1192,
   "id": "6af1430e-6aef-4697-a0ce-8d706a235da7",
   "metadata": {},
   "outputs": [
    {
     "data": {
      "text/plain": [
       "0"
      ]
     },
     "execution_count": 1192,
     "metadata": {},
     "output_type": "execute_result"
    }
   ],
   "source": [
    "df_city_ft2[df['City MPG (FT1)']<=0].shape[0]"
   ]
  },
  {
   "cell_type": "markdown",
   "id": "4580c35f-0ce8-43b5-9ebb-991cacb4dc1c",
   "metadata": {
    "tags": []
   },
   "source": [
    "### 4.2.3 Check Conclusion"
   ]
  },
  {
   "cell_type": "markdown",
   "id": "39b6aa8f-721d-4c5d-acd8-156dcbf51258",
   "metadata": {
    "tags": []
   },
   "source": [
    "All the City MPG data is Ok and no any ambiguity detected "
   ]
  },
  {
   "cell_type": "markdown",
   "id": "d9a7ff98-cadc-46d7-9ed3-797817a90c6d",
   "metadata": {},
   "source": [
    "## 4.3 Highway MPG"
   ]
  },
  {
   "cell_type": "markdown",
   "id": "6bbcf2cb-282a-4b62-a97d-669d2bffdfff",
   "metadata": {},
   "source": [
    "This features explain the same thing as City MPG but the car is entirely driven in the Highway only. I will conduct the same check as what I did in City MPG."
   ]
  },
  {
   "cell_type": "markdown",
   "id": "e8abb840-8949-4951-9891-7b8c7ddb16c3",
   "metadata": {},
   "source": [
    "### 4.3.1 Analysis on FT1 only features"
   ]
  },
  {
   "cell_type": "markdown",
   "id": "115f97e3-2097-4edb-9e0c-d49991a15787",
   "metadata": {},
   "source": [
    "The data should not have any entries with 0 MPG in the FT1. If there's such data, we need to remove it because it can messed up our model."
   ]
  },
  {
   "cell_type": "code",
   "execution_count": 1193,
   "id": "e99ed929-142f-4a80-af0d-be4ec58e39ac",
   "metadata": {},
   "outputs": [
    {
     "data": {
      "text/plain": [
       "0"
      ]
     },
     "execution_count": 1193,
     "metadata": {},
     "output_type": "execute_result"
    }
   ],
   "source": [
    "df_filtered.loc[df_filtered['Highway MPG (FT1)'] < 0].shape[0]"
   ]
  },
  {
   "cell_type": "markdown",
   "id": "62e92adf-886b-4ad6-8936-000932723edd",
   "metadata": {},
   "source": [
    "Let's check the Fuel type for the data with FT1 MPG only"
   ]
  },
  {
   "cell_type": "code",
   "execution_count": 1194,
   "id": "688b9084-6dbb-4a4c-b7f2-08fb2bc8271a",
   "metadata": {},
   "outputs": [
    {
     "data": {
      "text/plain": [
       "array(['Regular', 'Diesel', 'Premium', 'CNG', 'Electricity', 'Midgrade'],\n",
       "      dtype=object)"
      ]
     },
     "execution_count": 1194,
     "metadata": {},
     "output_type": "execute_result"
    }
   ],
   "source": [
    "df_filtered[df_filtered['Highway MPG (FT2)'] <= 0]['Fuel Type'].unique()"
   ]
  },
  {
   "cell_type": "markdown",
   "id": "e41859f9-b659-4b53-b27b-c311b48febd6",
   "metadata": {},
   "source": [
    "#### Electric car Analysis"
   ]
  },
  {
   "cell_type": "markdown",
   "id": "c540d829-a4c4-4329-af92-c666de9ecc97",
   "metadata": {},
   "source": [
    "Check the electric car data to ensure both the MPG and the Highway Electric consumption data are available. (As explained in above about the MPGe measurement)"
   ]
  },
  {
   "cell_type": "code",
   "execution_count": 1195,
   "id": "b5925924-3a46-43b3-99c5-68af65321c9b",
   "metadata": {},
   "outputs": [
    {
     "data": {
      "text/html": [
       "<div>\n",
       "<style scoped>\n",
       "    .dataframe tbody tr th:only-of-type {\n",
       "        vertical-align: middle;\n",
       "    }\n",
       "\n",
       "    .dataframe tbody tr th {\n",
       "        vertical-align: top;\n",
       "    }\n",
       "\n",
       "    .dataframe thead th {\n",
       "        text-align: right;\n",
       "    }\n",
       "</style>\n",
       "<table border=\"1\" class=\"dataframe\">\n",
       "  <thead>\n",
       "    <tr style=\"text-align: right;\">\n",
       "      <th></th>\n",
       "      <th>Fuel Type</th>\n",
       "      <th>Highway MPG (FT1)</th>\n",
       "      <th>Highway Electricity Consumption</th>\n",
       "    </tr>\n",
       "  </thead>\n",
       "  <tbody>\n",
       "    <tr>\n",
       "      <th>15263</th>\n",
       "      <td>Electricity</td>\n",
       "      <td>58</td>\n",
       "      <td>59.0</td>\n",
       "    </tr>\n",
       "    <tr>\n",
       "      <th>15264</th>\n",
       "      <td>Electricity</td>\n",
       "      <td>28</td>\n",
       "      <td>120.0</td>\n",
       "    </tr>\n",
       "    <tr>\n",
       "      <th>16137</th>\n",
       "      <td>Electricity</td>\n",
       "      <td>33</td>\n",
       "      <td>103.0</td>\n",
       "    </tr>\n",
       "    <tr>\n",
       "      <th>16247</th>\n",
       "      <td>Electricity</td>\n",
       "      <td>54</td>\n",
       "      <td>63.0</td>\n",
       "    </tr>\n",
       "    <tr>\n",
       "      <th>16248</th>\n",
       "      <td>Electricity</td>\n",
       "      <td>44</td>\n",
       "      <td>77.0</td>\n",
       "    </tr>\n",
       "    <tr>\n",
       "      <th>...</th>\n",
       "      <td>...</td>\n",
       "      <td>...</td>\n",
       "      <td>...</td>\n",
       "    </tr>\n",
       "    <tr>\n",
       "      <th>36804</th>\n",
       "      <td>Electricity</td>\n",
       "      <td>94</td>\n",
       "      <td>36.0</td>\n",
       "    </tr>\n",
       "    <tr>\n",
       "      <th>36805</th>\n",
       "      <td>Electricity</td>\n",
       "      <td>95</td>\n",
       "      <td>35.0</td>\n",
       "    </tr>\n",
       "    <tr>\n",
       "      <th>36806</th>\n",
       "      <td>Electricity</td>\n",
       "      <td>94</td>\n",
       "      <td>36.0</td>\n",
       "    </tr>\n",
       "    <tr>\n",
       "      <th>36807</th>\n",
       "      <td>Electricity</td>\n",
       "      <td>92</td>\n",
       "      <td>37.0</td>\n",
       "    </tr>\n",
       "    <tr>\n",
       "      <th>36808</th>\n",
       "      <td>Electricity</td>\n",
       "      <td>90</td>\n",
       "      <td>37.0</td>\n",
       "    </tr>\n",
       "  </tbody>\n",
       "</table>\n",
       "<p>125 rows × 3 columns</p>\n",
       "</div>"
      ],
      "text/plain": [
       "         Fuel Type  Highway MPG (FT1)  Highway Electricity Consumption\n",
       "15263  Electricity                 58                             59.0\n",
       "15264  Electricity                 28                            120.0\n",
       "16137  Electricity                 33                            103.0\n",
       "16247  Electricity                 54                             63.0\n",
       "16248  Electricity                 44                             77.0\n",
       "...            ...                ...                              ...\n",
       "36804  Electricity                 94                             36.0\n",
       "36805  Electricity                 95                             35.0\n",
       "36806  Electricity                 94                             36.0\n",
       "36807  Electricity                 92                             37.0\n",
       "36808  Electricity                 90                             37.0\n",
       "\n",
       "[125 rows x 3 columns]"
      ]
     },
     "execution_count": 1195,
     "metadata": {},
     "output_type": "execute_result"
    }
   ],
   "source": [
    "df_electric_only = df_filtered[df_filtered['Fuel Type'] == 'Electricity'][['Fuel Type','Highway MPG (FT1)', 'Highway Electricity Consumption']]\n",
    "df_electric_only"
   ]
  },
  {
   "cell_type": "markdown",
   "id": "68f8cbf0-d51e-4b29-baff-af27f02c0668",
   "metadata": {},
   "source": [
    "Check if the electric car have 0 Highway MPG (FT1)"
   ]
  },
  {
   "cell_type": "code",
   "execution_count": 1196,
   "id": "ea4900da-aac0-4b5a-81c9-a7affbe74104",
   "metadata": {},
   "outputs": [
    {
     "data": {
      "text/plain": [
       "0"
      ]
     },
     "execution_count": 1196,
     "metadata": {},
     "output_type": "execute_result"
    }
   ],
   "source": [
    "df_electric_only[df_electric_only['Highway MPG (FT1)'] <= 0].shape[0]"
   ]
  },
  {
   "cell_type": "markdown",
   "id": "b3758ce9-e50f-447b-b4b5-353378de42e9",
   "metadata": {},
   "source": [
    "Check if the electric car have 0 Highway electricity consumption"
   ]
  },
  {
   "cell_type": "code",
   "execution_count": 1197,
   "id": "960246a0-6358-48b2-a3ee-9a9ef7fd52c9",
   "metadata": {
    "tags": []
   },
   "outputs": [
    {
     "data": {
      "text/plain": [
       "0"
      ]
     },
     "execution_count": 1197,
     "metadata": {},
     "output_type": "execute_result"
    }
   ],
   "source": [
    "df_electric_only[df_electric_only['Highway Electricity Consumption'] <= 0].shape[0]"
   ]
  },
  {
   "cell_type": "markdown",
   "id": "ea7e227a-c6ab-4c65-86ba-f43fe715496c",
   "metadata": {},
   "source": [
    "The data looks OK with assumption that the MPG is calculated correctly by the data owner based on the Highway Electricity Consumption"
   ]
  },
  {
   "cell_type": "markdown",
   "id": "2c813025-80fa-48d2-b74c-cf8cec29ba52",
   "metadata": {},
   "source": [
    "### 4.3.2 Analysis on FT1 & FT2 features"
   ]
  },
  {
   "cell_type": "markdown",
   "id": "2ff075eb-aba4-49cf-a3c3-be2f6c6d2703",
   "metadata": {},
   "source": [
    "We just do a basic check to make sure that the FT1 feature is having a proper data"
   ]
  },
  {
   "cell_type": "code",
   "execution_count": 1198,
   "id": "9a230ca4-037f-42b3-8f24-809f9ced753d",
   "metadata": {},
   "outputs": [
    {
     "data": {
      "text/html": [
       "<div>\n",
       "<style scoped>\n",
       "    .dataframe tbody tr th:only-of-type {\n",
       "        vertical-align: middle;\n",
       "    }\n",
       "\n",
       "    .dataframe tbody tr th {\n",
       "        vertical-align: top;\n",
       "    }\n",
       "\n",
       "    .dataframe thead th {\n",
       "        text-align: right;\n",
       "    }\n",
       "</style>\n",
       "<table border=\"1\" class=\"dataframe\">\n",
       "  <thead>\n",
       "    <tr style=\"text-align: right;\">\n",
       "      <th></th>\n",
       "      <th>Year</th>\n",
       "      <th>Make</th>\n",
       "      <th>Class</th>\n",
       "      <th>Drive</th>\n",
       "      <th>Transmission</th>\n",
       "      <th>Engine Index</th>\n",
       "      <th>Engine Cylinders</th>\n",
       "      <th>Engine Displacement</th>\n",
       "      <th>Turbocharger</th>\n",
       "      <th>Supercharger</th>\n",
       "      <th>Fuel Type</th>\n",
       "      <th>Fuel Type 1</th>\n",
       "      <th>Fuel Type 2</th>\n",
       "      <th>City MPG (FT1)</th>\n",
       "      <th>City MPG (FT2)</th>\n",
       "      <th>City Gasoline Consumption (CD)</th>\n",
       "      <th>City Electricity Consumption</th>\n",
       "      <th>Highway MPG (FT1)</th>\n",
       "      <th>Highway MPG (FT2)</th>\n",
       "      <th>Highway Gasoline Consumption (CD)</th>\n",
       "      <th>Highway Electricity Consumption</th>\n",
       "      <th>Combined MPG (FT1)</th>\n",
       "      <th>Combined MPG (FT2)</th>\n",
       "      <th>Combined Electricity Consumption</th>\n",
       "      <th>Combined Gasoline Consumption (CD)</th>\n",
       "      <th>Annual Fuel Cost (FT1)</th>\n",
       "      <th>Annual Fuel Cost (FT2)</th>\n",
       "      <th>Gas Guzzler Tax</th>\n",
       "      <th>Annual Consumption in Barrels (FT1)</th>\n",
       "      <th>Annual Consumption in Barrels (FT2)</th>\n",
       "      <th>Tailpipe CO2 (FT1)</th>\n",
       "      <th>Tailpipe CO2 (FT2)</th>\n",
       "      <th>Fuel Economy Score</th>\n",
       "      <th>GHG Score</th>\n",
       "      <th>GHG Score (Alt Fuel)</th>\n",
       "    </tr>\n",
       "  </thead>\n",
       "  <tbody>\n",
       "    <tr>\n",
       "      <th>16898</th>\n",
       "      <td>2000</td>\n",
       "      <td>Chevrolet</td>\n",
       "      <td>Subcompact Cars</td>\n",
       "      <td>Front-Wheel Drive</td>\n",
       "      <td>Automatic 3-Speed</td>\n",
       "      <td>0</td>\n",
       "      <td>4.0</td>\n",
       "      <td>2.2</td>\n",
       "      <td>0.0</td>\n",
       "      <td>0.0</td>\n",
       "      <td>Gasoline or natural gas</td>\n",
       "      <td>Regular Gasoline</td>\n",
       "      <td>Natural Gas</td>\n",
       "      <td>20</td>\n",
       "      <td>18</td>\n",
       "      <td>0.0</td>\n",
       "      <td>0.0</td>\n",
       "      <td>25</td>\n",
       "      <td>25</td>\n",
       "      <td>0.0</td>\n",
       "      <td>0.0</td>\n",
       "      <td>22</td>\n",
       "      <td>20</td>\n",
       "      <td>0.0</td>\n",
       "      <td>0.0</td>\n",
       "      <td>1600</td>\n",
       "      <td>1550</td>\n",
       "      <td>Not Applicable</td>\n",
       "      <td>14.982273</td>\n",
       "      <td>0.093000</td>\n",
       "      <td>-1</td>\n",
       "      <td>-1</td>\n",
       "      <td>-1</td>\n",
       "      <td>-1</td>\n",
       "      <td>-1</td>\n",
       "    </tr>\n",
       "    <tr>\n",
       "      <th>16973</th>\n",
       "      <td>2000</td>\n",
       "      <td>Chrysler</td>\n",
       "      <td>Minivan - 2WD</td>\n",
       "      <td>Front-Wheel Drive</td>\n",
       "      <td>Automatic 4-Speed</td>\n",
       "      <td>0</td>\n",
       "      <td>6.0</td>\n",
       "      <td>3.3</td>\n",
       "      <td>0.0</td>\n",
       "      <td>0.0</td>\n",
       "      <td>Gasoline or E85</td>\n",
       "      <td>Regular Gasoline</td>\n",
       "      <td>E85</td>\n",
       "      <td>16</td>\n",
       "      <td>12</td>\n",
       "      <td>0.0</td>\n",
       "      <td>0.0</td>\n",
       "      <td>22</td>\n",
       "      <td>17</td>\n",
       "      <td>0.0</td>\n",
       "      <td>0.0</td>\n",
       "      <td>18</td>\n",
       "      <td>13</td>\n",
       "      <td>0.0</td>\n",
       "      <td>0.0</td>\n",
       "      <td>1950</td>\n",
       "      <td>2250</td>\n",
       "      <td>Not Applicable</td>\n",
       "      <td>18.311667</td>\n",
       "      <td>5.762308</td>\n",
       "      <td>-1</td>\n",
       "      <td>-1</td>\n",
       "      <td>-1</td>\n",
       "      <td>-1</td>\n",
       "      <td>-1</td>\n",
       "    </tr>\n",
       "    <tr>\n",
       "      <th>17000</th>\n",
       "      <td>2000</td>\n",
       "      <td>Dodge</td>\n",
       "      <td>Minivan - 2WD</td>\n",
       "      <td>Front-Wheel Drive</td>\n",
       "      <td>Automatic 4-Speed</td>\n",
       "      <td>0</td>\n",
       "      <td>6.0</td>\n",
       "      <td>3.3</td>\n",
       "      <td>0.0</td>\n",
       "      <td>0.0</td>\n",
       "      <td>Gasoline or E85</td>\n",
       "      <td>Regular Gasoline</td>\n",
       "      <td>E85</td>\n",
       "      <td>16</td>\n",
       "      <td>12</td>\n",
       "      <td>0.0</td>\n",
       "      <td>0.0</td>\n",
       "      <td>23</td>\n",
       "      <td>17</td>\n",
       "      <td>0.0</td>\n",
       "      <td>0.0</td>\n",
       "      <td>19</td>\n",
       "      <td>13</td>\n",
       "      <td>0.0</td>\n",
       "      <td>0.0</td>\n",
       "      <td>1850</td>\n",
       "      <td>2250</td>\n",
       "      <td>Not Applicable</td>\n",
       "      <td>17.347895</td>\n",
       "      <td>5.762308</td>\n",
       "      <td>-1</td>\n",
       "      <td>-1</td>\n",
       "      <td>-1</td>\n",
       "      <td>-1</td>\n",
       "      <td>-1</td>\n",
       "    </tr>\n",
       "    <tr>\n",
       "      <th>17071</th>\n",
       "      <td>2000</td>\n",
       "      <td>Ford</td>\n",
       "      <td>Sport Utility Vehicle - 2WD</td>\n",
       "      <td>Rear-Wheel Drive</td>\n",
       "      <td>Automatic 5-Speed</td>\n",
       "      <td>0</td>\n",
       "      <td>6.0</td>\n",
       "      <td>4.0</td>\n",
       "      <td>0.0</td>\n",
       "      <td>0.0</td>\n",
       "      <td>Gasoline or E85</td>\n",
       "      <td>Regular Gasoline</td>\n",
       "      <td>E85</td>\n",
       "      <td>14</td>\n",
       "      <td>10</td>\n",
       "      <td>0.0</td>\n",
       "      <td>0.0</td>\n",
       "      <td>17</td>\n",
       "      <td>12</td>\n",
       "      <td>0.0</td>\n",
       "      <td>0.0</td>\n",
       "      <td>15</td>\n",
       "      <td>11</td>\n",
       "      <td>0.0</td>\n",
       "      <td>0.0</td>\n",
       "      <td>2350</td>\n",
       "      <td>2650</td>\n",
       "      <td>Not Applicable</td>\n",
       "      <td>21.974000</td>\n",
       "      <td>6.810000</td>\n",
       "      <td>-1</td>\n",
       "      <td>-1</td>\n",
       "      <td>-1</td>\n",
       "      <td>-1</td>\n",
       "      <td>-1</td>\n",
       "    </tr>\n",
       "    <tr>\n",
       "      <th>17102</th>\n",
       "      <td>2000</td>\n",
       "      <td>Ford</td>\n",
       "      <td>Standard Pickup Trucks 2WD</td>\n",
       "      <td>Rear-Wheel Drive</td>\n",
       "      <td>Automatic 4-Speed</td>\n",
       "      <td>0</td>\n",
       "      <td>6.0</td>\n",
       "      <td>3.0</td>\n",
       "      <td>0.0</td>\n",
       "      <td>0.0</td>\n",
       "      <td>Gasoline or E85</td>\n",
       "      <td>Regular Gasoline</td>\n",
       "      <td>E85</td>\n",
       "      <td>15</td>\n",
       "      <td>11</td>\n",
       "      <td>0.0</td>\n",
       "      <td>0.0</td>\n",
       "      <td>20</td>\n",
       "      <td>15</td>\n",
       "      <td>0.0</td>\n",
       "      <td>0.0</td>\n",
       "      <td>17</td>\n",
       "      <td>12</td>\n",
       "      <td>0.0</td>\n",
       "      <td>0.0</td>\n",
       "      <td>2050</td>\n",
       "      <td>2400</td>\n",
       "      <td>Not Applicable</td>\n",
       "      <td>19.388824</td>\n",
       "      <td>6.242500</td>\n",
       "      <td>-1</td>\n",
       "      <td>-1</td>\n",
       "      <td>-1</td>\n",
       "      <td>-1</td>\n",
       "      <td>-1</td>\n",
       "    </tr>\n",
       "  </tbody>\n",
       "</table>\n",
       "</div>"
      ],
      "text/plain": [
       "       Year       Make                        Class              Drive  \\\n",
       "16898  2000  Chevrolet              Subcompact Cars  Front-Wheel Drive   \n",
       "16973  2000   Chrysler                Minivan - 2WD  Front-Wheel Drive   \n",
       "17000  2000      Dodge                Minivan - 2WD  Front-Wheel Drive   \n",
       "17071  2000       Ford  Sport Utility Vehicle - 2WD   Rear-Wheel Drive   \n",
       "17102  2000       Ford   Standard Pickup Trucks 2WD   Rear-Wheel Drive   \n",
       "\n",
       "            Transmission  Engine Index Engine Cylinders Engine Displacement  \\\n",
       "16898  Automatic 3-Speed             0              4.0                 2.2   \n",
       "16973  Automatic 4-Speed             0              6.0                 3.3   \n",
       "17000  Automatic 4-Speed             0              6.0                 3.3   \n",
       "17071  Automatic 5-Speed             0              6.0                 4.0   \n",
       "17102  Automatic 4-Speed             0              6.0                 3.0   \n",
       "\n",
       "       Turbocharger  Supercharger                Fuel Type       Fuel Type 1  \\\n",
       "16898           0.0           0.0  Gasoline or natural gas  Regular Gasoline   \n",
       "16973           0.0           0.0          Gasoline or E85  Regular Gasoline   \n",
       "17000           0.0           0.0          Gasoline or E85  Regular Gasoline   \n",
       "17071           0.0           0.0          Gasoline or E85  Regular Gasoline   \n",
       "17102           0.0           0.0          Gasoline or E85  Regular Gasoline   \n",
       "\n",
       "       Fuel Type 2  City MPG (FT1)  City MPG (FT2)  \\\n",
       "16898  Natural Gas              20              18   \n",
       "16973          E85              16              12   \n",
       "17000          E85              16              12   \n",
       "17071          E85              14              10   \n",
       "17102          E85              15              11   \n",
       "\n",
       "       City Gasoline Consumption (CD)  City Electricity Consumption  \\\n",
       "16898                             0.0                           0.0   \n",
       "16973                             0.0                           0.0   \n",
       "17000                             0.0                           0.0   \n",
       "17071                             0.0                           0.0   \n",
       "17102                             0.0                           0.0   \n",
       "\n",
       "       Highway MPG (FT1)  Highway MPG (FT2)  \\\n",
       "16898                 25                 25   \n",
       "16973                 22                 17   \n",
       "17000                 23                 17   \n",
       "17071                 17                 12   \n",
       "17102                 20                 15   \n",
       "\n",
       "       Highway Gasoline Consumption (CD)  Highway Electricity Consumption  \\\n",
       "16898                                0.0                              0.0   \n",
       "16973                                0.0                              0.0   \n",
       "17000                                0.0                              0.0   \n",
       "17071                                0.0                              0.0   \n",
       "17102                                0.0                              0.0   \n",
       "\n",
       "       Combined MPG (FT1)  Combined MPG (FT2)  \\\n",
       "16898                  22                  20   \n",
       "16973                  18                  13   \n",
       "17000                  19                  13   \n",
       "17071                  15                  11   \n",
       "17102                  17                  12   \n",
       "\n",
       "       Combined Electricity Consumption  Combined Gasoline Consumption (CD)  \\\n",
       "16898                               0.0                                 0.0   \n",
       "16973                               0.0                                 0.0   \n",
       "17000                               0.0                                 0.0   \n",
       "17071                               0.0                                 0.0   \n",
       "17102                               0.0                                 0.0   \n",
       "\n",
       "       Annual Fuel Cost (FT1)  Annual Fuel Cost (FT2) Gas Guzzler Tax  \\\n",
       "16898                    1600                    1550  Not Applicable   \n",
       "16973                    1950                    2250  Not Applicable   \n",
       "17000                    1850                    2250  Not Applicable   \n",
       "17071                    2350                    2650  Not Applicable   \n",
       "17102                    2050                    2400  Not Applicable   \n",
       "\n",
       "       Annual Consumption in Barrels (FT1)  \\\n",
       "16898                            14.982273   \n",
       "16973                            18.311667   \n",
       "17000                            17.347895   \n",
       "17071                            21.974000   \n",
       "17102                            19.388824   \n",
       "\n",
       "       Annual Consumption in Barrels (FT2)  Tailpipe CO2 (FT1)  \\\n",
       "16898                             0.093000                  -1   \n",
       "16973                             5.762308                  -1   \n",
       "17000                             5.762308                  -1   \n",
       "17071                             6.810000                  -1   \n",
       "17102                             6.242500                  -1   \n",
       "\n",
       "       Tailpipe CO2 (FT2)  Fuel Economy Score  GHG Score  GHG Score (Alt Fuel)  \n",
       "16898                  -1                  -1         -1                    -1  \n",
       "16973                  -1                  -1         -1                    -1  \n",
       "17000                  -1                  -1         -1                    -1  \n",
       "17071                  -1                  -1         -1                    -1  \n",
       "17102                  -1                  -1         -1                    -1  "
      ]
     },
     "execution_count": 1198,
     "metadata": {},
     "output_type": "execute_result"
    }
   ],
   "source": [
    "df_highway_ft2 = df_filtered[df_filtered['Highway MPG (FT2)'] >0]\n",
    "df_highway_ft2.head()"
   ]
  },
  {
   "cell_type": "code",
   "execution_count": 1199,
   "id": "3a45d151-7955-4460-9c01-f1bc63c7ca85",
   "metadata": {},
   "outputs": [
    {
     "data": {
      "text/plain": [
       "array(['Gasoline or natural gas', 'Gasoline or E85',\n",
       "       'Gasoline or propane', 'Premium or E85',\n",
       "       'Premium Gas or Electricity', 'Regular Gas and Electricity',\n",
       "       'Premium and Electricity', 'Regular Gas or Electricity'],\n",
       "      dtype=object)"
      ]
     },
     "execution_count": 1199,
     "metadata": {},
     "output_type": "execute_result"
    }
   ],
   "source": [
    "#Ensure that all vehicles are Hybrid\n",
    "df_highway_ft2['Fuel Type'].unique()"
   ]
  },
  {
   "cell_type": "code",
   "execution_count": 1200,
   "id": "e7013c16-b991-456c-84b8-089c58c5b46a",
   "metadata": {},
   "outputs": [
    {
     "data": {
      "text/plain": [
       "0"
      ]
     },
     "execution_count": 1200,
     "metadata": {},
     "output_type": "execute_result"
    }
   ],
   "source": [
    "df_highway_ft2[df_highway_ft2['Highway MPG (FT1)']<=0].shape[0]"
   ]
  },
  {
   "cell_type": "markdown",
   "id": "74802e50-de9e-4189-9d30-50ec4b339475",
   "metadata": {
    "tags": []
   },
   "source": [
    "### 4.3.3 Check Conclusion"
   ]
  },
  {
   "cell_type": "markdown",
   "id": "3a066525-799d-43cf-a353-4a43d7b330fb",
   "metadata": {
    "tags": []
   },
   "source": [
    "All the Highway MPG data is Ok and no any ambiguity detected "
   ]
  },
  {
   "cell_type": "markdown",
   "id": "76734c1d-6a42-4556-9b96-60358803b68a",
   "metadata": {},
   "source": [
    "## 4.4 Combined MPG"
   ]
  },
  {
   "cell_type": "markdown",
   "id": "99fbeb3a-964a-413e-94ae-a4a72e758ab9",
   "metadata": {},
   "source": [
    "This feature explain how many Miles can be achieved per Gallon fuel if the car is driven both in City and Highway Road"
   ]
  },
  {
   "cell_type": "markdown",
   "id": "e1c85096-cd7c-4556-abfe-5902b3c870ca",
   "metadata": {},
   "source": [
    "### 4.4.1 Analysis on FT1 only features"
   ]
  },
  {
   "cell_type": "markdown",
   "id": "14bae93f-a074-4af3-8f24-5acdfcfb6454",
   "metadata": {
    "tags": []
   },
   "source": [
    "The data should not have any entries with 0 MPG in the FT1. If there's such data, we need to remove it because it can messed up our model."
   ]
  },
  {
   "cell_type": "code",
   "execution_count": 1201,
   "id": "6f86d86c-11e9-4edc-97df-a267926c6cbf",
   "metadata": {
    "tags": []
   },
   "outputs": [
    {
     "data": {
      "text/plain": [
       "0"
      ]
     },
     "execution_count": 1201,
     "metadata": {},
     "output_type": "execute_result"
    }
   ],
   "source": [
    "df_filtered.loc[df_filtered['Combined MPG (FT1)'] < 0].shape[0]"
   ]
  },
  {
   "cell_type": "markdown",
   "id": "45805f26-67cb-486f-9088-09f0a3647064",
   "metadata": {},
   "source": [
    "Let's check the Fuel type for the data with FT1 MPG only"
   ]
  },
  {
   "cell_type": "code",
   "execution_count": 1202,
   "id": "4896b54c-6f2c-4be9-9bdd-eae75dfe998b",
   "metadata": {},
   "outputs": [
    {
     "data": {
      "text/plain": [
       "array(['Regular', 'Diesel', 'Premium', 'CNG', 'Electricity', 'Midgrade'],\n",
       "      dtype=object)"
      ]
     },
     "execution_count": 1202,
     "metadata": {},
     "output_type": "execute_result"
    }
   ],
   "source": [
    "df_filtered[df_filtered['Combined MPG (FT2)'] <= 0]['Fuel Type'].unique()"
   ]
  },
  {
   "cell_type": "markdown",
   "id": "ae83e475-0207-4919-93df-18116198485d",
   "metadata": {
    "tags": []
   },
   "source": [
    "#### Electric car Analysis"
   ]
  },
  {
   "cell_type": "markdown",
   "id": "39f31ea2-84e8-45f2-a83d-714ee7621e0d",
   "metadata": {},
   "source": [
    "Check the electric car data to ensure both the MPG and the Highway Electric consumption data are available. (As explained in above about the MPGe measurement)"
   ]
  },
  {
   "cell_type": "code",
   "execution_count": 1203,
   "id": "ffd77b4e-f3bc-4523-a49c-513a30c26031",
   "metadata": {},
   "outputs": [
    {
     "data": {
      "text/html": [
       "<div>\n",
       "<style scoped>\n",
       "    .dataframe tbody tr th:only-of-type {\n",
       "        vertical-align: middle;\n",
       "    }\n",
       "\n",
       "    .dataframe tbody tr th {\n",
       "        vertical-align: top;\n",
       "    }\n",
       "\n",
       "    .dataframe thead th {\n",
       "        text-align: right;\n",
       "    }\n",
       "</style>\n",
       "<table border=\"1\" class=\"dataframe\">\n",
       "  <thead>\n",
       "    <tr style=\"text-align: right;\">\n",
       "      <th></th>\n",
       "      <th>Fuel Type</th>\n",
       "      <th>Combined MPG (FT1)</th>\n",
       "      <th>Combined Electricity Consumption</th>\n",
       "    </tr>\n",
       "  </thead>\n",
       "  <tbody>\n",
       "    <tr>\n",
       "      <th>15263</th>\n",
       "      <td>Electricity</td>\n",
       "      <td>55</td>\n",
       "      <td>62.0</td>\n",
       "    </tr>\n",
       "    <tr>\n",
       "      <th>15264</th>\n",
       "      <td>Electricity</td>\n",
       "      <td>28</td>\n",
       "      <td>121.0</td>\n",
       "    </tr>\n",
       "    <tr>\n",
       "      <th>16137</th>\n",
       "      <td>Electricity</td>\n",
       "      <td>35</td>\n",
       "      <td>96.0</td>\n",
       "    </tr>\n",
       "    <tr>\n",
       "      <th>16247</th>\n",
       "      <td>Electricity</td>\n",
       "      <td>58</td>\n",
       "      <td>58.0</td>\n",
       "    </tr>\n",
       "    <tr>\n",
       "      <th>16248</th>\n",
       "      <td>Electricity</td>\n",
       "      <td>47</td>\n",
       "      <td>72.0</td>\n",
       "    </tr>\n",
       "    <tr>\n",
       "      <th>...</th>\n",
       "      <td>...</td>\n",
       "      <td>...</td>\n",
       "      <td>...</td>\n",
       "    </tr>\n",
       "    <tr>\n",
       "      <th>36804</th>\n",
       "      <td>Electricity</td>\n",
       "      <td>93</td>\n",
       "      <td>36.0</td>\n",
       "    </tr>\n",
       "    <tr>\n",
       "      <th>36805</th>\n",
       "      <td>Electricity</td>\n",
       "      <td>93</td>\n",
       "      <td>36.0</td>\n",
       "    </tr>\n",
       "    <tr>\n",
       "      <th>36806</th>\n",
       "      <td>Electricity</td>\n",
       "      <td>92</td>\n",
       "      <td>37.0</td>\n",
       "    </tr>\n",
       "    <tr>\n",
       "      <th>36807</th>\n",
       "      <td>Electricity</td>\n",
       "      <td>86</td>\n",
       "      <td>39.0</td>\n",
       "    </tr>\n",
       "    <tr>\n",
       "      <th>36808</th>\n",
       "      <td>Electricity</td>\n",
       "      <td>89</td>\n",
       "      <td>38.0</td>\n",
       "    </tr>\n",
       "  </tbody>\n",
       "</table>\n",
       "<p>125 rows × 3 columns</p>\n",
       "</div>"
      ],
      "text/plain": [
       "         Fuel Type  Combined MPG (FT1)  Combined Electricity Consumption\n",
       "15263  Electricity                  55                              62.0\n",
       "15264  Electricity                  28                             121.0\n",
       "16137  Electricity                  35                              96.0\n",
       "16247  Electricity                  58                              58.0\n",
       "16248  Electricity                  47                              72.0\n",
       "...            ...                 ...                               ...\n",
       "36804  Electricity                  93                              36.0\n",
       "36805  Electricity                  93                              36.0\n",
       "36806  Electricity                  92                              37.0\n",
       "36807  Electricity                  86                              39.0\n",
       "36808  Electricity                  89                              38.0\n",
       "\n",
       "[125 rows x 3 columns]"
      ]
     },
     "execution_count": 1203,
     "metadata": {},
     "output_type": "execute_result"
    }
   ],
   "source": [
    "df_electric_only = df_filtered[df_filtered['Fuel Type'] == 'Electricity'][['Fuel Type','Combined MPG (FT1)', 'Combined Electricity Consumption']]\n",
    "df_electric_only"
   ]
  },
  {
   "cell_type": "markdown",
   "id": "30068cd9-4d96-49d3-8cb4-9dce66f2c992",
   "metadata": {},
   "source": [
    "Check if the electric car have 0 Highway MPG (FT1)"
   ]
  },
  {
   "cell_type": "code",
   "execution_count": 1204,
   "id": "430951a6-4326-4229-984d-d16dea892085",
   "metadata": {},
   "outputs": [
    {
     "data": {
      "text/plain": [
       "0"
      ]
     },
     "execution_count": 1204,
     "metadata": {},
     "output_type": "execute_result"
    }
   ],
   "source": [
    "df_electric_only[df_electric_only['Combined MPG (FT1)'] <= 0].shape[0]"
   ]
  },
  {
   "cell_type": "markdown",
   "id": "4f1ba40d-c9b7-4465-93e7-e1cf6d281209",
   "metadata": {},
   "source": [
    "Check if the electric car have 0 Highway electricity consumption"
   ]
  },
  {
   "cell_type": "code",
   "execution_count": 1205,
   "id": "558e99a8-2f7c-43dd-bd61-ed2833c9ddad",
   "metadata": {
    "tags": []
   },
   "outputs": [
    {
     "data": {
      "text/plain": [
       "0"
      ]
     },
     "execution_count": 1205,
     "metadata": {},
     "output_type": "execute_result"
    }
   ],
   "source": [
    "df_electric_only[df_electric_only['Combined Electricity Consumption'] <= 0].shape[0]"
   ]
  },
  {
   "cell_type": "markdown",
   "id": "77a97b7b-fcf2-4030-adbc-f565dd07b157",
   "metadata": {},
   "source": [
    "The data looks OK with assumption that the MPG is calculated correctly by the data owner based on the Combined Electricity Consumption"
   ]
  },
  {
   "cell_type": "markdown",
   "id": "4d594764-9cc8-436f-a6b1-aa7caaec6a5e",
   "metadata": {},
   "source": [
    "### 4.4.2 Analysis on FT1 & FT2 features"
   ]
  },
  {
   "cell_type": "markdown",
   "id": "8dbeecdf-6857-4830-b711-9c6a0cf57dbd",
   "metadata": {},
   "source": [
    "We just do a basic check to make sure that the FT1 feature is having a proper data"
   ]
  },
  {
   "cell_type": "code",
   "execution_count": 1206,
   "id": "682510d5-98b1-47e4-b5e6-58375ac12b4e",
   "metadata": {},
   "outputs": [
    {
     "data": {
      "text/html": [
       "<div>\n",
       "<style scoped>\n",
       "    .dataframe tbody tr th:only-of-type {\n",
       "        vertical-align: middle;\n",
       "    }\n",
       "\n",
       "    .dataframe tbody tr th {\n",
       "        vertical-align: top;\n",
       "    }\n",
       "\n",
       "    .dataframe thead th {\n",
       "        text-align: right;\n",
       "    }\n",
       "</style>\n",
       "<table border=\"1\" class=\"dataframe\">\n",
       "  <thead>\n",
       "    <tr style=\"text-align: right;\">\n",
       "      <th></th>\n",
       "      <th>Year</th>\n",
       "      <th>Make</th>\n",
       "      <th>Class</th>\n",
       "      <th>Drive</th>\n",
       "      <th>Transmission</th>\n",
       "      <th>Engine Index</th>\n",
       "      <th>Engine Cylinders</th>\n",
       "      <th>Engine Displacement</th>\n",
       "      <th>Turbocharger</th>\n",
       "      <th>Supercharger</th>\n",
       "      <th>Fuel Type</th>\n",
       "      <th>Fuel Type 1</th>\n",
       "      <th>Fuel Type 2</th>\n",
       "      <th>City MPG (FT1)</th>\n",
       "      <th>City MPG (FT2)</th>\n",
       "      <th>City Gasoline Consumption (CD)</th>\n",
       "      <th>City Electricity Consumption</th>\n",
       "      <th>Highway MPG (FT1)</th>\n",
       "      <th>Highway MPG (FT2)</th>\n",
       "      <th>Highway Gasoline Consumption (CD)</th>\n",
       "      <th>Highway Electricity Consumption</th>\n",
       "      <th>Combined MPG (FT1)</th>\n",
       "      <th>Combined MPG (FT2)</th>\n",
       "      <th>Combined Electricity Consumption</th>\n",
       "      <th>Combined Gasoline Consumption (CD)</th>\n",
       "      <th>Annual Fuel Cost (FT1)</th>\n",
       "      <th>Annual Fuel Cost (FT2)</th>\n",
       "      <th>Gas Guzzler Tax</th>\n",
       "      <th>Annual Consumption in Barrels (FT1)</th>\n",
       "      <th>Annual Consumption in Barrels (FT2)</th>\n",
       "      <th>Tailpipe CO2 (FT1)</th>\n",
       "      <th>Tailpipe CO2 (FT2)</th>\n",
       "      <th>Fuel Economy Score</th>\n",
       "      <th>GHG Score</th>\n",
       "      <th>GHG Score (Alt Fuel)</th>\n",
       "    </tr>\n",
       "  </thead>\n",
       "  <tbody>\n",
       "    <tr>\n",
       "      <th>16898</th>\n",
       "      <td>2000</td>\n",
       "      <td>Chevrolet</td>\n",
       "      <td>Subcompact Cars</td>\n",
       "      <td>Front-Wheel Drive</td>\n",
       "      <td>Automatic 3-Speed</td>\n",
       "      <td>0</td>\n",
       "      <td>4.0</td>\n",
       "      <td>2.2</td>\n",
       "      <td>0.0</td>\n",
       "      <td>0.0</td>\n",
       "      <td>Gasoline or natural gas</td>\n",
       "      <td>Regular Gasoline</td>\n",
       "      <td>Natural Gas</td>\n",
       "      <td>20</td>\n",
       "      <td>18</td>\n",
       "      <td>0.0</td>\n",
       "      <td>0.0</td>\n",
       "      <td>25</td>\n",
       "      <td>25</td>\n",
       "      <td>0.0</td>\n",
       "      <td>0.0</td>\n",
       "      <td>22</td>\n",
       "      <td>20</td>\n",
       "      <td>0.0</td>\n",
       "      <td>0.0</td>\n",
       "      <td>1600</td>\n",
       "      <td>1550</td>\n",
       "      <td>Not Applicable</td>\n",
       "      <td>14.982273</td>\n",
       "      <td>0.093000</td>\n",
       "      <td>-1</td>\n",
       "      <td>-1</td>\n",
       "      <td>-1</td>\n",
       "      <td>-1</td>\n",
       "      <td>-1</td>\n",
       "    </tr>\n",
       "    <tr>\n",
       "      <th>16973</th>\n",
       "      <td>2000</td>\n",
       "      <td>Chrysler</td>\n",
       "      <td>Minivan - 2WD</td>\n",
       "      <td>Front-Wheel Drive</td>\n",
       "      <td>Automatic 4-Speed</td>\n",
       "      <td>0</td>\n",
       "      <td>6.0</td>\n",
       "      <td>3.3</td>\n",
       "      <td>0.0</td>\n",
       "      <td>0.0</td>\n",
       "      <td>Gasoline or E85</td>\n",
       "      <td>Regular Gasoline</td>\n",
       "      <td>E85</td>\n",
       "      <td>16</td>\n",
       "      <td>12</td>\n",
       "      <td>0.0</td>\n",
       "      <td>0.0</td>\n",
       "      <td>22</td>\n",
       "      <td>17</td>\n",
       "      <td>0.0</td>\n",
       "      <td>0.0</td>\n",
       "      <td>18</td>\n",
       "      <td>13</td>\n",
       "      <td>0.0</td>\n",
       "      <td>0.0</td>\n",
       "      <td>1950</td>\n",
       "      <td>2250</td>\n",
       "      <td>Not Applicable</td>\n",
       "      <td>18.311667</td>\n",
       "      <td>5.762308</td>\n",
       "      <td>-1</td>\n",
       "      <td>-1</td>\n",
       "      <td>-1</td>\n",
       "      <td>-1</td>\n",
       "      <td>-1</td>\n",
       "    </tr>\n",
       "    <tr>\n",
       "      <th>17000</th>\n",
       "      <td>2000</td>\n",
       "      <td>Dodge</td>\n",
       "      <td>Minivan - 2WD</td>\n",
       "      <td>Front-Wheel Drive</td>\n",
       "      <td>Automatic 4-Speed</td>\n",
       "      <td>0</td>\n",
       "      <td>6.0</td>\n",
       "      <td>3.3</td>\n",
       "      <td>0.0</td>\n",
       "      <td>0.0</td>\n",
       "      <td>Gasoline or E85</td>\n",
       "      <td>Regular Gasoline</td>\n",
       "      <td>E85</td>\n",
       "      <td>16</td>\n",
       "      <td>12</td>\n",
       "      <td>0.0</td>\n",
       "      <td>0.0</td>\n",
       "      <td>23</td>\n",
       "      <td>17</td>\n",
       "      <td>0.0</td>\n",
       "      <td>0.0</td>\n",
       "      <td>19</td>\n",
       "      <td>13</td>\n",
       "      <td>0.0</td>\n",
       "      <td>0.0</td>\n",
       "      <td>1850</td>\n",
       "      <td>2250</td>\n",
       "      <td>Not Applicable</td>\n",
       "      <td>17.347895</td>\n",
       "      <td>5.762308</td>\n",
       "      <td>-1</td>\n",
       "      <td>-1</td>\n",
       "      <td>-1</td>\n",
       "      <td>-1</td>\n",
       "      <td>-1</td>\n",
       "    </tr>\n",
       "    <tr>\n",
       "      <th>17071</th>\n",
       "      <td>2000</td>\n",
       "      <td>Ford</td>\n",
       "      <td>Sport Utility Vehicle - 2WD</td>\n",
       "      <td>Rear-Wheel Drive</td>\n",
       "      <td>Automatic 5-Speed</td>\n",
       "      <td>0</td>\n",
       "      <td>6.0</td>\n",
       "      <td>4.0</td>\n",
       "      <td>0.0</td>\n",
       "      <td>0.0</td>\n",
       "      <td>Gasoline or E85</td>\n",
       "      <td>Regular Gasoline</td>\n",
       "      <td>E85</td>\n",
       "      <td>14</td>\n",
       "      <td>10</td>\n",
       "      <td>0.0</td>\n",
       "      <td>0.0</td>\n",
       "      <td>17</td>\n",
       "      <td>12</td>\n",
       "      <td>0.0</td>\n",
       "      <td>0.0</td>\n",
       "      <td>15</td>\n",
       "      <td>11</td>\n",
       "      <td>0.0</td>\n",
       "      <td>0.0</td>\n",
       "      <td>2350</td>\n",
       "      <td>2650</td>\n",
       "      <td>Not Applicable</td>\n",
       "      <td>21.974000</td>\n",
       "      <td>6.810000</td>\n",
       "      <td>-1</td>\n",
       "      <td>-1</td>\n",
       "      <td>-1</td>\n",
       "      <td>-1</td>\n",
       "      <td>-1</td>\n",
       "    </tr>\n",
       "    <tr>\n",
       "      <th>17102</th>\n",
       "      <td>2000</td>\n",
       "      <td>Ford</td>\n",
       "      <td>Standard Pickup Trucks 2WD</td>\n",
       "      <td>Rear-Wheel Drive</td>\n",
       "      <td>Automatic 4-Speed</td>\n",
       "      <td>0</td>\n",
       "      <td>6.0</td>\n",
       "      <td>3.0</td>\n",
       "      <td>0.0</td>\n",
       "      <td>0.0</td>\n",
       "      <td>Gasoline or E85</td>\n",
       "      <td>Regular Gasoline</td>\n",
       "      <td>E85</td>\n",
       "      <td>15</td>\n",
       "      <td>11</td>\n",
       "      <td>0.0</td>\n",
       "      <td>0.0</td>\n",
       "      <td>20</td>\n",
       "      <td>15</td>\n",
       "      <td>0.0</td>\n",
       "      <td>0.0</td>\n",
       "      <td>17</td>\n",
       "      <td>12</td>\n",
       "      <td>0.0</td>\n",
       "      <td>0.0</td>\n",
       "      <td>2050</td>\n",
       "      <td>2400</td>\n",
       "      <td>Not Applicable</td>\n",
       "      <td>19.388824</td>\n",
       "      <td>6.242500</td>\n",
       "      <td>-1</td>\n",
       "      <td>-1</td>\n",
       "      <td>-1</td>\n",
       "      <td>-1</td>\n",
       "      <td>-1</td>\n",
       "    </tr>\n",
       "  </tbody>\n",
       "</table>\n",
       "</div>"
      ],
      "text/plain": [
       "       Year       Make                        Class              Drive  \\\n",
       "16898  2000  Chevrolet              Subcompact Cars  Front-Wheel Drive   \n",
       "16973  2000   Chrysler                Minivan - 2WD  Front-Wheel Drive   \n",
       "17000  2000      Dodge                Minivan - 2WD  Front-Wheel Drive   \n",
       "17071  2000       Ford  Sport Utility Vehicle - 2WD   Rear-Wheel Drive   \n",
       "17102  2000       Ford   Standard Pickup Trucks 2WD   Rear-Wheel Drive   \n",
       "\n",
       "            Transmission  Engine Index Engine Cylinders Engine Displacement  \\\n",
       "16898  Automatic 3-Speed             0              4.0                 2.2   \n",
       "16973  Automatic 4-Speed             0              6.0                 3.3   \n",
       "17000  Automatic 4-Speed             0              6.0                 3.3   \n",
       "17071  Automatic 5-Speed             0              6.0                 4.0   \n",
       "17102  Automatic 4-Speed             0              6.0                 3.0   \n",
       "\n",
       "       Turbocharger  Supercharger                Fuel Type       Fuel Type 1  \\\n",
       "16898           0.0           0.0  Gasoline or natural gas  Regular Gasoline   \n",
       "16973           0.0           0.0          Gasoline or E85  Regular Gasoline   \n",
       "17000           0.0           0.0          Gasoline or E85  Regular Gasoline   \n",
       "17071           0.0           0.0          Gasoline or E85  Regular Gasoline   \n",
       "17102           0.0           0.0          Gasoline or E85  Regular Gasoline   \n",
       "\n",
       "       Fuel Type 2  City MPG (FT1)  City MPG (FT2)  \\\n",
       "16898  Natural Gas              20              18   \n",
       "16973          E85              16              12   \n",
       "17000          E85              16              12   \n",
       "17071          E85              14              10   \n",
       "17102          E85              15              11   \n",
       "\n",
       "       City Gasoline Consumption (CD)  City Electricity Consumption  \\\n",
       "16898                             0.0                           0.0   \n",
       "16973                             0.0                           0.0   \n",
       "17000                             0.0                           0.0   \n",
       "17071                             0.0                           0.0   \n",
       "17102                             0.0                           0.0   \n",
       "\n",
       "       Highway MPG (FT1)  Highway MPG (FT2)  \\\n",
       "16898                 25                 25   \n",
       "16973                 22                 17   \n",
       "17000                 23                 17   \n",
       "17071                 17                 12   \n",
       "17102                 20                 15   \n",
       "\n",
       "       Highway Gasoline Consumption (CD)  Highway Electricity Consumption  \\\n",
       "16898                                0.0                              0.0   \n",
       "16973                                0.0                              0.0   \n",
       "17000                                0.0                              0.0   \n",
       "17071                                0.0                              0.0   \n",
       "17102                                0.0                              0.0   \n",
       "\n",
       "       Combined MPG (FT1)  Combined MPG (FT2)  \\\n",
       "16898                  22                  20   \n",
       "16973                  18                  13   \n",
       "17000                  19                  13   \n",
       "17071                  15                  11   \n",
       "17102                  17                  12   \n",
       "\n",
       "       Combined Electricity Consumption  Combined Gasoline Consumption (CD)  \\\n",
       "16898                               0.0                                 0.0   \n",
       "16973                               0.0                                 0.0   \n",
       "17000                               0.0                                 0.0   \n",
       "17071                               0.0                                 0.0   \n",
       "17102                               0.0                                 0.0   \n",
       "\n",
       "       Annual Fuel Cost (FT1)  Annual Fuel Cost (FT2) Gas Guzzler Tax  \\\n",
       "16898                    1600                    1550  Not Applicable   \n",
       "16973                    1950                    2250  Not Applicable   \n",
       "17000                    1850                    2250  Not Applicable   \n",
       "17071                    2350                    2650  Not Applicable   \n",
       "17102                    2050                    2400  Not Applicable   \n",
       "\n",
       "       Annual Consumption in Barrels (FT1)  \\\n",
       "16898                            14.982273   \n",
       "16973                            18.311667   \n",
       "17000                            17.347895   \n",
       "17071                            21.974000   \n",
       "17102                            19.388824   \n",
       "\n",
       "       Annual Consumption in Barrels (FT2)  Tailpipe CO2 (FT1)  \\\n",
       "16898                             0.093000                  -1   \n",
       "16973                             5.762308                  -1   \n",
       "17000                             5.762308                  -1   \n",
       "17071                             6.810000                  -1   \n",
       "17102                             6.242500                  -1   \n",
       "\n",
       "       Tailpipe CO2 (FT2)  Fuel Economy Score  GHG Score  GHG Score (Alt Fuel)  \n",
       "16898                  -1                  -1         -1                    -1  \n",
       "16973                  -1                  -1         -1                    -1  \n",
       "17000                  -1                  -1         -1                    -1  \n",
       "17071                  -1                  -1         -1                    -1  \n",
       "17102                  -1                  -1         -1                    -1  "
      ]
     },
     "execution_count": 1206,
     "metadata": {},
     "output_type": "execute_result"
    }
   ],
   "source": [
    "df_combined_ft2 = df_filtered[df_filtered['Combined MPG (FT2)'] >0]\n",
    "df_combined_ft2.head()"
   ]
  },
  {
   "cell_type": "code",
   "execution_count": 1207,
   "id": "0ac7779c-ba19-4798-81dc-8ae45bf9cae3",
   "metadata": {},
   "outputs": [
    {
     "data": {
      "text/plain": [
       "array(['Gasoline or natural gas', 'Gasoline or E85',\n",
       "       'Gasoline or propane', 'Premium or E85',\n",
       "       'Premium Gas or Electricity', 'Regular Gas and Electricity',\n",
       "       'Premium and Electricity', 'Regular Gas or Electricity'],\n",
       "      dtype=object)"
      ]
     },
     "execution_count": 1207,
     "metadata": {},
     "output_type": "execute_result"
    }
   ],
   "source": [
    "#Ensure that all vehicles are Hybrid\n",
    "df_combined_ft2['Fuel Type'].unique()"
   ]
  },
  {
   "cell_type": "code",
   "execution_count": 1208,
   "id": "0d88713a-5056-4e6e-8866-60b2ed333da5",
   "metadata": {},
   "outputs": [
    {
     "data": {
      "text/plain": [
       "0"
      ]
     },
     "execution_count": 1208,
     "metadata": {},
     "output_type": "execute_result"
    }
   ],
   "source": [
    "df_combined_ft2[df_combined_ft2['Highway MPG (FT1)']<=0].shape[0]"
   ]
  },
  {
   "cell_type": "markdown",
   "id": "8b7dff24-d89a-45b4-b5e3-a8b8a7113499",
   "metadata": {
    "tags": []
   },
   "source": [
    "### 4.4.3 Check Conclusion"
   ]
  },
  {
   "cell_type": "markdown",
   "id": "9c12ac5b-cca7-422e-ad4d-28176730678b",
   "metadata": {
    "tags": []
   },
   "source": [
    "All the Combined MPG data is Ok and no any ambiguity detected "
   ]
  },
  {
   "cell_type": "markdown",
   "id": "933b4e8c-acd7-4767-9a67-f15ebc372949",
   "metadata": {},
   "source": [
    "## 4.5 Annual Fuel Cost"
   ]
  },
  {
   "cell_type": "markdown",
   "id": "0896b6c3-f2ec-4469-9581-0dea156bb06d",
   "metadata": {},
   "source": [
    "This feature explain on the Fuel cost incured to the car owner each year."
   ]
  },
  {
   "cell_type": "markdown",
   "id": "ec68a52c-aeab-46b9-8ac7-4bb6bafa0571",
   "metadata": {},
   "source": [
    "### 4.5.1 Analysis on FT1 features"
   ]
  },
  {
   "cell_type": "markdown",
   "id": "8ae981fc-e9e4-4aaf-9954-9a650e18256f",
   "metadata": {
    "tags": []
   },
   "source": [
    "The data should not have any entries with 0 in the FT1. If there's such data, we need to remove it because it can messed up our model."
   ]
  },
  {
   "cell_type": "code",
   "execution_count": 1209,
   "id": "5d95b98a-a233-4873-be90-e284e59129b7",
   "metadata": {
    "tags": []
   },
   "outputs": [
    {
     "data": {
      "text/plain": [
       "0"
      ]
     },
     "execution_count": 1209,
     "metadata": {},
     "output_type": "execute_result"
    }
   ],
   "source": [
    "df_filtered.loc[df_filtered['Annual Fuel Cost (FT1)'] < 0].shape[0]"
   ]
  },
  {
   "cell_type": "markdown",
   "id": "9e1d633e-cf3c-4adc-b102-86534c35f504",
   "metadata": {},
   "source": [
    "Let's check the Fuel type for the data with FT1 MPG only"
   ]
  },
  {
   "cell_type": "code",
   "execution_count": 1210,
   "id": "f80d1449-30c3-4df4-87ef-5c0d5b02ff88",
   "metadata": {
    "jupyter": {
     "source_hidden": true
    },
    "tags": []
   },
   "outputs": [
    {
     "data": {
      "text/plain": [
       "array(['Regular', 'Diesel', 'Premium', 'CNG', 'Electricity', 'Midgrade',\n",
       "       'Regular Gas and Electricity', 'Premium and Electricity'],\n",
       "      dtype=object)"
      ]
     },
     "execution_count": 1210,
     "metadata": {},
     "output_type": "execute_result"
    }
   ],
   "source": [
    "df_filtered[df_filtered['Annual Fuel Cost (FT2)'] <= 0]['Fuel Type'].unique()"
   ]
  },
  {
   "cell_type": "markdown",
   "id": "16dbfabf-8ada-4dac-aae0-5963a335d838",
   "metadata": {},
   "source": [
    "If we see the Hybrid car with electricity as its 2nd energy did not have Annual cost in the FT2. This is normal because the electricity energy is coming from the Engine when the car switching to engine to drive the car and Regenerative power from car brakes. "
   ]
  },
  {
   "cell_type": "markdown",
   "id": "30748c97-6f25-4aad-af51-e70ecbbeacb7",
   "metadata": {},
   "source": [
    "### 4.5.2 Analysis on FT1 & FT2 Features"
   ]
  },
  {
   "cell_type": "markdown",
   "id": "460b53cd-b765-4e00-9e12-005fadf36f52",
   "metadata": {
    "tags": []
   },
   "source": [
    "We just do a basic check to make sure that the FT1 feature is having a proper data"
   ]
  },
  {
   "cell_type": "code",
   "execution_count": 1211,
   "id": "80f0cce4-5615-442d-b107-b94746317fd1",
   "metadata": {
    "tags": []
   },
   "outputs": [
    {
     "data": {
      "text/html": [
       "<div>\n",
       "<style scoped>\n",
       "    .dataframe tbody tr th:only-of-type {\n",
       "        vertical-align: middle;\n",
       "    }\n",
       "\n",
       "    .dataframe tbody tr th {\n",
       "        vertical-align: top;\n",
       "    }\n",
       "\n",
       "    .dataframe thead th {\n",
       "        text-align: right;\n",
       "    }\n",
       "</style>\n",
       "<table border=\"1\" class=\"dataframe\">\n",
       "  <thead>\n",
       "    <tr style=\"text-align: right;\">\n",
       "      <th></th>\n",
       "      <th>Year</th>\n",
       "      <th>Make</th>\n",
       "      <th>Class</th>\n",
       "      <th>Drive</th>\n",
       "      <th>Transmission</th>\n",
       "      <th>Engine Index</th>\n",
       "      <th>Engine Cylinders</th>\n",
       "      <th>Engine Displacement</th>\n",
       "      <th>Turbocharger</th>\n",
       "      <th>Supercharger</th>\n",
       "      <th>Fuel Type</th>\n",
       "      <th>Fuel Type 1</th>\n",
       "      <th>Fuel Type 2</th>\n",
       "      <th>City MPG (FT1)</th>\n",
       "      <th>City MPG (FT2)</th>\n",
       "      <th>City Gasoline Consumption (CD)</th>\n",
       "      <th>City Electricity Consumption</th>\n",
       "      <th>Highway MPG (FT1)</th>\n",
       "      <th>Highway MPG (FT2)</th>\n",
       "      <th>Highway Gasoline Consumption (CD)</th>\n",
       "      <th>Highway Electricity Consumption</th>\n",
       "      <th>Combined MPG (FT1)</th>\n",
       "      <th>Combined MPG (FT2)</th>\n",
       "      <th>Combined Electricity Consumption</th>\n",
       "      <th>Combined Gasoline Consumption (CD)</th>\n",
       "      <th>Annual Fuel Cost (FT1)</th>\n",
       "      <th>Annual Fuel Cost (FT2)</th>\n",
       "      <th>Gas Guzzler Tax</th>\n",
       "      <th>Annual Consumption in Barrels (FT1)</th>\n",
       "      <th>Annual Consumption in Barrels (FT2)</th>\n",
       "      <th>Tailpipe CO2 (FT1)</th>\n",
       "      <th>Tailpipe CO2 (FT2)</th>\n",
       "      <th>Fuel Economy Score</th>\n",
       "      <th>GHG Score</th>\n",
       "      <th>GHG Score (Alt Fuel)</th>\n",
       "    </tr>\n",
       "  </thead>\n",
       "  <tbody>\n",
       "    <tr>\n",
       "      <th>16898</th>\n",
       "      <td>2000</td>\n",
       "      <td>Chevrolet</td>\n",
       "      <td>Subcompact Cars</td>\n",
       "      <td>Front-Wheel Drive</td>\n",
       "      <td>Automatic 3-Speed</td>\n",
       "      <td>0</td>\n",
       "      <td>4.0</td>\n",
       "      <td>2.2</td>\n",
       "      <td>0.0</td>\n",
       "      <td>0.0</td>\n",
       "      <td>Gasoline or natural gas</td>\n",
       "      <td>Regular Gasoline</td>\n",
       "      <td>Natural Gas</td>\n",
       "      <td>20</td>\n",
       "      <td>18</td>\n",
       "      <td>0.0</td>\n",
       "      <td>0.0</td>\n",
       "      <td>25</td>\n",
       "      <td>25</td>\n",
       "      <td>0.0</td>\n",
       "      <td>0.0</td>\n",
       "      <td>22</td>\n",
       "      <td>20</td>\n",
       "      <td>0.0</td>\n",
       "      <td>0.0</td>\n",
       "      <td>1600</td>\n",
       "      <td>1550</td>\n",
       "      <td>Not Applicable</td>\n",
       "      <td>14.982273</td>\n",
       "      <td>0.093000</td>\n",
       "      <td>-1</td>\n",
       "      <td>-1</td>\n",
       "      <td>-1</td>\n",
       "      <td>-1</td>\n",
       "      <td>-1</td>\n",
       "    </tr>\n",
       "    <tr>\n",
       "      <th>16973</th>\n",
       "      <td>2000</td>\n",
       "      <td>Chrysler</td>\n",
       "      <td>Minivan - 2WD</td>\n",
       "      <td>Front-Wheel Drive</td>\n",
       "      <td>Automatic 4-Speed</td>\n",
       "      <td>0</td>\n",
       "      <td>6.0</td>\n",
       "      <td>3.3</td>\n",
       "      <td>0.0</td>\n",
       "      <td>0.0</td>\n",
       "      <td>Gasoline or E85</td>\n",
       "      <td>Regular Gasoline</td>\n",
       "      <td>E85</td>\n",
       "      <td>16</td>\n",
       "      <td>12</td>\n",
       "      <td>0.0</td>\n",
       "      <td>0.0</td>\n",
       "      <td>22</td>\n",
       "      <td>17</td>\n",
       "      <td>0.0</td>\n",
       "      <td>0.0</td>\n",
       "      <td>18</td>\n",
       "      <td>13</td>\n",
       "      <td>0.0</td>\n",
       "      <td>0.0</td>\n",
       "      <td>1950</td>\n",
       "      <td>2250</td>\n",
       "      <td>Not Applicable</td>\n",
       "      <td>18.311667</td>\n",
       "      <td>5.762308</td>\n",
       "      <td>-1</td>\n",
       "      <td>-1</td>\n",
       "      <td>-1</td>\n",
       "      <td>-1</td>\n",
       "      <td>-1</td>\n",
       "    </tr>\n",
       "    <tr>\n",
       "      <th>17000</th>\n",
       "      <td>2000</td>\n",
       "      <td>Dodge</td>\n",
       "      <td>Minivan - 2WD</td>\n",
       "      <td>Front-Wheel Drive</td>\n",
       "      <td>Automatic 4-Speed</td>\n",
       "      <td>0</td>\n",
       "      <td>6.0</td>\n",
       "      <td>3.3</td>\n",
       "      <td>0.0</td>\n",
       "      <td>0.0</td>\n",
       "      <td>Gasoline or E85</td>\n",
       "      <td>Regular Gasoline</td>\n",
       "      <td>E85</td>\n",
       "      <td>16</td>\n",
       "      <td>12</td>\n",
       "      <td>0.0</td>\n",
       "      <td>0.0</td>\n",
       "      <td>23</td>\n",
       "      <td>17</td>\n",
       "      <td>0.0</td>\n",
       "      <td>0.0</td>\n",
       "      <td>19</td>\n",
       "      <td>13</td>\n",
       "      <td>0.0</td>\n",
       "      <td>0.0</td>\n",
       "      <td>1850</td>\n",
       "      <td>2250</td>\n",
       "      <td>Not Applicable</td>\n",
       "      <td>17.347895</td>\n",
       "      <td>5.762308</td>\n",
       "      <td>-1</td>\n",
       "      <td>-1</td>\n",
       "      <td>-1</td>\n",
       "      <td>-1</td>\n",
       "      <td>-1</td>\n",
       "    </tr>\n",
       "    <tr>\n",
       "      <th>17071</th>\n",
       "      <td>2000</td>\n",
       "      <td>Ford</td>\n",
       "      <td>Sport Utility Vehicle - 2WD</td>\n",
       "      <td>Rear-Wheel Drive</td>\n",
       "      <td>Automatic 5-Speed</td>\n",
       "      <td>0</td>\n",
       "      <td>6.0</td>\n",
       "      <td>4.0</td>\n",
       "      <td>0.0</td>\n",
       "      <td>0.0</td>\n",
       "      <td>Gasoline or E85</td>\n",
       "      <td>Regular Gasoline</td>\n",
       "      <td>E85</td>\n",
       "      <td>14</td>\n",
       "      <td>10</td>\n",
       "      <td>0.0</td>\n",
       "      <td>0.0</td>\n",
       "      <td>17</td>\n",
       "      <td>12</td>\n",
       "      <td>0.0</td>\n",
       "      <td>0.0</td>\n",
       "      <td>15</td>\n",
       "      <td>11</td>\n",
       "      <td>0.0</td>\n",
       "      <td>0.0</td>\n",
       "      <td>2350</td>\n",
       "      <td>2650</td>\n",
       "      <td>Not Applicable</td>\n",
       "      <td>21.974000</td>\n",
       "      <td>6.810000</td>\n",
       "      <td>-1</td>\n",
       "      <td>-1</td>\n",
       "      <td>-1</td>\n",
       "      <td>-1</td>\n",
       "      <td>-1</td>\n",
       "    </tr>\n",
       "    <tr>\n",
       "      <th>17102</th>\n",
       "      <td>2000</td>\n",
       "      <td>Ford</td>\n",
       "      <td>Standard Pickup Trucks 2WD</td>\n",
       "      <td>Rear-Wheel Drive</td>\n",
       "      <td>Automatic 4-Speed</td>\n",
       "      <td>0</td>\n",
       "      <td>6.0</td>\n",
       "      <td>3.0</td>\n",
       "      <td>0.0</td>\n",
       "      <td>0.0</td>\n",
       "      <td>Gasoline or E85</td>\n",
       "      <td>Regular Gasoline</td>\n",
       "      <td>E85</td>\n",
       "      <td>15</td>\n",
       "      <td>11</td>\n",
       "      <td>0.0</td>\n",
       "      <td>0.0</td>\n",
       "      <td>20</td>\n",
       "      <td>15</td>\n",
       "      <td>0.0</td>\n",
       "      <td>0.0</td>\n",
       "      <td>17</td>\n",
       "      <td>12</td>\n",
       "      <td>0.0</td>\n",
       "      <td>0.0</td>\n",
       "      <td>2050</td>\n",
       "      <td>2400</td>\n",
       "      <td>Not Applicable</td>\n",
       "      <td>19.388824</td>\n",
       "      <td>6.242500</td>\n",
       "      <td>-1</td>\n",
       "      <td>-1</td>\n",
       "      <td>-1</td>\n",
       "      <td>-1</td>\n",
       "      <td>-1</td>\n",
       "    </tr>\n",
       "  </tbody>\n",
       "</table>\n",
       "</div>"
      ],
      "text/plain": [
       "       Year       Make                        Class              Drive  \\\n",
       "16898  2000  Chevrolet              Subcompact Cars  Front-Wheel Drive   \n",
       "16973  2000   Chrysler                Minivan - 2WD  Front-Wheel Drive   \n",
       "17000  2000      Dodge                Minivan - 2WD  Front-Wheel Drive   \n",
       "17071  2000       Ford  Sport Utility Vehicle - 2WD   Rear-Wheel Drive   \n",
       "17102  2000       Ford   Standard Pickup Trucks 2WD   Rear-Wheel Drive   \n",
       "\n",
       "            Transmission  Engine Index Engine Cylinders Engine Displacement  \\\n",
       "16898  Automatic 3-Speed             0              4.0                 2.2   \n",
       "16973  Automatic 4-Speed             0              6.0                 3.3   \n",
       "17000  Automatic 4-Speed             0              6.0                 3.3   \n",
       "17071  Automatic 5-Speed             0              6.0                 4.0   \n",
       "17102  Automatic 4-Speed             0              6.0                 3.0   \n",
       "\n",
       "       Turbocharger  Supercharger                Fuel Type       Fuel Type 1  \\\n",
       "16898           0.0           0.0  Gasoline or natural gas  Regular Gasoline   \n",
       "16973           0.0           0.0          Gasoline or E85  Regular Gasoline   \n",
       "17000           0.0           0.0          Gasoline or E85  Regular Gasoline   \n",
       "17071           0.0           0.0          Gasoline or E85  Regular Gasoline   \n",
       "17102           0.0           0.0          Gasoline or E85  Regular Gasoline   \n",
       "\n",
       "       Fuel Type 2  City MPG (FT1)  City MPG (FT2)  \\\n",
       "16898  Natural Gas              20              18   \n",
       "16973          E85              16              12   \n",
       "17000          E85              16              12   \n",
       "17071          E85              14              10   \n",
       "17102          E85              15              11   \n",
       "\n",
       "       City Gasoline Consumption (CD)  City Electricity Consumption  \\\n",
       "16898                             0.0                           0.0   \n",
       "16973                             0.0                           0.0   \n",
       "17000                             0.0                           0.0   \n",
       "17071                             0.0                           0.0   \n",
       "17102                             0.0                           0.0   \n",
       "\n",
       "       Highway MPG (FT1)  Highway MPG (FT2)  \\\n",
       "16898                 25                 25   \n",
       "16973                 22                 17   \n",
       "17000                 23                 17   \n",
       "17071                 17                 12   \n",
       "17102                 20                 15   \n",
       "\n",
       "       Highway Gasoline Consumption (CD)  Highway Electricity Consumption  \\\n",
       "16898                                0.0                              0.0   \n",
       "16973                                0.0                              0.0   \n",
       "17000                                0.0                              0.0   \n",
       "17071                                0.0                              0.0   \n",
       "17102                                0.0                              0.0   \n",
       "\n",
       "       Combined MPG (FT1)  Combined MPG (FT2)  \\\n",
       "16898                  22                  20   \n",
       "16973                  18                  13   \n",
       "17000                  19                  13   \n",
       "17071                  15                  11   \n",
       "17102                  17                  12   \n",
       "\n",
       "       Combined Electricity Consumption  Combined Gasoline Consumption (CD)  \\\n",
       "16898                               0.0                                 0.0   \n",
       "16973                               0.0                                 0.0   \n",
       "17000                               0.0                                 0.0   \n",
       "17071                               0.0                                 0.0   \n",
       "17102                               0.0                                 0.0   \n",
       "\n",
       "       Annual Fuel Cost (FT1)  Annual Fuel Cost (FT2) Gas Guzzler Tax  \\\n",
       "16898                    1600                    1550  Not Applicable   \n",
       "16973                    1950                    2250  Not Applicable   \n",
       "17000                    1850                    2250  Not Applicable   \n",
       "17071                    2350                    2650  Not Applicable   \n",
       "17102                    2050                    2400  Not Applicable   \n",
       "\n",
       "       Annual Consumption in Barrels (FT1)  \\\n",
       "16898                            14.982273   \n",
       "16973                            18.311667   \n",
       "17000                            17.347895   \n",
       "17071                            21.974000   \n",
       "17102                            19.388824   \n",
       "\n",
       "       Annual Consumption in Barrels (FT2)  Tailpipe CO2 (FT1)  \\\n",
       "16898                             0.093000                  -1   \n",
       "16973                             5.762308                  -1   \n",
       "17000                             5.762308                  -1   \n",
       "17071                             6.810000                  -1   \n",
       "17102                             6.242500                  -1   \n",
       "\n",
       "       Tailpipe CO2 (FT2)  Fuel Economy Score  GHG Score  GHG Score (Alt Fuel)  \n",
       "16898                  -1                  -1         -1                    -1  \n",
       "16973                  -1                  -1         -1                    -1  \n",
       "17000                  -1                  -1         -1                    -1  \n",
       "17071                  -1                  -1         -1                    -1  \n",
       "17102                  -1                  -1         -1                    -1  "
      ]
     },
     "execution_count": 1211,
     "metadata": {},
     "output_type": "execute_result"
    }
   ],
   "source": [
    "df_ann_fuel_cost_ft2 = df_filtered[df_filtered['Annual Fuel Cost (FT2)'] >0]\n",
    "df_ann_fuel_cost_ft2.head()"
   ]
  },
  {
   "cell_type": "code",
   "execution_count": 1212,
   "id": "fb44fefd-8a9a-446a-ae2e-6e61134fadd6",
   "metadata": {
    "jupyter": {
     "source_hidden": true
    },
    "tags": []
   },
   "outputs": [
    {
     "data": {
      "text/plain": [
       "array(['Gasoline or natural gas', 'Gasoline or E85',\n",
       "       'Gasoline or propane', 'Premium or E85',\n",
       "       'Premium Gas or Electricity', 'Regular Gas or Electricity'],\n",
       "      dtype=object)"
      ]
     },
     "execution_count": 1212,
     "metadata": {},
     "output_type": "execute_result"
    }
   ],
   "source": [
    "df_ann_fuel_cost_ft2['Fuel Type'].unique()"
   ]
  },
  {
   "cell_type": "markdown",
   "id": "d236e824-5fee-4812-94a7-3bf6f5062813",
   "metadata": {},
   "source": [
    "#### Abnormalities for the Vehicle with Electricity as its 2nd Fuel"
   ]
  },
  {
   "cell_type": "markdown",
   "id": "d1ee4a38-d668-4d7e-902e-34e04dde82bc",
   "metadata": {},
   "source": [
    "The vehicle with electricity as its 2nd energy source also cost the owner for the Fuel and the vehicle primary fuel source are also using a gas. By right this should not happen, because all Hybrid cars with battery will be charged by the gas engine. Let's take a look on the annual cost for these data. we need to ommit these data from our dataset"
   ]
  },
  {
   "cell_type": "code",
   "execution_count": 1213,
   "id": "3c2ee8b7-cbbf-4679-bf3f-c109d82f14f4",
   "metadata": {},
   "outputs": [
    {
     "data": {
      "text/plain": [
       "(20, 3)"
      ]
     },
     "execution_count": 1213,
     "metadata": {},
     "output_type": "execute_result"
    }
   ],
   "source": [
    "df_ann_cst_abnormal = df_ann_fuel_cost_ft2[df_ann_fuel_cost_ft2['Fuel Type'].isin(['Premium Gas or Electricity', 'Regular Gas or Electricity'])]\n",
    "df_ann_cst_abnormal = df_ann_cst_abnormal[['Fuel Type','Annual Fuel Cost (FT1)','Annual Fuel Cost (FT2)']]\n",
    "df_ann_cst_abnormal.shape"
   ]
  },
  {
   "cell_type": "markdown",
   "id": "0ba6d7e7-da81-4564-b29d-afd9618d9c37",
   "metadata": {},
   "source": [
    "We will remove in total 20 data in our dataset"
   ]
  },
  {
   "cell_type": "code",
   "execution_count": 1214,
   "id": "8ce0ac9f-c24c-48b8-960d-d0808045bde0",
   "metadata": {},
   "outputs": [
    {
     "name": "stdout",
     "output_type": "stream",
     "text": [
      "Total data Removed: 1214 out of 38113\n",
      "Remaining Data: 36899\n",
      "Percentage Data that are still retained: 96.81473512974576\n"
     ]
    }
   ],
   "source": [
    "df_filtered.drop(df_ann_cst_abnormal.index,axis=0,inplace=True)\n",
    "data_statistics()"
   ]
  },
  {
   "cell_type": "markdown",
   "id": "f2b49360-3a91-4978-a694-927aaa9735f3",
   "metadata": {},
   "source": [
    "Check if there're any FT1 data that is 0"
   ]
  },
  {
   "cell_type": "code",
   "execution_count": 1215,
   "id": "f4c5c557-4fe6-4dff-abfa-36d9c1783489",
   "metadata": {},
   "outputs": [
    {
     "data": {
      "text/plain": [
       "0"
      ]
     },
     "execution_count": 1215,
     "metadata": {},
     "output_type": "execute_result"
    }
   ],
   "source": [
    "df_ann_fuel_cost_ft2[df_ann_fuel_cost_ft2['Annual Fuel Cost (FT1)']<=0].shape[0]"
   ]
  },
  {
   "cell_type": "markdown",
   "id": "44677166-331b-4fc3-bf48-39721a192866",
   "metadata": {},
   "source": [
    "### 4.5.3 Check Conclusion"
   ]
  },
  {
   "cell_type": "markdown",
   "id": "7725905a-ad65-40af-aa22-67f8ec0f9d45",
   "metadata": {},
   "source": [
    "There are abnormalities found for the Hybrid EV car where the Electricity (FT2) is charged an## 4.5 Annual Fuel Costually. Since this energy is charged through the primary engine (with gas fuel type), the data representation is not correct. With that said, we removed affected entries from our dataset (20 Entries)."
   ]
  },
  {
   "cell_type": "markdown",
   "id": "b03cd71a-b9da-4c2c-b33d-c3f8a9e93ce3",
   "metadata": {},
   "source": [
    "## 4.6 Annual Consumption in Barrels"
   ]
  },
  {
   "cell_type": "markdown",
   "id": "13ef8def-10ff-4f8f-b78e-8b6d38a94d7e",
   "metadata": {},
   "source": [
    "This features explain on how many barrels the vehicle consumed anually. We will perform the same check with the previous feature since both explain about the Fuel consumption"
   ]
  },
  {
   "cell_type": "markdown",
   "id": "e8adad02-30da-4892-aba9-b3cdbf04f03e",
   "metadata": {},
   "source": [
    "### 4.6.1 Analysis on FT1 features"
   ]
  },
  {
   "cell_type": "markdown",
   "id": "5c47ce5d-f09a-48aa-b92c-f0dddedd8292",
   "metadata": {
    "tags": []
   },
   "source": [
    "The data should not have any entries with 0 in the FT1. If there's such data, we need to remove it because it can messed up our model."
   ]
  },
  {
   "cell_type": "code",
   "execution_count": 1216,
   "id": "ed2d9390-e394-4a2c-96fd-36849504af85",
   "metadata": {
    "tags": []
   },
   "outputs": [
    {
     "data": {
      "text/plain": [
       "0"
      ]
     },
     "execution_count": 1216,
     "metadata": {},
     "output_type": "execute_result"
    }
   ],
   "source": [
    "df_filtered[df_filtered['Annual Consumption in Barrels (FT1)'] <= 0].shape[0]"
   ]
  },
  {
   "cell_type": "markdown",
   "id": "72fa6a64-33ee-43e1-956d-273cf2afb12e",
   "metadata": {},
   "source": [
    "Let's check the Fuel type for the data with FT1 MPG only"
   ]
  },
  {
   "cell_type": "code",
   "execution_count": 1217,
   "id": "03189f94-a877-4106-a168-f6b74dcc9381",
   "metadata": {
    "tags": []
   },
   "outputs": [
    {
     "data": {
      "text/plain": [
       "array(['Regular', 'Diesel', 'Premium', 'CNG', 'Electricity', 'Midgrade'],\n",
       "      dtype=object)"
      ]
     },
     "execution_count": 1217,
     "metadata": {},
     "output_type": "execute_result"
    }
   ],
   "source": [
    "df_filtered[df_filtered['Annual Consumption in Barrels (FT2)'] <= 0]['Fuel Type'].unique()"
   ]
  },
  {
   "cell_type": "markdown",
   "id": "fcd6a873-a4f1-4a3f-ab94-3f86e795a3a7",
   "metadata": {},
   "source": [
    "In here we are not seeing any Hybrid vehicle in place. Does it mean that the consumption for this type of vehicle is less than 1 barrels per year ? We will check on the FT2 feature to find it out"
   ]
  },
  {
   "cell_type": "markdown",
   "id": "881b7531-bbef-4d13-83d3-ca73ab76aedc",
   "metadata": {},
   "source": [
    "### 4.6.2 Analysis on FT1 & FT2 features"
   ]
  },
  {
   "cell_type": "markdown",
   "id": "7f4fcaa8-48c9-4a36-8331-5782ce29c728",
   "metadata": {
    "tags": []
   },
   "source": [
    "We just do a basic check to make sure that the FT1 feature is having a proper data"
   ]
  },
  {
   "cell_type": "code",
   "execution_count": 1218,
   "id": "1caabc46-9add-48b6-a2e8-e4889e91588a",
   "metadata": {
    "tags": []
   },
   "outputs": [
    {
     "data": {
      "text/html": [
       "<div>\n",
       "<style scoped>\n",
       "    .dataframe tbody tr th:only-of-type {\n",
       "        vertical-align: middle;\n",
       "    }\n",
       "\n",
       "    .dataframe tbody tr th {\n",
       "        vertical-align: top;\n",
       "    }\n",
       "\n",
       "    .dataframe thead th {\n",
       "        text-align: right;\n",
       "    }\n",
       "</style>\n",
       "<table border=\"1\" class=\"dataframe\">\n",
       "  <thead>\n",
       "    <tr style=\"text-align: right;\">\n",
       "      <th></th>\n",
       "      <th>Year</th>\n",
       "      <th>Make</th>\n",
       "      <th>Class</th>\n",
       "      <th>Drive</th>\n",
       "      <th>Transmission</th>\n",
       "      <th>Engine Index</th>\n",
       "      <th>Engine Cylinders</th>\n",
       "      <th>Engine Displacement</th>\n",
       "      <th>Turbocharger</th>\n",
       "      <th>Supercharger</th>\n",
       "      <th>Fuel Type</th>\n",
       "      <th>Fuel Type 1</th>\n",
       "      <th>Fuel Type 2</th>\n",
       "      <th>City MPG (FT1)</th>\n",
       "      <th>City MPG (FT2)</th>\n",
       "      <th>City Gasoline Consumption (CD)</th>\n",
       "      <th>City Electricity Consumption</th>\n",
       "      <th>Highway MPG (FT1)</th>\n",
       "      <th>Highway MPG (FT2)</th>\n",
       "      <th>Highway Gasoline Consumption (CD)</th>\n",
       "      <th>Highway Electricity Consumption</th>\n",
       "      <th>Combined MPG (FT1)</th>\n",
       "      <th>Combined MPG (FT2)</th>\n",
       "      <th>Combined Electricity Consumption</th>\n",
       "      <th>Combined Gasoline Consumption (CD)</th>\n",
       "      <th>Annual Fuel Cost (FT1)</th>\n",
       "      <th>Annual Fuel Cost (FT2)</th>\n",
       "      <th>Gas Guzzler Tax</th>\n",
       "      <th>Annual Consumption in Barrels (FT1)</th>\n",
       "      <th>Annual Consumption in Barrels (FT2)</th>\n",
       "      <th>Tailpipe CO2 (FT1)</th>\n",
       "      <th>Tailpipe CO2 (FT2)</th>\n",
       "      <th>Fuel Economy Score</th>\n",
       "      <th>GHG Score</th>\n",
       "      <th>GHG Score (Alt Fuel)</th>\n",
       "    </tr>\n",
       "  </thead>\n",
       "  <tbody>\n",
       "    <tr>\n",
       "      <th>16898</th>\n",
       "      <td>2000</td>\n",
       "      <td>Chevrolet</td>\n",
       "      <td>Subcompact Cars</td>\n",
       "      <td>Front-Wheel Drive</td>\n",
       "      <td>Automatic 3-Speed</td>\n",
       "      <td>0</td>\n",
       "      <td>4.0</td>\n",
       "      <td>2.2</td>\n",
       "      <td>0.0</td>\n",
       "      <td>0.0</td>\n",
       "      <td>Gasoline or natural gas</td>\n",
       "      <td>Regular Gasoline</td>\n",
       "      <td>Natural Gas</td>\n",
       "      <td>20</td>\n",
       "      <td>18</td>\n",
       "      <td>0.0</td>\n",
       "      <td>0.0</td>\n",
       "      <td>25</td>\n",
       "      <td>25</td>\n",
       "      <td>0.0</td>\n",
       "      <td>0.0</td>\n",
       "      <td>22</td>\n",
       "      <td>20</td>\n",
       "      <td>0.0</td>\n",
       "      <td>0.0</td>\n",
       "      <td>1600</td>\n",
       "      <td>1550</td>\n",
       "      <td>Not Applicable</td>\n",
       "      <td>14.982273</td>\n",
       "      <td>0.093000</td>\n",
       "      <td>-1</td>\n",
       "      <td>-1</td>\n",
       "      <td>-1</td>\n",
       "      <td>-1</td>\n",
       "      <td>-1</td>\n",
       "    </tr>\n",
       "    <tr>\n",
       "      <th>16973</th>\n",
       "      <td>2000</td>\n",
       "      <td>Chrysler</td>\n",
       "      <td>Minivan - 2WD</td>\n",
       "      <td>Front-Wheel Drive</td>\n",
       "      <td>Automatic 4-Speed</td>\n",
       "      <td>0</td>\n",
       "      <td>6.0</td>\n",
       "      <td>3.3</td>\n",
       "      <td>0.0</td>\n",
       "      <td>0.0</td>\n",
       "      <td>Gasoline or E85</td>\n",
       "      <td>Regular Gasoline</td>\n",
       "      <td>E85</td>\n",
       "      <td>16</td>\n",
       "      <td>12</td>\n",
       "      <td>0.0</td>\n",
       "      <td>0.0</td>\n",
       "      <td>22</td>\n",
       "      <td>17</td>\n",
       "      <td>0.0</td>\n",
       "      <td>0.0</td>\n",
       "      <td>18</td>\n",
       "      <td>13</td>\n",
       "      <td>0.0</td>\n",
       "      <td>0.0</td>\n",
       "      <td>1950</td>\n",
       "      <td>2250</td>\n",
       "      <td>Not Applicable</td>\n",
       "      <td>18.311667</td>\n",
       "      <td>5.762308</td>\n",
       "      <td>-1</td>\n",
       "      <td>-1</td>\n",
       "      <td>-1</td>\n",
       "      <td>-1</td>\n",
       "      <td>-1</td>\n",
       "    </tr>\n",
       "    <tr>\n",
       "      <th>17000</th>\n",
       "      <td>2000</td>\n",
       "      <td>Dodge</td>\n",
       "      <td>Minivan - 2WD</td>\n",
       "      <td>Front-Wheel Drive</td>\n",
       "      <td>Automatic 4-Speed</td>\n",
       "      <td>0</td>\n",
       "      <td>6.0</td>\n",
       "      <td>3.3</td>\n",
       "      <td>0.0</td>\n",
       "      <td>0.0</td>\n",
       "      <td>Gasoline or E85</td>\n",
       "      <td>Regular Gasoline</td>\n",
       "      <td>E85</td>\n",
       "      <td>16</td>\n",
       "      <td>12</td>\n",
       "      <td>0.0</td>\n",
       "      <td>0.0</td>\n",
       "      <td>23</td>\n",
       "      <td>17</td>\n",
       "      <td>0.0</td>\n",
       "      <td>0.0</td>\n",
       "      <td>19</td>\n",
       "      <td>13</td>\n",
       "      <td>0.0</td>\n",
       "      <td>0.0</td>\n",
       "      <td>1850</td>\n",
       "      <td>2250</td>\n",
       "      <td>Not Applicable</td>\n",
       "      <td>17.347895</td>\n",
       "      <td>5.762308</td>\n",
       "      <td>-1</td>\n",
       "      <td>-1</td>\n",
       "      <td>-1</td>\n",
       "      <td>-1</td>\n",
       "      <td>-1</td>\n",
       "    </tr>\n",
       "    <tr>\n",
       "      <th>17071</th>\n",
       "      <td>2000</td>\n",
       "      <td>Ford</td>\n",
       "      <td>Sport Utility Vehicle - 2WD</td>\n",
       "      <td>Rear-Wheel Drive</td>\n",
       "      <td>Automatic 5-Speed</td>\n",
       "      <td>0</td>\n",
       "      <td>6.0</td>\n",
       "      <td>4.0</td>\n",
       "      <td>0.0</td>\n",
       "      <td>0.0</td>\n",
       "      <td>Gasoline or E85</td>\n",
       "      <td>Regular Gasoline</td>\n",
       "      <td>E85</td>\n",
       "      <td>14</td>\n",
       "      <td>10</td>\n",
       "      <td>0.0</td>\n",
       "      <td>0.0</td>\n",
       "      <td>17</td>\n",
       "      <td>12</td>\n",
       "      <td>0.0</td>\n",
       "      <td>0.0</td>\n",
       "      <td>15</td>\n",
       "      <td>11</td>\n",
       "      <td>0.0</td>\n",
       "      <td>0.0</td>\n",
       "      <td>2350</td>\n",
       "      <td>2650</td>\n",
       "      <td>Not Applicable</td>\n",
       "      <td>21.974000</td>\n",
       "      <td>6.810000</td>\n",
       "      <td>-1</td>\n",
       "      <td>-1</td>\n",
       "      <td>-1</td>\n",
       "      <td>-1</td>\n",
       "      <td>-1</td>\n",
       "    </tr>\n",
       "    <tr>\n",
       "      <th>17102</th>\n",
       "      <td>2000</td>\n",
       "      <td>Ford</td>\n",
       "      <td>Standard Pickup Trucks 2WD</td>\n",
       "      <td>Rear-Wheel Drive</td>\n",
       "      <td>Automatic 4-Speed</td>\n",
       "      <td>0</td>\n",
       "      <td>6.0</td>\n",
       "      <td>3.0</td>\n",
       "      <td>0.0</td>\n",
       "      <td>0.0</td>\n",
       "      <td>Gasoline or E85</td>\n",
       "      <td>Regular Gasoline</td>\n",
       "      <td>E85</td>\n",
       "      <td>15</td>\n",
       "      <td>11</td>\n",
       "      <td>0.0</td>\n",
       "      <td>0.0</td>\n",
       "      <td>20</td>\n",
       "      <td>15</td>\n",
       "      <td>0.0</td>\n",
       "      <td>0.0</td>\n",
       "      <td>17</td>\n",
       "      <td>12</td>\n",
       "      <td>0.0</td>\n",
       "      <td>0.0</td>\n",
       "      <td>2050</td>\n",
       "      <td>2400</td>\n",
       "      <td>Not Applicable</td>\n",
       "      <td>19.388824</td>\n",
       "      <td>6.242500</td>\n",
       "      <td>-1</td>\n",
       "      <td>-1</td>\n",
       "      <td>-1</td>\n",
       "      <td>-1</td>\n",
       "      <td>-1</td>\n",
       "    </tr>\n",
       "  </tbody>\n",
       "</table>\n",
       "</div>"
      ],
      "text/plain": [
       "       Year       Make                        Class              Drive  \\\n",
       "16898  2000  Chevrolet              Subcompact Cars  Front-Wheel Drive   \n",
       "16973  2000   Chrysler                Minivan - 2WD  Front-Wheel Drive   \n",
       "17000  2000      Dodge                Minivan - 2WD  Front-Wheel Drive   \n",
       "17071  2000       Ford  Sport Utility Vehicle - 2WD   Rear-Wheel Drive   \n",
       "17102  2000       Ford   Standard Pickup Trucks 2WD   Rear-Wheel Drive   \n",
       "\n",
       "            Transmission  Engine Index Engine Cylinders Engine Displacement  \\\n",
       "16898  Automatic 3-Speed             0              4.0                 2.2   \n",
       "16973  Automatic 4-Speed             0              6.0                 3.3   \n",
       "17000  Automatic 4-Speed             0              6.0                 3.3   \n",
       "17071  Automatic 5-Speed             0              6.0                 4.0   \n",
       "17102  Automatic 4-Speed             0              6.0                 3.0   \n",
       "\n",
       "       Turbocharger  Supercharger                Fuel Type       Fuel Type 1  \\\n",
       "16898           0.0           0.0  Gasoline or natural gas  Regular Gasoline   \n",
       "16973           0.0           0.0          Gasoline or E85  Regular Gasoline   \n",
       "17000           0.0           0.0          Gasoline or E85  Regular Gasoline   \n",
       "17071           0.0           0.0          Gasoline or E85  Regular Gasoline   \n",
       "17102           0.0           0.0          Gasoline or E85  Regular Gasoline   \n",
       "\n",
       "       Fuel Type 2  City MPG (FT1)  City MPG (FT2)  \\\n",
       "16898  Natural Gas              20              18   \n",
       "16973          E85              16              12   \n",
       "17000          E85              16              12   \n",
       "17071          E85              14              10   \n",
       "17102          E85              15              11   \n",
       "\n",
       "       City Gasoline Consumption (CD)  City Electricity Consumption  \\\n",
       "16898                             0.0                           0.0   \n",
       "16973                             0.0                           0.0   \n",
       "17000                             0.0                           0.0   \n",
       "17071                             0.0                           0.0   \n",
       "17102                             0.0                           0.0   \n",
       "\n",
       "       Highway MPG (FT1)  Highway MPG (FT2)  \\\n",
       "16898                 25                 25   \n",
       "16973                 22                 17   \n",
       "17000                 23                 17   \n",
       "17071                 17                 12   \n",
       "17102                 20                 15   \n",
       "\n",
       "       Highway Gasoline Consumption (CD)  Highway Electricity Consumption  \\\n",
       "16898                                0.0                              0.0   \n",
       "16973                                0.0                              0.0   \n",
       "17000                                0.0                              0.0   \n",
       "17071                                0.0                              0.0   \n",
       "17102                                0.0                              0.0   \n",
       "\n",
       "       Combined MPG (FT1)  Combined MPG (FT2)  \\\n",
       "16898                  22                  20   \n",
       "16973                  18                  13   \n",
       "17000                  19                  13   \n",
       "17071                  15                  11   \n",
       "17102                  17                  12   \n",
       "\n",
       "       Combined Electricity Consumption  Combined Gasoline Consumption (CD)  \\\n",
       "16898                               0.0                                 0.0   \n",
       "16973                               0.0                                 0.0   \n",
       "17000                               0.0                                 0.0   \n",
       "17071                               0.0                                 0.0   \n",
       "17102                               0.0                                 0.0   \n",
       "\n",
       "       Annual Fuel Cost (FT1)  Annual Fuel Cost (FT2) Gas Guzzler Tax  \\\n",
       "16898                    1600                    1550  Not Applicable   \n",
       "16973                    1950                    2250  Not Applicable   \n",
       "17000                    1850                    2250  Not Applicable   \n",
       "17071                    2350                    2650  Not Applicable   \n",
       "17102                    2050                    2400  Not Applicable   \n",
       "\n",
       "       Annual Consumption in Barrels (FT1)  \\\n",
       "16898                            14.982273   \n",
       "16973                            18.311667   \n",
       "17000                            17.347895   \n",
       "17071                            21.974000   \n",
       "17102                            19.388824   \n",
       "\n",
       "       Annual Consumption in Barrels (FT2)  Tailpipe CO2 (FT1)  \\\n",
       "16898                             0.093000                  -1   \n",
       "16973                             5.762308                  -1   \n",
       "17000                             5.762308                  -1   \n",
       "17071                             6.810000                  -1   \n",
       "17102                             6.242500                  -1   \n",
       "\n",
       "       Tailpipe CO2 (FT2)  Fuel Economy Score  GHG Score  GHG Score (Alt Fuel)  \n",
       "16898                  -1                  -1         -1                    -1  \n",
       "16973                  -1                  -1         -1                    -1  \n",
       "17000                  -1                  -1         -1                    -1  \n",
       "17071                  -1                  -1         -1                    -1  \n",
       "17102                  -1                  -1         -1                    -1  "
      ]
     },
     "execution_count": 1218,
     "metadata": {},
     "output_type": "execute_result"
    }
   ],
   "source": [
    "df_ann_barrels_ft2 = df_filtered[df_filtered['Annual Consumption in Barrels (FT2)'] >0]\n",
    "df_ann_barrels_ft2.head()"
   ]
  },
  {
   "cell_type": "code",
   "execution_count": 1219,
   "id": "e6b6354f-e2d7-4306-824c-4f39ed8a6201",
   "metadata": {
    "tags": []
   },
   "outputs": [
    {
     "data": {
      "text/plain": [
       "array(['Gasoline or natural gas', 'Gasoline or E85',\n",
       "       'Gasoline or propane', 'Premium or E85',\n",
       "       'Regular Gas and Electricity', 'Premium and Electricity'],\n",
       "      dtype=object)"
      ]
     },
     "execution_count": 1219,
     "metadata": {},
     "output_type": "execute_result"
    }
   ],
   "source": [
    "df_ann_barrels_ft2['Fuel Type'].unique()"
   ]
  },
  {
   "cell_type": "markdown",
   "id": "3c06da61-b953-4d31-bb0d-8372c13f36c7",
   "metadata": {},
   "source": [
    "#### Abnormalities for the Vehicle with Electricity as its 2nd Fuel"
   ]
  },
  {
   "cell_type": "markdown",
   "id": "cf806ecf-0978-4f46-bef3-58714747b72b",
   "metadata": {},
   "source": [
    "In the data we saw the car with 2nd Fuel type electricity. For this case it's normal since both engine are running together (because it's 'and' instead of 'or')."
   ]
  },
  {
   "cell_type": "code",
   "execution_count": 1220,
   "id": "b2cc8dea-414c-4fd9-a181-3410be9a5193",
   "metadata": {},
   "outputs": [
    {
     "data": {
      "text/plain": [
       "0"
      ]
     },
     "execution_count": 1220,
     "metadata": {},
     "output_type": "execute_result"
    }
   ],
   "source": [
    "df_ann_barrels_ft2[df_ann_barrels_ft2['Annual Consumption in Barrels (FT1)'] <=0 ].shape[0]"
   ]
  },
  {
   "cell_type": "markdown",
   "id": "ddb3a3d9-4646-4a74-bad4-bf9c70791da7",
   "metadata": {},
   "source": [
    "### 4.6.3 Check conclusion"
   ]
  },
  {
   "cell_type": "markdown",
   "id": "0bb0d18e-e744-42ff-997d-686f0031a647",
   "metadata": {},
   "source": [
    "All the Annual Barrels consumption data is Ok and no any ambiguity detected "
   ]
  },
  {
   "cell_type": "markdown",
   "id": "1464ddd0-692f-4e2f-90fc-4c2aeb2a80c9",
   "metadata": {},
   "source": [
    "## 4.7 Tailpipe CO2"
   ]
  },
  {
   "cell_type": "markdown",
   "id": "2cd53740-bd56-4fe8-b924-1aec2d66a9a8",
   "metadata": {},
   "source": [
    "This measure how carbon produced from the exhaust pipe of the vehicle. This should not applicable for the Electric vehicle since they don't have exhaust pipe. Let's analyze if there are any abnormality with the data"
   ]
  },
  {
   "cell_type": "markdown",
   "id": "cfe3e842-3d76-4104-9059-2f5aaba22870",
   "metadata": {},
   "source": [
    "### 4.7.1 Analysis on the overall features"
   ]
  },
  {
   "cell_type": "markdown",
   "id": "b7fbf310-f112-4cb2-a530-4f165e86895d",
   "metadata": {},
   "source": [
    "Check if there're any vehicle with Tailpipe CO2 value as 0."
   ]
  },
  {
   "cell_type": "code",
   "execution_count": 1221,
   "id": "05eb092d-587a-463b-bd03-de99163a5d93",
   "metadata": {},
   "outputs": [
    {
     "data": {
      "text/plain": [
       "30892"
      ]
     },
     "execution_count": 1221,
     "metadata": {},
     "output_type": "execute_result"
    }
   ],
   "source": [
    "df_tailpipe = df_filtered[df_filtered['Tailpipe CO2 (FT1)'] <=0 ]\n",
    "df_tailpipe.shape[0]"
   ]
  },
  {
   "cell_type": "markdown",
   "id": "148434bd-4ce2-4bbc-8682-38bb52b53da2",
   "metadata": {},
   "source": [
    "Looks like there are a lot of vehicle have no proper recording of this feature. Let's check what type of vehicle that are not recorded"
   ]
  },
  {
   "cell_type": "code",
   "execution_count": 1222,
   "id": "08d1687b-25a5-45bb-91c0-152cdf930384",
   "metadata": {},
   "outputs": [
    {
     "data": {
      "text/plain": [
       "array(['Regular', 'Diesel', 'Premium', 'CNG', 'Electricity',\n",
       "       'Gasoline or natural gas', 'Gasoline or E85',\n",
       "       'Gasoline or propane', 'Premium or E85', 'Midgrade'], dtype=object)"
      ]
     },
     "execution_count": 1222,
     "metadata": {},
     "output_type": "execute_result"
    }
   ],
   "source": [
    "df_tailpipe['Fuel Type'].unique()"
   ]
  },
  {
   "cell_type": "markdown",
   "id": "45ae22aa-a210-49a3-ac1e-075cf7c80b48",
   "metadata": {},
   "source": [
    "Fossil powered engine is also not recorded properly. We cannot derive the value based on the formula since the measurement should be done using a device attached to the tailpipe in the proper test center.\n",
    "\n",
    "Let's check how many data left with the proper recording for this feature\n"
   ]
  },
  {
   "cell_type": "code",
   "execution_count": 1223,
   "id": "00ca68f3-ccf0-4df9-a475-6f1b1ab6ac6d",
   "metadata": {},
   "outputs": [
    {
     "data": {
      "text/plain": [
       "6007"
      ]
     },
     "execution_count": 1223,
     "metadata": {},
     "output_type": "execute_result"
    }
   ],
   "source": [
    "df_tailpipe = df_filtered[df_filtered['Tailpipe CO2 (FT1)'] >0 ]\n",
    "df_tailpipe.shape[0]"
   ]
  },
  {
   "cell_type": "code",
   "execution_count": 1224,
   "id": "8b59688b-fa6f-4a70-85dd-45567f5ec2ef",
   "metadata": {},
   "outputs": [
    {
     "data": {
      "text/plain": [
       "array(['Regular Gas and Electricity', 'Premium', 'Premium or E85',\n",
       "       'Diesel', 'Regular', 'Gasoline or E85', 'Midgrade', 'CNG',\n",
       "       'Premium and Electricity', 'Gasoline or natural gas'], dtype=object)"
      ]
     },
     "execution_count": 1224,
     "metadata": {},
     "output_type": "execute_result"
    }
   ],
   "source": [
    "df_tailpipe['Fuel Type'].unique()"
   ]
  },
  {
   "cell_type": "markdown",
   "id": "cd2dc5d6-93a6-46f5-a0a0-a4d15e403e1d",
   "metadata": {},
   "source": [
    "There are still 6007 data left that we can use to predict the carbon impact. It's still around 20%+ of the overall dataset that we have. We can use this data to create a model to predict the carbon footprint but it will not be the best model comparing the the MPG model. \n",
    "\n",
    "We also not seeing any Electricity car in the Fuel type. So these 6000 data is a good data. Later we need to split this data before create the Carbon prediction model"
   ]
  },
  {
   "cell_type": "markdown",
   "id": "d2562962-3e6b-4acb-98fa-337af1175792",
   "metadata": {},
   "source": [
    "### 4.7.2 Check Conclusion"
   ]
  },
  {
   "cell_type": "markdown",
   "id": "7ea16e27-06ac-4591-80b9-02c0f790ac16",
   "metadata": {},
   "source": [
    "We can only use around 20%+ data to create a Carbon footprint prediction model since there are a lot of data which has no recording of this feature and we also cannot calculate the value using the formula since this feature needs to be measured using a specialized instrument in the Car test facility"
   ]
  },
  {
   "cell_type": "markdown",
   "id": "67d8d4b7-bcf0-401d-a942-7f2511c5db7d",
   "metadata": {},
   "source": [
    "## 4.8 GHG (Green House Gas) and Fuel Economy Score"
   ]
  },
  {
   "cell_type": "markdown",
   "id": "f6133ffb-df33-4b7e-841d-373cefcbbecc",
   "metadata": {},
   "source": [
    "Both of these features are measured based on the tailpipe CO2 value. \n",
    "We just need the values is assigned for these 2 features if there's a proper tailpipe CO2 value in the recording"
   ]
  },
  {
   "cell_type": "markdown",
   "id": "329c7e3a-869c-4040-937a-12f35a8bfdf2",
   "metadata": {},
   "source": [
    "#### GHG Score Check"
   ]
  },
  {
   "cell_type": "code",
   "execution_count": 1225,
   "id": "6bbfac5c-1a52-44ae-bc21-38a76e89f8e7",
   "metadata": {},
   "outputs": [
    {
     "data": {
      "text/plain": [
       "1"
      ]
     },
     "execution_count": 1225,
     "metadata": {},
     "output_type": "execute_result"
    }
   ],
   "source": [
    "df_tailpipe = df_filtered[df_filtered['Tailpipe CO2 (FT1)'] >0 ]\n",
    "df_tailpipe[df_tailpipe['GHG Score']<=0].shape[0]"
   ]
  },
  {
   "cell_type": "markdown",
   "id": "078d0c8a-8761-4bd1-ac48-41f2a8846af7",
   "metadata": {},
   "source": [
    "We have one data that is not correct. We just need to remove it from our dataset to reduce our effort to check this data again later "
   ]
  },
  {
   "cell_type": "code",
   "execution_count": 1226,
   "id": "b41ba5a1-99a0-417e-9fd0-3fd6a0e05d3b",
   "metadata": {},
   "outputs": [
    {
     "data": {
      "text/html": [
       "<div>\n",
       "<style scoped>\n",
       "    .dataframe tbody tr th:only-of-type {\n",
       "        vertical-align: middle;\n",
       "    }\n",
       "\n",
       "    .dataframe tbody tr th {\n",
       "        vertical-align: top;\n",
       "    }\n",
       "\n",
       "    .dataframe thead th {\n",
       "        text-align: right;\n",
       "    }\n",
       "</style>\n",
       "<table border=\"1\" class=\"dataframe\">\n",
       "  <thead>\n",
       "    <tr style=\"text-align: right;\">\n",
       "      <th></th>\n",
       "      <th>Year</th>\n",
       "      <th>Make</th>\n",
       "      <th>Class</th>\n",
       "      <th>Drive</th>\n",
       "      <th>Transmission</th>\n",
       "      <th>Engine Index</th>\n",
       "      <th>Engine Cylinders</th>\n",
       "      <th>Engine Displacement</th>\n",
       "      <th>Turbocharger</th>\n",
       "      <th>Supercharger</th>\n",
       "      <th>Fuel Type</th>\n",
       "      <th>Fuel Type 1</th>\n",
       "      <th>Fuel Type 2</th>\n",
       "      <th>City MPG (FT1)</th>\n",
       "      <th>City MPG (FT2)</th>\n",
       "      <th>City Gasoline Consumption (CD)</th>\n",
       "      <th>City Electricity Consumption</th>\n",
       "      <th>Highway MPG (FT1)</th>\n",
       "      <th>Highway MPG (FT2)</th>\n",
       "      <th>Highway Gasoline Consumption (CD)</th>\n",
       "      <th>Highway Electricity Consumption</th>\n",
       "      <th>Combined MPG (FT1)</th>\n",
       "      <th>Combined MPG (FT2)</th>\n",
       "      <th>Combined Electricity Consumption</th>\n",
       "      <th>Combined Gasoline Consumption (CD)</th>\n",
       "      <th>Annual Fuel Cost (FT1)</th>\n",
       "      <th>Annual Fuel Cost (FT2)</th>\n",
       "      <th>Gas Guzzler Tax</th>\n",
       "      <th>Annual Consumption in Barrels (FT1)</th>\n",
       "      <th>Annual Consumption in Barrels (FT2)</th>\n",
       "      <th>Tailpipe CO2 (FT1)</th>\n",
       "      <th>Tailpipe CO2 (FT2)</th>\n",
       "      <th>Fuel Economy Score</th>\n",
       "      <th>GHG Score</th>\n",
       "      <th>GHG Score (Alt Fuel)</th>\n",
       "    </tr>\n",
       "  </thead>\n",
       "  <tbody>\n",
       "    <tr>\n",
       "      <th>30717</th>\n",
       "      <td>2012</td>\n",
       "      <td>Toyota</td>\n",
       "      <td>Midsize Cars</td>\n",
       "      <td>Front-Wheel Drive</td>\n",
       "      <td>Automatic (variable gear ratios)</td>\n",
       "      <td>85</td>\n",
       "      <td>4.0</td>\n",
       "      <td>1.8</td>\n",
       "      <td>0.0</td>\n",
       "      <td>0.0</td>\n",
       "      <td>Regular Gas and Electricity</td>\n",
       "      <td>Regular Gasoline</td>\n",
       "      <td>Electricity</td>\n",
       "      <td>51</td>\n",
       "      <td>90</td>\n",
       "      <td>0.35</td>\n",
       "      <td>26.0</td>\n",
       "      <td>49</td>\n",
       "      <td>102</td>\n",
       "      <td>0.0</td>\n",
       "      <td>33.0</td>\n",
       "      <td>50</td>\n",
       "      <td>95</td>\n",
       "      <td>29.0</td>\n",
       "      <td>0.1907</td>\n",
       "      <td>700</td>\n",
       "      <td>0</td>\n",
       "      <td>Not Applicable</td>\n",
       "      <td>4.744612</td>\n",
       "      <td>3.469579</td>\n",
       "      <td>133</td>\n",
       "      <td>-1</td>\n",
       "      <td>-1</td>\n",
       "      <td>-1</td>\n",
       "      <td>-1</td>\n",
       "    </tr>\n",
       "  </tbody>\n",
       "</table>\n",
       "</div>"
      ],
      "text/plain": [
       "       Year    Make         Class              Drive  \\\n",
       "30717  2012  Toyota  Midsize Cars  Front-Wheel Drive   \n",
       "\n",
       "                           Transmission  Engine Index Engine Cylinders  \\\n",
       "30717  Automatic (variable gear ratios)            85              4.0   \n",
       "\n",
       "      Engine Displacement  Turbocharger  Supercharger  \\\n",
       "30717                 1.8           0.0           0.0   \n",
       "\n",
       "                         Fuel Type       Fuel Type 1  Fuel Type 2  \\\n",
       "30717  Regular Gas and Electricity  Regular Gasoline  Electricity   \n",
       "\n",
       "       City MPG (FT1)  City MPG (FT2)  City Gasoline Consumption (CD)  \\\n",
       "30717              51              90                            0.35   \n",
       "\n",
       "       City Electricity Consumption  Highway MPG (FT1)  Highway MPG (FT2)  \\\n",
       "30717                          26.0                 49                102   \n",
       "\n",
       "       Highway Gasoline Consumption (CD)  Highway Electricity Consumption  \\\n",
       "30717                                0.0                             33.0   \n",
       "\n",
       "       Combined MPG (FT1)  Combined MPG (FT2)  \\\n",
       "30717                  50                  95   \n",
       "\n",
       "       Combined Electricity Consumption  Combined Gasoline Consumption (CD)  \\\n",
       "30717                              29.0                              0.1907   \n",
       "\n",
       "       Annual Fuel Cost (FT1)  Annual Fuel Cost (FT2) Gas Guzzler Tax  \\\n",
       "30717                     700                       0  Not Applicable   \n",
       "\n",
       "       Annual Consumption in Barrels (FT1)  \\\n",
       "30717                             4.744612   \n",
       "\n",
       "       Annual Consumption in Barrels (FT2)  Tailpipe CO2 (FT1)  \\\n",
       "30717                             3.469579                 133   \n",
       "\n",
       "       Tailpipe CO2 (FT2)  Fuel Economy Score  GHG Score  GHG Score (Alt Fuel)  \n",
       "30717                  -1                  -1         -1                    -1  "
      ]
     },
     "execution_count": 1226,
     "metadata": {},
     "output_type": "execute_result"
    }
   ],
   "source": [
    "df_tailpipe[df_tailpipe['GHG Score']<=0]"
   ]
  },
  {
   "cell_type": "code",
   "execution_count": 1227,
   "id": "79b4cc80-2e83-4aa5-b63a-8a5789503cf2",
   "metadata": {},
   "outputs": [
    {
     "name": "stdout",
     "output_type": "stream",
     "text": [
      "Total data Removed: 1215 out of 38113\n",
      "Remaining Data: 36898\n",
      "Percentage Data that are still retained: 96.81211135308162\n"
     ]
    }
   ],
   "source": [
    "df_filtered.drop(df_tailpipe[df_tailpipe['GHG Score']<=0].index,axis=0,inplace=True)\n",
    "data_statistics()"
   ]
  },
  {
   "cell_type": "markdown",
   "id": "ef63e547-a8bd-4aaa-817d-c8706ab8d6ec",
   "metadata": {},
   "source": [
    "Now we check the GHG Alt Score. By right there should be a score if there are Tailpipe CO2 (FT2) score"
   ]
  },
  {
   "cell_type": "code",
   "execution_count": 1228,
   "id": "e4773e81-43cf-4ccf-b71d-e6069e07d520",
   "metadata": {},
   "outputs": [
    {
     "data": {
      "text/plain": [
       "0"
      ]
     },
     "execution_count": 1228,
     "metadata": {},
     "output_type": "execute_result"
    }
   ],
   "source": [
    "df_tailpipe = df_filtered[df_filtered['Tailpipe CO2 (FT2)'] >0 ]\n",
    "df_tailpipe[df_tailpipe['GHG Score (Alt Fuel)']<=0].shape[0]"
   ]
  },
  {
   "cell_type": "markdown",
   "id": "be47a457-1f8b-4de6-b54e-d1ad00b3064a",
   "metadata": {},
   "source": [
    "For the Alt score, the data looks OK, hence we don't need to do anything in here :)"
   ]
  },
  {
   "cell_type": "markdown",
   "id": "144cfcd1-4c66-4cf5-93c2-22e192439c93",
   "metadata": {},
   "source": [
    "#### Fuel Economy score"
   ]
  },
  {
   "cell_type": "markdown",
   "id": "ab4b1ebb-5b30-4dbb-b523-87003368f1cc",
   "metadata": {},
   "source": [
    "We will do the same check as GHG since this feature also dependent on the Tailpipe CO2 score"
   ]
  },
  {
   "cell_type": "code",
   "execution_count": 1229,
   "id": "3cf3c097-3088-404d-b44f-716aea05131e",
   "metadata": {},
   "outputs": [
    {
     "data": {
      "text/plain": [
       "0"
      ]
     },
     "execution_count": 1229,
     "metadata": {},
     "output_type": "execute_result"
    }
   ],
   "source": [
    "df_tailpipe = df_filtered[df_filtered['Tailpipe CO2 (FT1)'] >0 ]\n",
    "df_tailpipe[df_tailpipe['Fuel Economy Score']<=0].shape[0]"
   ]
  },
  {
   "cell_type": "markdown",
   "id": "cea39338-942b-496b-b0bf-e42586d6dd21",
   "metadata": {},
   "source": [
    "The data looks good for this feature hence we don't need to do anything in here"
   ]
  },
  {
   "cell_type": "markdown",
   "id": "44ea8b11-075d-4970-8e26-a23a3c42f2d0",
   "metadata": {},
   "source": [
    "# 5 End result"
   ]
  },
  {
   "cell_type": "markdown",
   "id": "e6fabe9e-9044-4a5d-bae9-3a78071c9121",
   "metadata": {},
   "source": [
    "Here are statistics of the data that we can use to create our model in here"
   ]
  },
  {
   "cell_type": "code",
   "execution_count": 1230,
   "id": "e33a3ddb-e3db-4e3a-8cb3-0fb0b61c25a1",
   "metadata": {},
   "outputs": [
    {
     "name": "stdout",
     "output_type": "stream",
     "text": [
      "Total data Removed: 1215 out of 38113\n",
      "Remaining Data: 36898\n",
      "Percentage Data that are still retained: 96.81211135308162\n"
     ]
    }
   ],
   "source": [
    "data_statistics()"
   ]
  },
  {
   "cell_type": "markdown",
   "id": "07210b04-a389-448f-9150-5322d6ab7263",
   "metadata": {},
   "source": [
    "At the end we can retain 96.8 percent of our data. But when we create a model to predict the Tailpipe CO2 of the car, we only able to use 6007 data since the Tailpipe CO2 recording is not complete for the rest 30892 data."
   ]
  },
  {
   "cell_type": "code",
   "execution_count": 1231,
   "id": "834020ad-cce0-46bd-b193-09a652b4ae00",
   "metadata": {},
   "outputs": [],
   "source": [
    "#Export data to new CSV\n",
    "df_filtered.to_csv('./Datasets/database_cleaned.csv',index=False)"
   ]
  },
  {
   "cell_type": "code",
   "execution_count": 1232,
   "id": "72bb1393-b772-41e6-9510-9b29a109972d",
   "metadata": {},
   "outputs": [
    {
     "name": "stdout",
     "output_type": "stream",
     "text": [
      "<class 'pandas.core.frame.DataFrame'>\n",
      "RangeIndex: 36898 entries, 0 to 36897\n",
      "Data columns (total 35 columns):\n",
      " #   Column                               Non-Null Count  Dtype  \n",
      "---  ------                               --------------  -----  \n",
      " 0   Year                                 36898 non-null  int64  \n",
      " 1   Make                                 36898 non-null  object \n",
      " 2   Class                                36898 non-null  object \n",
      " 3   Drive                                36898 non-null  object \n",
      " 4   Transmission                         36898 non-null  object \n",
      " 5   Engine Index                         36898 non-null  int64  \n",
      " 6   Engine Cylinders                     36898 non-null  object \n",
      " 7   Engine Displacement                  36898 non-null  object \n",
      " 8   Turbocharger                         36898 non-null  float64\n",
      " 9   Supercharger                         36898 non-null  float64\n",
      " 10  Fuel Type                            36898 non-null  object \n",
      " 11  Fuel Type 1                          36898 non-null  object \n",
      " 12  Fuel Type 2                          36898 non-null  object \n",
      " 13  City MPG (FT1)                       36898 non-null  int64  \n",
      " 14  City MPG (FT2)                       36898 non-null  int64  \n",
      " 15  City Gasoline Consumption (CD)       36898 non-null  float64\n",
      " 16  City Electricity Consumption         36898 non-null  float64\n",
      " 17  Highway MPG (FT1)                    36898 non-null  int64  \n",
      " 18  Highway MPG (FT2)                    36898 non-null  int64  \n",
      " 19  Highway Gasoline Consumption (CD)    36898 non-null  float64\n",
      " 20  Highway Electricity Consumption      36898 non-null  float64\n",
      " 21  Combined MPG (FT1)                   36898 non-null  int64  \n",
      " 22  Combined MPG (FT2)                   36898 non-null  int64  \n",
      " 23  Combined Electricity Consumption     36898 non-null  float64\n",
      " 24  Combined Gasoline Consumption (CD)   36898 non-null  float64\n",
      " 25  Annual Fuel Cost (FT1)               36898 non-null  int64  \n",
      " 26  Annual Fuel Cost (FT2)               36898 non-null  int64  \n",
      " 27  Gas Guzzler Tax                      36898 non-null  object \n",
      " 28  Annual Consumption in Barrels (FT1)  36898 non-null  float64\n",
      " 29  Annual Consumption in Barrels (FT2)  36898 non-null  float64\n",
      " 30  Tailpipe CO2 (FT1)                   36898 non-null  int64  \n",
      " 31  Tailpipe CO2 (FT2)                   36898 non-null  int64  \n",
      " 32  Fuel Economy Score                   36898 non-null  int64  \n",
      " 33  GHG Score                            36898 non-null  int64  \n",
      " 34  GHG Score (Alt Fuel)                 36898 non-null  int64  \n",
      "dtypes: float64(10), int64(15), object(10)\n",
      "memory usage: 9.9+ MB\n"
     ]
    }
   ],
   "source": [
    "df_test_load_csv = pd.read_csv('./Datasets/database_cleaned.csv')\n",
    "df_test_load_csv.info()"
   ]
  },
  {
   "cell_type": "code",
   "execution_count": 1233,
   "id": "5e484818-baef-4a21-8ad8-3e32e51beeaa",
   "metadata": {},
   "outputs": [
    {
     "data": {
      "text/plain": [
       "Year                                   0\n",
       "Make                                   0\n",
       "Class                                  0\n",
       "Drive                                  0\n",
       "Transmission                           0\n",
       "Engine Index                           0\n",
       "Engine Cylinders                       0\n",
       "Engine Displacement                    0\n",
       "Turbocharger                           0\n",
       "Supercharger                           0\n",
       "Fuel Type                              0\n",
       "Fuel Type 1                            0\n",
       "Fuel Type 2                            0\n",
       "City MPG (FT1)                         0\n",
       "City MPG (FT2)                         0\n",
       "City Gasoline Consumption (CD)         0\n",
       "City Electricity Consumption           0\n",
       "Highway MPG (FT1)                      0\n",
       "Highway MPG (FT2)                      0\n",
       "Highway Gasoline Consumption (CD)      0\n",
       "Highway Electricity Consumption        0\n",
       "Combined MPG (FT1)                     0\n",
       "Combined MPG (FT2)                     0\n",
       "Combined Electricity Consumption       0\n",
       "Combined Gasoline Consumption (CD)     0\n",
       "Annual Fuel Cost (FT1)                 0\n",
       "Annual Fuel Cost (FT2)                 0\n",
       "Gas Guzzler Tax                        0\n",
       "Annual Consumption in Barrels (FT1)    0\n",
       "Annual Consumption in Barrels (FT2)    0\n",
       "Tailpipe CO2 (FT1)                     0\n",
       "Tailpipe CO2 (FT2)                     0\n",
       "Fuel Economy Score                     0\n",
       "GHG Score                              0\n",
       "GHG Score (Alt Fuel)                   0\n",
       "dtype: int64"
      ]
     },
     "execution_count": 1233,
     "metadata": {},
     "output_type": "execute_result"
    }
   ],
   "source": [
    "df_test_load_csv.isna().sum()"
   ]
  },
  {
   "cell_type": "markdown",
   "id": "511a2c82-9a23-48e2-87a2-82cfc4536da1",
   "metadata": {},
   "source": [
    "# 6 Correlation"
   ]
  },
  {
   "cell_type": "markdown",
   "id": "26f7a097-8c19-458d-92ec-589a51e611f6",
   "metadata": {},
   "source": [
    "Pick all the feature that related to our response variable"
   ]
  },
  {
   "cell_type": "code",
   "execution_count": 1234,
   "id": "7a6aff53-5333-4b42-aeba-b306d8ac8f14",
   "metadata": {},
   "outputs": [],
   "source": [
    "resp_features = ['City MPG (FT1)','City MPG (FT2)','Highway MPG (FT1)','Highway MPG (FT2)','Combined MPG (FT1)','Combined MPG (FT2)', \n",
    "                 'City Electricity Consumption','Highway Electricity Consumption','Combined Electricity Consumption',\n",
    "                 'Annual Fuel Cost (FT1)','Annual Fuel Cost (FT2)','Annual Consumption in Barrels (FT1)','Annual Consumption in Barrels (FT2)',\n",
    "                 'Tailpipe CO2 (FT1)','Tailpipe CO2 (FT2)']"
   ]
  },
  {
   "cell_type": "markdown",
   "id": "b687987d-7e86-4116-99ff-b6e8d0a17867",
   "metadata": {},
   "source": [
    "Check for unique value for each features that is not part of our response variable and in object data types"
   ]
  },
  {
   "cell_type": "code",
   "execution_count": 1260,
   "id": "a7c0dd44-3859-4bc5-ba49-fac81e6a7d82",
   "metadata": {},
   "outputs": [
    {
     "name": "stdout",
     "output_type": "stream",
     "text": [
      "Make:\n",
      "['AM General' 'American Motors Corporation' 'Buick' 'Cadillac' 'Chevrolet'\n",
      " 'Dodge' 'Ford' 'GMC' 'Grumman Olson' 'Import Foreign Auto Sales Inc'\n",
      " 'Isuzu' 'Jeep' 'Mazda' 'Mitsubishi' 'Nissan' 'Plymouth'\n",
      " 'S and S Coach Company  E.p. Dutton' 'Subaru'\n",
      " 'Superior Coaches Div E.p. Dutton' 'Suzuki' 'Toyota' 'Volkswagen'\n",
      " 'Alfa Romeo' 'Aston Martin' 'Audi' 'Bertone'\n",
      " 'Bill Dovell Motor Car Company' 'BMW' 'Chrysler' 'E. P. Dutton, Inc.'\n",
      " 'Ferrari' 'Honda' 'Jaguar' 'Lincoln' 'Lotus' 'Maserati' 'Mercedes-Benz'\n",
      " 'Mercury' 'Merkur' 'Oldsmobile' 'Peugeot' 'Pininfarina' 'Pontiac'\n",
      " 'Porsche' 'Renault' 'Rolls-Royce' 'Saab' 'TVR Engineering Ltd' 'Volvo'\n",
      " 'Acura' 'Autokraft Limited' 'Bitter Gmbh and Co. Kg' 'Hyundai'\n",
      " 'Lambda Control Systems' 'Lamborghini' 'London Coach Co Inc'\n",
      " 'Panther Car Company Limited' 'Texas Coach Company' 'Vixen Motor Company'\n",
      " 'Volga Associated Automobile' 'Yugo' 'ASC Incorporated' 'CCC Engineering'\n",
      " 'CX Automotive' 'Excalibur Autos' 'Land Rover' 'Mcevoy Motors'\n",
      " 'Red Shift Ltd.' 'Ruf Automobile Gmbh' 'Sterling' 'Aurora Cars Ltd'\n",
      " 'Dacia' 'Daihatsu' 'Eagle' 'Grumman Allied Industries'\n",
      " 'JBA Motorcars, Inc.' 'Environmental Rsch and Devp Corp'\n",
      " 'Evans Automobiles' 'General Motors' 'Geo' 'Laforza Automobile Inc'\n",
      " 'Saleen' 'Consulier Industries Inc' 'Infiniti' 'Lexus' 'Goldacre'\n",
      " 'Import Trade Services' 'J.K. Motors' 'PAS, Inc' 'Saturn'\n",
      " 'Wallace Environmental' 'Isis Imports Ltd' 'PAS Inc - GMC' 'Vector' 'Kia'\n",
      " 'Panos' 'Dabryan Coach Builders Inc' 'Federal Coach'\n",
      " 'Panoz Auto-Development' 'Bentley' 'Daewoo' 'Quantum Technologies'\n",
      " 'Qvale' 'Roush Performance' 'MINI' 'Morgan' 'BMW Alpina' 'London Taxi'\n",
      " 'Maybach' 'Scion' 'Spyker' 'Bugatti' 'Hummer' 'Saleen Performance'\n",
      " 'Shelby' 'smart' 'Tecstar, LP' 'Mahindra' 'VPG' 'Azure Dynamics' 'BYD'\n",
      " 'CODA Automotive' 'Fiat' 'McLaren Automotive' 'Ram' 'Tesla' 'SRT'\n",
      " 'Mobility Ventures LLC' 'Pagani' 'Genesis']\n",
      "\n",
      "Class:\n",
      "['Special Purpose Vehicle 2WD' 'Special Purpose Vehicle 4WD' 'Large Cars'\n",
      " 'Standard Pickup Trucks 2WD' 'Vans, Passenger Type' 'Vans, Cargo Type'\n",
      " 'Standard Pickup Trucks 4WD' 'Special Purpose Vehicles'\n",
      " 'Small Pickup Trucks 2WD' 'Small Pickup Trucks 4WD' 'Minicompact Cars'\n",
      " 'Two Seaters' 'Subcompact Cars' 'Midsize Cars'\n",
      " 'Midsize-Large Station Wagons' 'Compact Cars' 'Small Station Wagons'\n",
      " 'Vans' 'Standard Pickup Trucks' 'Small Pickup Trucks' 'Vans Passenger'\n",
      " 'Standard Pickup Trucks/2wd' 'Special Purpose Vehicles/2wd'\n",
      " 'Special Purpose Vehicles/4wd' 'Midsize Station Wagons'\n",
      " 'Sport Utility Vehicle - 4WD' 'Sport Utility Vehicle - 2WD'\n",
      " 'Minivan - 2WD' 'Minivan - 4WD' 'Special Purpose Vehicle'\n",
      " 'Small Sport Utility Vehicle 4WD' 'Small Sport Utility Vehicle 2WD'\n",
      " 'Standard Sport Utility Vehicle 4WD' 'Standard Sport Utility Vehicle 2WD']\n",
      "\n",
      "Drive:\n",
      "['2-Wheel Drive' '4-Wheel or All-Wheel Drive' 'Rear-Wheel Drive'\n",
      " 'Front-Wheel Drive' '4-Wheel Drive' 'All-Wheel Drive'\n",
      " 'Part-time 4-Wheel Drive']\n",
      "\n",
      "Transmission:\n",
      "['Automatic 3-Speed' 'Manual 4-Speed' 'Manual 5-Speed' 'Automatic 4-Speed'\n",
      " 'Manual 3-Speed' 'Automatic (S4)' 'Manual 5 Speed' 'Manual 6-Speed'\n",
      " 'Automatic (variable gear ratios)' 'Automatic 5-Speed' 'Automatic (S5)'\n",
      " 'Auto(L4)' 'Auto(L3)' 'Automatic (A1)' 'Automatic 6-Speed'\n",
      " 'Automatic (S6)' 'Not Applicable' 'Automatic 7-Speed' 'Automatic (S7)'\n",
      " 'Automatic (S8)' 'Automatic (AV)' 'Auto(AM7)' 'Automatic (AM5)'\n",
      " 'Auto(AM6)' 'Automatic (AM6)' 'Automatic (A6)' 'Auto(AV-S7)'\n",
      " 'Manual 7-Speed' 'Auto (AV-S6)' 'Auto (AV-S8)' 'Automatic (AV-S6)'\n",
      " 'Auto(AV-S6)' 'Auto(AM5)' 'Auto(AV-S8)' 'Automatic 8-Speed' 'Auto(AM-S6)'\n",
      " 'Auto(AM-S7)' 'Automatic 6Speed' 'Automatic 9-Speed' 'Automatic (S9)'\n",
      " 'Auto(AM-S8)' 'Auto(AM8)' 'Manual(M7)' 'Auto(AM-S9)' 'Automatic (S10)']\n",
      "\n",
      "Engine Cylinders:\n",
      "['4.0' '6.0' '8.0' '5.0' '3.0' '12.0' '2.0' '10.0' 'Not Applicable' '16.0']\n",
      "\n",
      "Engine Displacement:\n",
      "['2.5' '4.2' '4.1' '5.0' '5.7' '4.3' '6.2' '3.8' '2.0' '2.8' '2.2' '5.2'\n",
      " '5.9' '3.7' '2.6' '2.3' '4.9' '5.8' '1.6' '1.0' '2.4' '6.0' '1.8' '1.9'\n",
      " '5.3' '2.1' '1.5' '2.7' '3.4' '3.0' '2.9' '1.3' '1.1' '1.7' '1.4' '6.8'\n",
      " '3.9' '3.2' '5.6' '5.5' '3.3' '3.5' '4.0' '1.2' '4.5' '3.6' '3.1' '7.4'\n",
      " '4.6' '8.0' '5.4' '6.5' '4.7' '4.4' '6.7' 'Not Applicable' '4.8' '8.3'\n",
      " '6.1' '7.0' '8.4' '6.3' '6.6' '6.4' '0.0' '0.9']\n",
      "\n",
      "Fuel Type:\n",
      "['Regular' 'Diesel' 'Premium' 'CNG' 'Electricity'\n",
      " 'Gasoline or natural gas' 'Gasoline or E85' 'Gasoline or propane'\n",
      " 'Premium or E85' 'Midgrade' 'Regular Gas and Electricity'\n",
      " 'Premium and Electricity']\n",
      "\n",
      "Fuel Type 1:\n",
      "['Regular Gasoline' 'Diesel' 'Premium Gasoline' 'Natural Gas'\n",
      " 'Electricity' 'Midgrade Gasoline']\n",
      "\n",
      "Fuel Type 2:\n",
      "['Not Applicable' 'Natural Gas' 'E85' 'Propane' 'Electricity']\n",
      "\n",
      "Gas Guzzler Tax:\n",
      "['Not Applicable' 'T' 'G' 'S']\n",
      "\n"
     ]
    }
   ],
   "source": [
    "obj_features = []\n",
    "for i in df_test_load_csv.axes[1]:\n",
    "    if i not in resp_features and df_test_load_csv[i].dtypes == 'object':\n",
    "        obj_features.append(i)\n",
    "        print (f'{i}:\\n{df_test_load_csv[i].unique()}\\n')"
   ]
  },
  {
   "cell_type": "markdown",
   "id": "0561f575-2bf5-4514-a109-37a3aa398120",
   "metadata": {},
   "source": [
    "All these features listed above is categorial type and did not need an order (rank). We need to One hot encode all of it before we feed this data to our model. For now we just do ordinal encoding in order for us to spot the Correlation."
   ]
  },
  {
   "cell_type": "code",
   "execution_count": 1274,
   "id": "9209d178-fb82-4a27-9530-1740de1bd135",
   "metadata": {},
   "outputs": [],
   "source": [
    "from category_encoders import OrdinalEncoder"
   ]
  },
  {
   "cell_type": "code",
   "execution_count": 1276,
   "id": "b883e1bb-888a-4fa9-9888-c9be5507c0dc",
   "metadata": {},
   "outputs": [
    {
     "data": {
      "text/html": [
       "<div>\n",
       "<style scoped>\n",
       "    .dataframe tbody tr th:only-of-type {\n",
       "        vertical-align: middle;\n",
       "    }\n",
       "\n",
       "    .dataframe tbody tr th {\n",
       "        vertical-align: top;\n",
       "    }\n",
       "\n",
       "    .dataframe thead th {\n",
       "        text-align: right;\n",
       "    }\n",
       "</style>\n",
       "<table border=\"1\" class=\"dataframe\">\n",
       "  <thead>\n",
       "    <tr style=\"text-align: right;\">\n",
       "      <th></th>\n",
       "      <th>Year</th>\n",
       "      <th>Make</th>\n",
       "      <th>Class</th>\n",
       "      <th>Drive</th>\n",
       "      <th>Transmission</th>\n",
       "      <th>Engine Index</th>\n",
       "      <th>Engine Cylinders</th>\n",
       "      <th>Engine Displacement</th>\n",
       "      <th>Turbocharger</th>\n",
       "      <th>Supercharger</th>\n",
       "      <th>Fuel Type</th>\n",
       "      <th>Fuel Type 1</th>\n",
       "      <th>Fuel Type 2</th>\n",
       "      <th>City MPG (FT1)</th>\n",
       "      <th>City MPG (FT2)</th>\n",
       "      <th>City Gasoline Consumption (CD)</th>\n",
       "      <th>City Electricity Consumption</th>\n",
       "      <th>Highway MPG (FT1)</th>\n",
       "      <th>Highway MPG (FT2)</th>\n",
       "      <th>Highway Gasoline Consumption (CD)</th>\n",
       "      <th>Highway Electricity Consumption</th>\n",
       "      <th>Combined MPG (FT1)</th>\n",
       "      <th>Combined MPG (FT2)</th>\n",
       "      <th>Combined Electricity Consumption</th>\n",
       "      <th>Combined Gasoline Consumption (CD)</th>\n",
       "      <th>Annual Fuel Cost (FT1)</th>\n",
       "      <th>Annual Fuel Cost (FT2)</th>\n",
       "      <th>Gas Guzzler Tax</th>\n",
       "      <th>Annual Consumption in Barrels (FT1)</th>\n",
       "      <th>Annual Consumption in Barrels (FT2)</th>\n",
       "      <th>Tailpipe CO2 (FT1)</th>\n",
       "      <th>Tailpipe CO2 (FT2)</th>\n",
       "      <th>Fuel Economy Score</th>\n",
       "      <th>GHG Score</th>\n",
       "      <th>GHG Score (Alt Fuel)</th>\n",
       "    </tr>\n",
       "  </thead>\n",
       "  <tbody>\n",
       "    <tr>\n",
       "      <th>0</th>\n",
       "      <td>1984</td>\n",
       "      <td>1</td>\n",
       "      <td>1</td>\n",
       "      <td>1</td>\n",
       "      <td>1</td>\n",
       "      <td>1830</td>\n",
       "      <td>1</td>\n",
       "      <td>1</td>\n",
       "      <td>0.0</td>\n",
       "      <td>0.0</td>\n",
       "      <td>1</td>\n",
       "      <td>1</td>\n",
       "      <td>1</td>\n",
       "      <td>18</td>\n",
       "      <td>0</td>\n",
       "      <td>0.0</td>\n",
       "      <td>0.0</td>\n",
       "      <td>17</td>\n",
       "      <td>0</td>\n",
       "      <td>0.0</td>\n",
       "      <td>0.0</td>\n",
       "      <td>17</td>\n",
       "      <td>0</td>\n",
       "      <td>0.0</td>\n",
       "      <td>0.0</td>\n",
       "      <td>2050</td>\n",
       "      <td>0</td>\n",
       "      <td>1</td>\n",
       "      <td>19.388824</td>\n",
       "      <td>0.0</td>\n",
       "      <td>-1</td>\n",
       "      <td>-1</td>\n",
       "      <td>-1</td>\n",
       "      <td>-1</td>\n",
       "      <td>-1</td>\n",
       "    </tr>\n",
       "    <tr>\n",
       "      <th>1</th>\n",
       "      <td>1984</td>\n",
       "      <td>1</td>\n",
       "      <td>1</td>\n",
       "      <td>1</td>\n",
       "      <td>1</td>\n",
       "      <td>1880</td>\n",
       "      <td>1</td>\n",
       "      <td>1</td>\n",
       "      <td>0.0</td>\n",
       "      <td>0.0</td>\n",
       "      <td>1</td>\n",
       "      <td>1</td>\n",
       "      <td>1</td>\n",
       "      <td>18</td>\n",
       "      <td>0</td>\n",
       "      <td>0.0</td>\n",
       "      <td>0.0</td>\n",
       "      <td>17</td>\n",
       "      <td>0</td>\n",
       "      <td>0.0</td>\n",
       "      <td>0.0</td>\n",
       "      <td>17</td>\n",
       "      <td>0</td>\n",
       "      <td>0.0</td>\n",
       "      <td>0.0</td>\n",
       "      <td>2050</td>\n",
       "      <td>0</td>\n",
       "      <td>1</td>\n",
       "      <td>19.388824</td>\n",
       "      <td>0.0</td>\n",
       "      <td>-1</td>\n",
       "      <td>-1</td>\n",
       "      <td>-1</td>\n",
       "      <td>-1</td>\n",
       "      <td>-1</td>\n",
       "    </tr>\n",
       "    <tr>\n",
       "      <th>2</th>\n",
       "      <td>1984</td>\n",
       "      <td>1</td>\n",
       "      <td>1</td>\n",
       "      <td>1</td>\n",
       "      <td>1</td>\n",
       "      <td>1831</td>\n",
       "      <td>2</td>\n",
       "      <td>2</td>\n",
       "      <td>0.0</td>\n",
       "      <td>0.0</td>\n",
       "      <td>1</td>\n",
       "      <td>1</td>\n",
       "      <td>1</td>\n",
       "      <td>13</td>\n",
       "      <td>0</td>\n",
       "      <td>0.0</td>\n",
       "      <td>0.0</td>\n",
       "      <td>13</td>\n",
       "      <td>0</td>\n",
       "      <td>0.0</td>\n",
       "      <td>0.0</td>\n",
       "      <td>13</td>\n",
       "      <td>0</td>\n",
       "      <td>0.0</td>\n",
       "      <td>0.0</td>\n",
       "      <td>2700</td>\n",
       "      <td>0</td>\n",
       "      <td>1</td>\n",
       "      <td>25.354615</td>\n",
       "      <td>0.0</td>\n",
       "      <td>-1</td>\n",
       "      <td>-1</td>\n",
       "      <td>-1</td>\n",
       "      <td>-1</td>\n",
       "      <td>-1</td>\n",
       "    </tr>\n",
       "    <tr>\n",
       "      <th>3</th>\n",
       "      <td>1984</td>\n",
       "      <td>1</td>\n",
       "      <td>1</td>\n",
       "      <td>1</td>\n",
       "      <td>1</td>\n",
       "      <td>1881</td>\n",
       "      <td>2</td>\n",
       "      <td>2</td>\n",
       "      <td>0.0</td>\n",
       "      <td>0.0</td>\n",
       "      <td>1</td>\n",
       "      <td>1</td>\n",
       "      <td>1</td>\n",
       "      <td>13</td>\n",
       "      <td>0</td>\n",
       "      <td>0.0</td>\n",
       "      <td>0.0</td>\n",
       "      <td>13</td>\n",
       "      <td>0</td>\n",
       "      <td>0.0</td>\n",
       "      <td>0.0</td>\n",
       "      <td>13</td>\n",
       "      <td>0</td>\n",
       "      <td>0.0</td>\n",
       "      <td>0.0</td>\n",
       "      <td>2700</td>\n",
       "      <td>0</td>\n",
       "      <td>1</td>\n",
       "      <td>25.354615</td>\n",
       "      <td>0.0</td>\n",
       "      <td>-1</td>\n",
       "      <td>-1</td>\n",
       "      <td>-1</td>\n",
       "      <td>-1</td>\n",
       "      <td>-1</td>\n",
       "    </tr>\n",
       "    <tr>\n",
       "      <th>4</th>\n",
       "      <td>1984</td>\n",
       "      <td>2</td>\n",
       "      <td>2</td>\n",
       "      <td>2</td>\n",
       "      <td>1</td>\n",
       "      <td>1524</td>\n",
       "      <td>2</td>\n",
       "      <td>2</td>\n",
       "      <td>0.0</td>\n",
       "      <td>0.0</td>\n",
       "      <td>1</td>\n",
       "      <td>1</td>\n",
       "      <td>1</td>\n",
       "      <td>15</td>\n",
       "      <td>0</td>\n",
       "      <td>0.0</td>\n",
       "      <td>0.0</td>\n",
       "      <td>20</td>\n",
       "      <td>0</td>\n",
       "      <td>0.0</td>\n",
       "      <td>0.0</td>\n",
       "      <td>17</td>\n",
       "      <td>0</td>\n",
       "      <td>0.0</td>\n",
       "      <td>0.0</td>\n",
       "      <td>2050</td>\n",
       "      <td>0</td>\n",
       "      <td>1</td>\n",
       "      <td>19.388824</td>\n",
       "      <td>0.0</td>\n",
       "      <td>-1</td>\n",
       "      <td>-1</td>\n",
       "      <td>-1</td>\n",
       "      <td>-1</td>\n",
       "      <td>-1</td>\n",
       "    </tr>\n",
       "  </tbody>\n",
       "</table>\n",
       "</div>"
      ],
      "text/plain": [
       "   Year  Make  Class  Drive  Transmission  Engine Index  Engine Cylinders  \\\n",
       "0  1984     1      1      1             1          1830                 1   \n",
       "1  1984     1      1      1             1          1880                 1   \n",
       "2  1984     1      1      1             1          1831                 2   \n",
       "3  1984     1      1      1             1          1881                 2   \n",
       "4  1984     2      2      2             1          1524                 2   \n",
       "\n",
       "   Engine Displacement  Turbocharger  Supercharger  Fuel Type  Fuel Type 1  \\\n",
       "0                    1           0.0           0.0          1            1   \n",
       "1                    1           0.0           0.0          1            1   \n",
       "2                    2           0.0           0.0          1            1   \n",
       "3                    2           0.0           0.0          1            1   \n",
       "4                    2           0.0           0.0          1            1   \n",
       "\n",
       "   Fuel Type 2  City MPG (FT1)  City MPG (FT2)  \\\n",
       "0            1              18               0   \n",
       "1            1              18               0   \n",
       "2            1              13               0   \n",
       "3            1              13               0   \n",
       "4            1              15               0   \n",
       "\n",
       "   City Gasoline Consumption (CD)  City Electricity Consumption  \\\n",
       "0                             0.0                           0.0   \n",
       "1                             0.0                           0.0   \n",
       "2                             0.0                           0.0   \n",
       "3                             0.0                           0.0   \n",
       "4                             0.0                           0.0   \n",
       "\n",
       "   Highway MPG (FT1)  Highway MPG (FT2)  Highway Gasoline Consumption (CD)  \\\n",
       "0                 17                  0                                0.0   \n",
       "1                 17                  0                                0.0   \n",
       "2                 13                  0                                0.0   \n",
       "3                 13                  0                                0.0   \n",
       "4                 20                  0                                0.0   \n",
       "\n",
       "   Highway Electricity Consumption  Combined MPG (FT1)  Combined MPG (FT2)  \\\n",
       "0                              0.0                  17                   0   \n",
       "1                              0.0                  17                   0   \n",
       "2                              0.0                  13                   0   \n",
       "3                              0.0                  13                   0   \n",
       "4                              0.0                  17                   0   \n",
       "\n",
       "   Combined Electricity Consumption  Combined Gasoline Consumption (CD)  \\\n",
       "0                               0.0                                 0.0   \n",
       "1                               0.0                                 0.0   \n",
       "2                               0.0                                 0.0   \n",
       "3                               0.0                                 0.0   \n",
       "4                               0.0                                 0.0   \n",
       "\n",
       "   Annual Fuel Cost (FT1)  Annual Fuel Cost (FT2)  Gas Guzzler Tax  \\\n",
       "0                    2050                       0                1   \n",
       "1                    2050                       0                1   \n",
       "2                    2700                       0                1   \n",
       "3                    2700                       0                1   \n",
       "4                    2050                       0                1   \n",
       "\n",
       "   Annual Consumption in Barrels (FT1)  Annual Consumption in Barrels (FT2)  \\\n",
       "0                            19.388824                                  0.0   \n",
       "1                            19.388824                                  0.0   \n",
       "2                            25.354615                                  0.0   \n",
       "3                            25.354615                                  0.0   \n",
       "4                            19.388824                                  0.0   \n",
       "\n",
       "   Tailpipe CO2 (FT1)  Tailpipe CO2 (FT2)  Fuel Economy Score  GHG Score  \\\n",
       "0                  -1                  -1                  -1         -1   \n",
       "1                  -1                  -1                  -1         -1   \n",
       "2                  -1                  -1                  -1         -1   \n",
       "3                  -1                  -1                  -1         -1   \n",
       "4                  -1                  -1                  -1         -1   \n",
       "\n",
       "   GHG Score (Alt Fuel)  \n",
       "0                    -1  \n",
       "1                    -1  \n",
       "2                    -1  \n",
       "3                    -1  \n",
       "4                    -1  "
      ]
     },
     "execution_count": 1276,
     "metadata": {},
     "output_type": "execute_result"
    }
   ],
   "source": [
    "encoder = OrdinalEncoder(cols = obj_features,return_df = True)\n",
    "df_encoded = encoder.fit_transform(df_test_load_csv)\n",
    "df_encoded.head()"
   ]
  },
  {
   "cell_type": "code",
   "execution_count": 1286,
   "id": "e69fd5a9-1591-4444-91d0-a2178d66bfe6",
   "metadata": {},
   "outputs": [
    {
     "data": {
      "text/plain": [
       "<AxesSubplot:>"
      ]
     },
     "execution_count": 1286,
     "metadata": {},
     "output_type": "execute_result"
    },
    {
     "data": {
      "image/png": "[encoded data removed]",
      "text/plain": [
       "<Figure size 1080x1080 with 2 Axes>"
      ]
     },
     "metadata": {
      "needs_background": "light"
     },
     "output_type": "display_data"
    }
   ],
   "source": [
    "#Get Correlation for response Variable\n",
    "df_corr = df_encoded.corr()[resp_features]\n",
    "\n",
    "fig,ax = plt.subplots(figsize=(15,15))\n",
    "sns.heatmap(df_corr,ax=ax,annot=True)\n",
    "    \n"
   ]
  },
  {
   "cell_type": "code",
   "execution_count": 1296,
   "id": "3e4eb758-ac4e-40d4-938e-31a16f0eb7f2",
   "metadata": {},
   "outputs": [
    {
     "name": "stdout",
     "output_type": "stream",
     "text": [
      "City MPG (FT1):\n",
      "Index(['City MPG (FT1)', 'Combined MPG (FT1)', 'Highway MPG (FT1)',\n",
      "       'Annual Consumption in Barrels (FT1)', 'Annual Fuel Cost (FT1)'],\n",
      "      dtype='object')\n",
      "\n",
      "City MPG (FT2):\n",
      "Index(['City MPG (FT2)', 'Combined MPG (FT2)', 'Highway MPG (FT2)',\n",
      "       'Fuel Type 2', 'Annual Consumption in Barrels (FT2)'],\n",
      "      dtype='object')\n",
      "\n",
      "Highway MPG (FT1):\n",
      "Index(['Highway MPG (FT1)', 'Combined MPG (FT1)', 'City MPG (FT1)',\n",
      "       'Annual Consumption in Barrels (FT1)', 'Annual Fuel Cost (FT1)'],\n",
      "      dtype='object')\n",
      "\n",
      "Highway MPG (FT2):\n",
      "Index(['Highway MPG (FT2)', 'Combined MPG (FT2)', 'City MPG (FT2)',\n",
      "       'Fuel Type 2', 'Annual Consumption in Barrels (FT2)'],\n",
      "      dtype='object')\n",
      "\n",
      "Combined MPG (FT1):\n",
      "Index(['Combined MPG (FT1)', 'City MPG (FT1)', 'Highway MPG (FT1)',\n",
      "       'Annual Consumption in Barrels (FT1)', 'Annual Fuel Cost (FT1)'],\n",
      "      dtype='object')\n",
      "\n",
      "Combined MPG (FT2):\n",
      "Index(['Combined MPG (FT2)', 'City MPG (FT2)', 'Highway MPG (FT2)',\n",
      "       'Fuel Type 2', 'Annual Consumption in Barrels (FT2)'],\n",
      "      dtype='object')\n",
      "\n",
      "City Electricity Consumption:\n",
      "Index(['City Electricity Consumption', 'Combined Electricity Consumption',\n",
      "       'Highway Electricity Consumption', 'City MPG (FT1)',\n",
      "       'Combined MPG (FT1)'],\n",
      "      dtype='object')\n",
      "\n",
      "Highway Electricity Consumption:\n",
      "Index(['Highway Electricity Consumption', 'Combined Electricity Consumption',\n",
      "       'City Electricity Consumption', 'City MPG (FT1)', 'Combined MPG (FT1)'],\n",
      "      dtype='object')\n",
      "\n",
      "Combined Electricity Consumption:\n",
      "Index(['Combined Electricity Consumption', 'City Electricity Consumption',\n",
      "       'Highway Electricity Consumption', 'City MPG (FT1)',\n",
      "       'Combined MPG (FT1)'],\n",
      "      dtype='object')\n",
      "\n",
      "Annual Fuel Cost (FT1):\n",
      "Index(['Annual Fuel Cost (FT1)', 'Annual Consumption in Barrels (FT1)',\n",
      "       'Highway MPG (FT1)', 'Combined MPG (FT1)', 'City MPG (FT1)'],\n",
      "      dtype='object')\n",
      "\n",
      "Annual Fuel Cost (FT2):\n",
      "Index(['Annual Fuel Cost (FT2)', 'Annual Consumption in Barrels (FT2)',\n",
      "       'Fuel Type 2', 'Fuel Type', 'Highway MPG (FT2)'],\n",
      "      dtype='object')\n",
      "\n",
      "Annual Consumption in Barrels (FT1):\n",
      "Index(['Annual Consumption in Barrels (FT1)', 'Annual Fuel Cost (FT1)',\n",
      "       'Highway MPG (FT1)', 'Combined MPG (FT1)', 'City MPG (FT1)'],\n",
      "      dtype='object')\n",
      "\n",
      "Annual Consumption in Barrels (FT2):\n",
      "Index(['Annual Consumption in Barrels (FT2)', 'Annual Fuel Cost (FT2)',\n",
      "       'Fuel Type 2', 'Highway MPG (FT2)', 'Fuel Type'],\n",
      "      dtype='object')\n",
      "\n",
      "Tailpipe CO2 (FT1):\n",
      "Index(['Tailpipe CO2 (FT1)', 'Fuel Economy Score', 'GHG Score', 'Transmission',\n",
      "       'Year'],\n",
      "      dtype='object')\n",
      "\n",
      "Tailpipe CO2 (FT2):\n",
      "Index(['Tailpipe CO2 (FT2)', 'GHG Score (Alt Fuel)', 'Annual Fuel Cost (FT2)',\n",
      "       'Annual Consumption in Barrels (FT2)', 'Fuel Type 2'],\n",
      "      dtype='object')\n",
      "\n"
     ]
    }
   ],
   "source": [
    "# Get top 5 predictor with the highest correlation for each response variable\n",
    "for resp in resp_features:\n",
    "    df_corr_1 = df_corr[[resp]]\n",
    "    df_corr_1[resp] = np.abs(df_corr_1[resp])\n",
    "    print (f'{resp}:\\n{df_corr_1.sort_values(by=resp,ascending=False).index[:5]}\\n')"
   ]
  },
  {
   "cell_type": "markdown",
   "id": "7840d655-79a9-46fc-baa0-51661f301d57",
   "metadata": {},
   "source": [
    "# 7 Basic Analysis"
   ]
  },
  {
   "cell_type": "markdown",
   "id": "79e20d74-86cb-4625-a29d-4929fdac90d4",
   "metadata": {},
   "source": [
    "## 7.1 Top 5 Car Maker with highest MPG "
   ]
  },
  {
   "cell_type": "code",
   "execution_count": 1303,
   "id": "09717d9a-dd1d-4635-870a-3d069f5701ce",
   "metadata": {},
   "outputs": [
    {
     "data": {
      "text/html": [
       "<div>\n",
       "<style scoped>\n",
       "    .dataframe tbody tr th:only-of-type {\n",
       "        vertical-align: middle;\n",
       "    }\n",
       "\n",
       "    .dataframe tbody tr th {\n",
       "        vertical-align: top;\n",
       "    }\n",
       "\n",
       "    .dataframe thead th {\n",
       "        text-align: right;\n",
       "    }\n",
       "</style>\n",
       "<table border=\"1\" class=\"dataframe\">\n",
       "  <thead>\n",
       "    <tr style=\"text-align: right;\">\n",
       "      <th></th>\n",
       "      <th>Maker</th>\n",
       "      <th>Avg.MPG</th>\n",
       "    </tr>\n",
       "  </thead>\n",
       "  <tbody>\n",
       "    <tr>\n",
       "      <th>118</th>\n",
       "      <td>Tesla</td>\n",
       "      <td>94.452381</td>\n",
       "    </tr>\n",
       "    <tr>\n",
       "      <th>20</th>\n",
       "      <td>CODA Automotive</td>\n",
       "      <td>73.000000</td>\n",
       "    </tr>\n",
       "    <tr>\n",
       "      <th>12</th>\n",
       "      <td>BYD</td>\n",
       "      <td>65.000000</td>\n",
       "    </tr>\n",
       "    <tr>\n",
       "      <th>9</th>\n",
       "      <td>Azure Dynamics</td>\n",
       "      <td>62.000000</td>\n",
       "    </tr>\n",
       "    <tr>\n",
       "      <th>129</th>\n",
       "      <td>smart</td>\n",
       "      <td>56.656250</td>\n",
       "    </tr>\n",
       "  </tbody>\n",
       "</table>\n",
       "</div>"
      ],
      "text/plain": [
       "               Maker    Avg.MPG\n",
       "118            Tesla  94.452381\n",
       "20   CODA Automotive  73.000000\n",
       "12               BYD  65.000000\n",
       "9     Azure Dynamics  62.000000\n",
       "129            smart  56.656250"
      ]
     },
     "execution_count": 1303,
     "metadata": {},
     "output_type": "execute_result"
    }
   ],
   "source": [
    "df_avg_mpg = df_test_load_csv.groupby(['Make']).agg({'Combined MPG (FT1)' : 'mean'}).reset_index()\n",
    "df_avg_mpg.rename(columns={'Combined MPG (FT1)' : 'Avg.MPG','Make':'Maker'},inplace=True)\n",
    "df_avg_mpg.sort_values(by='Avg.MPG',ascending = False, inplace=True)\n",
    "df_avg_mpg.head()"
   ]
  },
  {
   "cell_type": "markdown",
   "id": "76ea6038-8254-411f-a86c-193c629c300a",
   "metadata": {},
   "source": [
    "## 7.1 Top 5 Car Maker with Lowest MPG "
   ]
  },
  {
   "cell_type": "code",
   "execution_count": 1304,
   "id": "3a67a38f-d190-4772-ab21-e4ae9662f173",
   "metadata": {},
   "outputs": [
    {
     "data": {
      "text/html": [
       "<div>\n",
       "<style scoped>\n",
       "    .dataframe tbody tr th:only-of-type {\n",
       "        vertical-align: middle;\n",
       "    }\n",
       "\n",
       "    .dataframe tbody tr th {\n",
       "        vertical-align: top;\n",
       "    }\n",
       "\n",
       "    .dataframe thead th {\n",
       "        text-align: right;\n",
       "    }\n",
       "</style>\n",
       "<table border=\"1\" class=\"dataframe\">\n",
       "  <thead>\n",
       "    <tr style=\"text-align: right;\">\n",
       "      <th></th>\n",
       "      <th>Maker</th>\n",
       "      <th>Avg.MPG</th>\n",
       "    </tr>\n",
       "  </thead>\n",
       "  <tbody>\n",
       "    <tr>\n",
       "      <th>122</th>\n",
       "      <td>Vector</td>\n",
       "      <td>8.5</td>\n",
       "    </tr>\n",
       "    <tr>\n",
       "      <th>114</th>\n",
       "      <td>Superior Coaches Div E.p. Dutton</td>\n",
       "      <td>10.0</td>\n",
       "    </tr>\n",
       "    <tr>\n",
       "      <th>103</th>\n",
       "      <td>S and S Coach Company  E.p. Dutton</td>\n",
       "      <td>10.0</td>\n",
       "    </tr>\n",
       "    <tr>\n",
       "      <th>17</th>\n",
       "      <td>Bugatti</td>\n",
       "      <td>10.0</td>\n",
       "    </tr>\n",
       "    <tr>\n",
       "      <th>60</th>\n",
       "      <td>Laforza Automobile Inc</td>\n",
       "      <td>11.0</td>\n",
       "    </tr>\n",
       "  </tbody>\n",
       "</table>\n",
       "</div>"
      ],
      "text/plain": [
       "                                  Maker  Avg.MPG\n",
       "122                              Vector      8.5\n",
       "114    Superior Coaches Div E.p. Dutton     10.0\n",
       "103  S and S Coach Company  E.p. Dutton     10.0\n",
       "17                              Bugatti     10.0\n",
       "60               Laforza Automobile Inc     11.0"
      ]
     },
     "execution_count": 1304,
     "metadata": {},
     "output_type": "execute_result"
    }
   ],
   "source": [
    "df_avg_mpg.sort_values(by='Avg.MPG',ascending = True, inplace=True)\n",
    "df_avg_mpg.head()"
   ]
  }
 ],
 "metadata": {
  "kernelspec": {
   "display_name": "Python 3 (ipykernel)",
   "language": "python",
   "name": "python3"
  },
  "language_info": {
   "codemirror_mode": {
    "name": "ipython",
    "version": 3
   },
   "file_extension": ".py",
   "mimetype": "text/x-python",
   "name": "python",
   "nbconvert_exporter": "python",
   "pygments_lexer": "ipython3",
   "version": "3.9.12"
  }
 },
 "nbformat": 4,
 "nbformat_minor": 5
}
